{
 "cells": [
  {
   "cell_type": "markdown",
   "metadata": {},
   "source": [
    "# Question 3: Complementing a Strand of DNA\n",
    "***"
   ]
  },
  {
   "cell_type": "code",
   "execution_count": 6,
   "metadata": {},
   "outputs": [
    {
     "data": {
      "image/png": "[encoded data removed]",
      "text/plain": [
       "<Figure size 432x288 with 2 Axes>"
      ]
     },
     "metadata": {
      "needs_background": "light"
     },
     "output_type": "display_data"
    }
   ],
   "source": [
    "# Libraries: \n",
    "import matplotlib.pyplot as plt\n",
    "import matplotlib.gridspec as gridspec\n",
    "\n",
    "# Data import: \n",
    "Forward_strand = open(\"Input_Data/Attempt2.txt\")\n",
    "Forward_strand = Forward_strand.read()\n",
    "\n",
    "# Analysis: \n",
    "Reverse_strand = Forward_strand[::-1]\n",
    "\n",
    "rev_comp_strand = \"\"\n",
    "\n",
    "for i in Reverse_strand: \n",
    "    \n",
    "    if i == \"A\": \n",
    "        rev_comp_strand += \"T\"\n",
    "        \n",
    "    elif i == \"T\": \n",
    "        rev_comp_strand += \"A\"\n",
    "        \n",
    "    elif i == \"C\": \n",
    "        rev_comp_strand += \"G\"\n",
    "        \n",
    "    elif i == \"G\": \n",
    "        rev_comp_strand += \"C\"\n",
    "\n",
    "# Data Output: \n",
    "DNAOutput = open(\"Output_Data/OutputAttempt2.txt\", \"w\")\n",
    "DNAOutput.write(str(rev_comp_strand))\n",
    "DNAOutput.close()\n",
    "\n",
    "#-----------------------------------------------------------------------------\n",
    "\n",
    "# Visualization: \n",
    "DNA = [\"A\", \"C\", \"G\", \"T\"]\n",
    "DNAValues = [Forward_strand.count('A'), Forward_strand.count('C'), Forward_strand.count('G'), Forward_strand.count('T')]\n",
    "\n",
    "r_c_DNA = [\"A\", \"C\", \"G\", \"T\"]\n",
    "r_c_DNAValues = [rev_comp_strand.count('A'), rev_comp_strand.count('C'), rev_comp_strand.count('G'), rev_comp_strand.count('T')]\n",
    "\n",
    "fig = plt.figure(constrained_layout=True)\n",
    "gs = gridspec.GridSpec(2, 1, figure=fig)\n",
    "ax = fig.add_subplot(gs[0, 0])\n",
    "plt.bar(DNA, DNAValues, color = ['red', 'blue', 'black', 'green'])\n",
    "plt.xlabel('DNA bases')\n",
    "plt.ylabel('No. of Nucleotides')\n",
    "for x,y in zip(DNA,DNAValues):\n",
    "\n",
    "    label = \"{:.2f}\".format(y)\n",
    "\n",
    "    plt.annotate(label, # this is the text\n",
    "                 (x,y), # this is the point to label\n",
    "                 textcoords=\"offset points\", # how to position the text\n",
    "                 xytext=(0,10), # distance from text to points (x,y)\n",
    "                 ha='center') # horizontal alignment can be left, right or center\n",
    "\n",
    "\n",
    "ax2 = fig.add_subplot(gs[1, 0])\n",
    "plt.bar(r_c_DNA, r_c_DNAValues, color = ['red', 'blue', 'black', 'green'])\n",
    "plt.xlabel('Reverse Complement DNA bases')\n",
    "plt.ylabel('No. of Nucleotides')\n",
    "for x,y in zip(r_c_DNA,r_c_DNAValues):\n",
    "\n",
    "    label = \"{:.2f}\".format(y)\n",
    "\n",
    "    plt.annotate(label, # this is the text\n",
    "                 (x,y), # this is the point to label\n",
    "                 textcoords=\"offset points\", # how to position the text\n",
    "                 xytext=(0,10), # distance from text to points (x,y)\n",
    "                 ha='center') # horizontal alignment can be left, right or center\n",
    "\n",
    "\n",
    "plt.savefig(\"Visualization/Attempt2.png\")\n"
   ]
  },
  {
   "cell_type": "code",
   "execution_count": null,
   "metadata": {},
   "outputs": [],
   "source": []
  }
 ],
 "metadata": {
  "kernelspec": {
   "display_name": "Python 3",
   "language": "python",
   "name": "python3"
  },
  "language_info": {
   "codemirror_mode": {
    "name": "ipython",
    "version": 3
   },
   "file_extension": ".py",
   "mimetype": "text/x-python",
   "name": "python",
   "nbconvert_exporter": "python",
   "pygments_lexer": "ipython3",
   "version": "3.7.6"
  }
 },
 "nbformat": 4,
 "nbformat_minor": 4
}
