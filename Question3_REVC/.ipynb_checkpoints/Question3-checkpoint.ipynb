{
 "cells": [
  {
   "cell_type": "code",
   "execution_count": 1,
   "metadata": {},
   "outputs": [],
   "source": [
    "from prettytable import PrettyTable as pt"
   ]
  },
  {
   "cell_type": "code",
   "execution_count": 2,
   "metadata": {},
   "outputs": [],
   "source": [
    "# reading in the Input data from Input_Data Folder:\n",
    "Forward_strand = open(\"Input_Data/rosalind_revc2.txt\")\n",
    "Forward_strand = Forward_strand.read()"
   ]
  },
  {
   "cell_type": "code",
   "execution_count": 3,
   "metadata": {},
   "outputs": [
    {
     "data": {
      "text/plain": [
       "'GGTCCTTGGTGATTCCTTCAAGTTGAACGGGATAACGCCAGCCGCATTTTTTGTAGGGCGACCACAAAAGGTCACTCACTCTGGAATGGATCGAGTTGTTCTACCAACTCCTTTCTACTGATCCCACACCCTCTGTCGCACGTTCGATTATATGTCGCGCTCGTAGTTCATGCATTATAACGTCATAATGCAGAGAAGCGTCTCTGTTGTAGGACGTTACATGTTCGTTACCGTCCCACTGAAGAAACGCGCGGATTGTTTTTACACCTCACCGAGAGACTTTTCACTAGAGCCGCTAATCCTTGGAATATGCCGGATAACGGTCAATCCAGTAGGCGCCGCGTGAAATAGTAAGAAGAACTGTAGACCTGTATCGGAAGCAAAGGCTTAATAATGGCGTCAGCATTCAAGAGCGCAGAGTTGATGCCCGTTCATACCCCCTGCTAGTATGTGGGGGCTTAAATTGGCAAGTAACCAGGTCACCTGTCCTGCAAATCTGTGCTATGGTTACGGAAAGCTGTCGCCATTTAAGCTGTTCGGAAACGACGATCAGTGGTAGACATCGTACGCAGCTTTTATTATCCGAACTAGCAAAGTGGGCTGGCACCTACCTTCTTAAAGCACTTTTATAGGCGTTCGTCATGTTTCAGATGCTTGTGTTGTTACTCCAAACCGCATATGTTGCTCTCCCGTACCCGAACATAGAAGATATGCAAAATTCGATCCGCCAACTAGGGTACTTGGGTGTCAACGAGTTCGAGCTTTAGTCCTGCCGTACACTAGTCTGAACACGCAGAGAGTAGACTTATACTCT\\n'"
      ]
     },
     "execution_count": 3,
     "metadata": {},
     "output_type": "execute_result"
    }
   ],
   "source": [
    "Forward_strand"
   ]
  },
  {
   "cell_type": "code",
   "execution_count": 4,
   "metadata": {},
   "outputs": [],
   "source": [
    "# Now lets declare a function that will process any strand into its reverse complement:\n",
    "def rev_comp_strand(Seq):\n",
    "    Sam_Dataset = Seq                   # Sam_Dataset takes in the entering strand data\n",
    "    Sam_Output = \"\"                     # Sam_Ouput is initiated to build the reverse strand from the input strand in the for loop\n",
    "    for i in Sam_Dataset:\n",
    "        if i == \"A\":\n",
    "            Sam_Output += \"T\"           # if the for loop sees an A, it inputs a T to the Sam_Output variable\n",
    "        if i == \"T\":\n",
    "            Sam_Output += \"A\"           # same goes for T  and so on.....\n",
    "        if i == \"G\":\n",
    "            Sam_Output += \"C\"\n",
    "        if i == \"C\":\n",
    "            Sam_Output += \"G\"\n",
    "\n",
    "    return Sam_Output[::-1]             # this code flips the string in reverse. Thereby ending with a Reverse Complement of the input strand"
   ]
  },
  {
   "cell_type": "code",
   "execution_count": 5,
   "metadata": {},
   "outputs": [],
   "source": [
    "# Now lets use the function RevCompStrand for the input data Forward_strand:\n",
    "Reverse_complement_strand = rev_comp_strand(Forward_strand)"
   ]
  },
  {
   "cell_type": "code",
   "execution_count": 6,
   "metadata": {},
   "outputs": [
    {
     "data": {
      "text/plain": [
       "'AGAGTATAAGTCTACTCTCTGCGTGTTCAGACTAGTGTACGGCAGGACTAAAGCTCGAACTCGTTGACACCCAAGTACCCTAGTTGGCGGATCGAATTTTGCATATCTTCTATGTTCGGGTACGGGAGAGCAACATATGCGGTTTGGAGTAACAACACAAGCATCTGAAACATGACGAACGCCTATAAAAGTGCTTTAAGAAGGTAGGTGCCAGCCCACTTTGCTAGTTCGGATAATAAAAGCTGCGTACGATGTCTACCACTGATCGTCGTTTCCGAACAGCTTAAATGGCGACAGCTTTCCGTAACCATAGCACAGATTTGCAGGACAGGTGACCTGGTTACTTGCCAATTTAAGCCCCCACATACTAGCAGGGGGTATGAACGGGCATCAACTCTGCGCTCTTGAATGCTGACGCCATTATTAAGCCTTTGCTTCCGATACAGGTCTACAGTTCTTCTTACTATTTCACGCGGCGCCTACTGGATTGACCGTTATCCGGCATATTCCAAGGATTAGCGGCTCTAGTGAAAAGTCTCTCGGTGAGGTGTAAAAACAATCCGCGCGTTTCTTCAGTGGGACGGTAACGAACATGTAACGTCCTACAACAGAGACGCTTCTCTGCATTATGACGTTATAATGCATGAACTACGAGCGCGACATATAATCGAACGTGCGACAGAGGGTGTGGGATCAGTAGAAAGGAGTTGGTAGAACAACTCGATCCATTCCAGAGTGAGTGACCTTTTGTGGTCGCCCTACAAAAAATGCGGCTGGCGTTATCCCGTTCAACTTGAAGGAATCACCAAGGACC'"
      ]
     },
     "execution_count": 6,
     "metadata": {},
     "output_type": "execute_result"
    }
   ],
   "source": [
    "Reverse_complement_strand"
   ]
  },
  {
   "cell_type": "code",
   "execution_count": 7,
   "metadata": {},
   "outputs": [],
   "source": [
    "file_save = open(\"Output_Data/rosalind_revc_output.txt\", \"w+\")\n",
    "file_save.write(Reverse_complement_strand)\n",
    "file_save.close()"
   ]
  },
  {
   "cell_type": "code",
   "execution_count": 8,
   "metadata": {},
   "outputs": [
    {
     "name": "stdout",
     "output_type": "stream",
     "text": [
      "+---------------------------+--------+--------+--------+--------+\n",
      "|           Bases           | dA/rcA | dT/rcT | dG/rcG | dC/rcC |\n",
      "+---------------------------+--------+--------+--------+--------+\n",
      "|       Forward Strand      |  206   |  222   |  189   |  197   |\n",
      "| Reverse Complement Strand |  222   |  206   |  197   |  189   |\n",
      "+---------------------------+--------+--------+--------+--------+\n"
     ]
    }
   ],
   "source": [
    "# we can also check the number of bases in both the forward and the reverse complement strand to see if everything got procesed right:\n",
    "\n",
    "# printing the number of bases in a table using the pretty table library:\n",
    "# we are processing the count code in the table code itself:\n",
    "Base_table = pt()\n",
    "Base_table.field_names = [\"Bases\", \"dA/rcA\", \"dT/rcT\", \"dG/rcG\", \"dC/rcC\"]\n",
    "Base_table.add_row([\"Forward Strand\",\n",
    "                    Forward_strand.count(\"A\"),\n",
    "                    Forward_strand.count(\"T\"),\n",
    "                    Forward_strand.count(\"G\"),\n",
    "                    Forward_strand.count(\"C\")])\n",
    "Base_table.add_row([\"Reverse Complement Strand\",\n",
    "                    Reverse_complement_strand.count(\"A\"),\n",
    "                    Reverse_complement_strand.count(\"T\"),\n",
    "                    Reverse_complement_strand.count(\"G\"),\n",
    "                    Reverse_complement_strand.count(\"C\")])\n",
    "\n",
    "print(Base_table)\n",
    "\n",
    "# in the printed out table, the data is interchanged between A and T, and G and C since they are reverse complement."
   ]
  },
  {
   "cell_type": "code",
   "execution_count": null,
   "metadata": {},
   "outputs": [],
   "source": []
  },
  {
   "cell_type": "code",
   "execution_count": null,
   "metadata": {},
   "outputs": [],
   "source": []
  },
  {
   "cell_type": "code",
   "execution_count": null,
   "metadata": {},
   "outputs": [],
   "source": []
  }
 ],
 "metadata": {
  "kernelspec": {
   "display_name": "Python 3",
   "language": "python",
   "name": "python3"
  },
  "language_info": {
   "codemirror_mode": {
    "name": "ipython",
    "version": 3
   },
   "file_extension": ".py",
   "mimetype": "text/x-python",
   "name": "python",
   "nbconvert_exporter": "python",
   "pygments_lexer": "ipython3",
   "version": "3.7.4"
  }
 },
 "nbformat": 4,
 "nbformat_minor": 4
}
