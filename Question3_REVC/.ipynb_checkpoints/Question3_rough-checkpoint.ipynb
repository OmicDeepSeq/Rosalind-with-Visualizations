{
 "cells": [
  {
   "cell_type": "markdown",
   "metadata": {},
   "source": [
    "# Question 3: Complementing a Strand of DNA\n",
    "***"
   ]
  },
  {
   "cell_type": "markdown",
   "metadata": {},
   "source": [
    "## Data Import: "
   ]
  },
  {
   "cell_type": "code",
   "execution_count": 1,
   "metadata": {},
   "outputs": [
    {
     "data": {
      "text/plain": [
       "'AAAACCCGGT'"
      ]
     },
     "execution_count": 1,
     "metadata": {},
     "output_type": "execute_result"
    }
   ],
   "source": [
    "Forward_strand = open(\"Input_Data/SampleData.txt\")\n",
    "Forward_strand = Forward_strand.read()\n",
    "Forward_strand"
   ]
  },
  {
   "cell_type": "markdown",
   "metadata": {},
   "source": [
    "***\n",
    "## Analysis"
   ]
  },
  {
   "cell_type": "markdown",
   "metadata": {},
   "source": [
    "Here we need to find the complement strand for a given DNA strand. There are a lot of ways we can do it:\n",
    "- This link shows some of the common transformations performed (I am going to use the \"extended slice syntax\" method and the explanastion is included underneath): https://www.geeksforgeeks.org/reverse-string-python-5-different-ways/\n",
    "- Using biopython library\n",
    "\n",
    "#### Extended Slice syntax"
   ]
  },
  {
   "cell_type": "code",
   "execution_count": 2,
   "metadata": {},
   "outputs": [
    {
     "data": {
      "text/plain": [
       "'TGGCCCAAAA'"
      ]
     },
     "execution_count": 2,
     "metadata": {},
     "output_type": "execute_result"
    }
   ],
   "source": [
    "Forward_strand[::-1]"
   ]
  },
  {
   "cell_type": "code",
   "execution_count": 4,
   "metadata": {},
   "outputs": [
    {
     "data": {
      "text/plain": [
       "'TGGCCCAAAA'"
      ]
     },
     "execution_count": 4,
     "metadata": {},
     "output_type": "execute_result"
    }
   ],
   "source": [
    "# now lets make the reverse variable: \n",
    "\n",
    "Reverse_strand = Forward_strand[::-1]\n",
    "Reverse_strand"
   ]
  },
  {
   "cell_type": "markdown",
   "metadata": {},
   "source": [
    "Now that we have the reverse complement strand, lets find the reverse of it through a for loop: "
   ]
  },
  {
   "cell_type": "code",
   "execution_count": 18,
   "metadata": {},
   "outputs": [
    {
     "name": "stdout",
     "output_type": "stream",
     "text": [
      "T\n",
      "G\n",
      "G\n",
      "C\n",
      "C\n",
      "C\n",
      "A\n",
      "A\n",
      "A\n",
      "A\n"
     ]
    }
   ],
   "source": [
    "# lets see how the for loop goes through the string of charaters\n",
    "for i in Reverse_strand: \n",
    "    print(i)"
   ]
  },
  {
   "cell_type": "code",
   "execution_count": 19,
   "metadata": {},
   "outputs": [
    {
     "data": {
      "text/plain": [
       "'ACCGGGTTTT'"
      ]
     },
     "execution_count": 19,
     "metadata": {},
     "output_type": "execute_result"
    }
   ],
   "source": [
    "# now lets convert each nucleotide with to its reverse by using a if loop inside the for loop: \n",
    "#https://jaxenter.com/implement-switch-case-statement-python-138315.html\n",
    "\n",
    "# lets make a variable for it: \n",
    "rev_comp_strand = \"\"\n",
    "for i in Reverse_strand: \n",
    "    if i == \"A\": \n",
    "        rev_comp_strand += \"T\"\n",
    "        \n",
    "    elif i == \"T\": \n",
    "        rev_comp_strand += \"A\"\n",
    "        \n",
    "    elif i == \"C\": \n",
    "        rev_comp_strand += \"G\"\n",
    "        \n",
    "    elif i == \"G\": \n",
    "        rev_comp_strand += \"C\"\n",
    "\n",
    "rev_comp_strand"
   ]
  },
  {
   "cell_type": "markdown",
   "metadata": {},
   "source": [
    "#### using Biopython library"
   ]
  },
  {
   "cell_type": "code",
   "execution_count": 5,
   "metadata": {},
   "outputs": [
    {
     "data": {
      "text/plain": [
       "Seq('AAAACCCGGT', IUPACUnambiguousDNA())"
      ]
     },
     "execution_count": 5,
     "metadata": {},
     "output_type": "execute_result"
    }
   ],
   "source": [
    "#Converting the variable \"Forward_strand\" to biopython dna format: \n",
    "\n",
    "from Bio.Seq import Seq\n",
    "from Bio.Alphabet import IUPAC\n",
    "\n",
    "coding_dna = Seq(Forward_strand, IUPAC.unambiguous_dna)\n",
    "coding_dna"
   ]
  },
  {
   "cell_type": "markdown",
   "metadata": {},
   "source": [
    "We can use the command from the belwo link under the section \"3.7  Nucleotide sequences and (reverse) complements\": \n",
    "http://biopython.org/DIST/docs/tutorial/Tutorial.html#htoc3"
   ]
  },
  {
   "cell_type": "code",
   "execution_count": 17,
   "metadata": {},
   "outputs": [
    {
     "data": {
      "text/plain": [
       "Seq('ACCGGGTTTT', IUPACUnambiguousDNA())"
      ]
     },
     "execution_count": 17,
     "metadata": {},
     "output_type": "execute_result"
    }
   ],
   "source": [
    "rev_comp_dna = coding_dna.reverse_complement()\n",
    "rev_comp_dna"
   ]
  },
  {
   "cell_type": "markdown",
   "metadata": {},
   "source": [
    "***\n",
    "## Data Output: "
   ]
  },
  {
   "cell_type": "code",
   "execution_count": 21,
   "metadata": {},
   "outputs": [],
   "source": [
    "DNAOutput = open(\"Output_Data/SampleOutput.txt\", \"w\")\n",
    "DNAOutput.write(str(rev_comp_dna))\n",
    "DNAOutput.close()"
   ]
  },
  {
   "cell_type": "markdown",
   "metadata": {},
   "source": [
    "***\n",
    "## Visualization: "
   ]
  },
  {
   "cell_type": "code",
   "execution_count": 20,
   "metadata": {},
   "outputs": [
    {
     "data": {
      "image/png": "[encoded data removed]",
      "text/plain": [
       "<Figure size 432x288 with 2 Axes>"
      ]
     },
     "metadata": {
      "needs_background": "light"
     },
     "output_type": "display_data"
    }
   ],
   "source": [
    "\n",
    "DNA = [\"A\", \"C\", \"G\", \"T\"]\n",
    "DNAValues = [coding_dna.count('A'), coding_dna.count('C'), coding_dna.count('G'), coding_dna.count('T')]\n",
    "\n",
    "r_c_DNA = [\"A\", \"C\", \"G\", \"T\"]\n",
    "r_c_DNAValues = [rev_comp_dna.count('A'), rev_comp_dna.count('C'), rev_comp_dna.count('G'), rev_comp_dna.count('T')]\n",
    "\n",
    "import matplotlib.pyplot as plt\n",
    "import matplotlib.gridspec as gridspec\n",
    "\n",
    "\n",
    "fig = plt.figure(constrained_layout=True)\n",
    "gs = gridspec.GridSpec(2, 1, figure=fig)\n",
    "ax = fig.add_subplot(gs[0, 0])\n",
    "plt.bar(DNA, DNAValues, color = ['red', 'blue', 'black', 'green'])\n",
    "plt.xlabel('DNA bases')\n",
    "plt.ylabel('No. of Nucleotides')\n",
    "for x,y in zip(DNA,DNAValues):\n",
    "\n",
    "    label = \"{:.2f}\".format(y)\n",
    "\n",
    "    plt.annotate(label, # this is the text\n",
    "                 (x,y), # this is the point to label\n",
    "                 textcoords=\"offset points\", # how to position the text\n",
    "                 xytext=(0,10), # distance from text to points (x,y)\n",
    "                 ha='center') # horizontal alignment can be left, right or center\n",
    "\n",
    "\n",
    "ax2 = fig.add_subplot(gs[1, 0])\n",
    "plt.bar(r_c_DNA, r_c_DNAValues, color = ['red', 'blue', 'black', 'green'])\n",
    "plt.xlabel('Reverse Complement DNA bases')\n",
    "plt.ylabel('No. of Nucleotides')\n",
    "for x,y in zip(r_c_DNA,r_c_DNAValues):\n",
    "\n",
    "    label = \"{:.2f}\".format(y)\n",
    "\n",
    "    plt.annotate(label, # this is the text\n",
    "                 (x,y), # this is the point to label\n",
    "                 textcoords=\"offset points\", # how to position the text\n",
    "                 xytext=(0,10), # distance from text to points (x,y)\n",
    "                 ha='center') # horizontal alignment can be left, right or center\n",
    "\n",
    "\n",
    "plt.savefig(\"Visualization/SampleData.png\")"
   ]
  },
  {
   "cell_type": "code",
   "execution_count": null,
   "metadata": {},
   "outputs": [],
   "source": []
  }
 ],
 "metadata": {
  "kernelspec": {
   "display_name": "Python 3",
   "language": "python",
   "name": "python3"
  },
  "language_info": {
   "codemirror_mode": {
    "name": "ipython",
    "version": 3
   },
   "file_extension": ".py",
   "mimetype": "text/x-python",
   "name": "python",
   "nbconvert_exporter": "python",
   "pygments_lexer": "ipython3",
   "version": "3.7.6"
  }
 },
 "nbformat": 4,
 "nbformat_minor": 4
}
