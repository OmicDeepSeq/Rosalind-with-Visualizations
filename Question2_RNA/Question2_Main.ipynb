{
 "cells": [
  {
   "cell_type": "markdown",
   "metadata": {},
   "source": [
    "# Question 2: Transcribing DNA into RNA\n",
    "***"
   ]
  },
  {
   "cell_type": "code",
   "execution_count": 1,
   "metadata": {},
   "outputs": [
    {
     "data": {
      "image/png": "[encoded data removed]",
      "text/plain": [
       "<Figure size 432x288 with 2 Axes>"
      ]
     },
     "metadata": {
      "needs_background": "light"
     },
     "output_type": "display_data"
    }
   ],
   "source": [
    "# Libraires: \n",
    "from Bio.Seq import Seq\n",
    "from Bio.Alphabet import IUPAC\n",
    "\n",
    "# Data Import \n",
    "DNAFile = open(\"Input_Data/Attempt1.txt\")\n",
    "DNA_Sequence = DNAFile.read()\n",
    "\n",
    "# Analysis using BioPython: \n",
    "coding_dna = Seq(DNA_Sequence, IUPAC.unambiguous_dna)\n",
    "messenger_rna = coding_dna.transcribe()\n",
    "\n",
    "#Data Ouput: \n",
    "DNAOutput = open(\"Output_Data/OuputAttempt1.txt\", \"w\")\n",
    "DNAOutput.write(str(messenger_rna))\n",
    "DNAOutput.close()\n",
    "\n",
    "#-----------------------------------------------------\n",
    "\n",
    "# Data Visulization: \n",
    "DNA = [\"A\", \"C\", \"G\", \"T\"]\n",
    "DNAValues = [coding_dna.count(\"A\"), \n",
    "             coding_dna.count(\"C\"), \n",
    "             coding_dna.count(\"G\"), \n",
    "             coding_dna.count(\"T\")]\n",
    "\n",
    "RNA = [\"A\", \"C\", \"G\", \"U\"]\n",
    "RNAValues = [messenger_rna.count(\"A\"), \n",
    "             messenger_rna.count(\"C\"), \n",
    "             messenger_rna.count(\"G\"), \n",
    "             messenger_rna.count(\"U\")]\n",
    "\n",
    "import matplotlib.pyplot as plt\n",
    "import matplotlib.gridspec as gridspec\n",
    "\n",
    "\n",
    "fig = plt.figure(constrained_layout=True)\n",
    "gs = gridspec.GridSpec(2, 1, figure=fig)\n",
    "ax = fig.add_subplot(gs[0, 0])\n",
    "plt.bar(DNA, DNAValues, color = ['red', 'blue', 'black', 'green'])\n",
    "plt.xlabel('DNA bases')\n",
    "plt.ylabel('No. of Nucleotides')\n",
    "for x,y in zip(DNA,DNAValues):\n",
    "\n",
    "    label = \"{:.2f}\".format(y)\n",
    "\n",
    "    plt.annotate(label, # this is the text\n",
    "                 (x,y), # this is the point to label\n",
    "                 textcoords=\"offset points\", # how to position the text\n",
    "                 xytext=(0,10), # distance from text to points (x,y)\n",
    "                 ha='center') # horizontal alignment can be left, right or center\n",
    "\n",
    "\n",
    "ax2 = fig.add_subplot(gs[1, 0])\n",
    "plt.bar(RNA, RNAValues, color = ['red', 'blue', 'black', 'green'])\n",
    "plt.xlabel('RNA bases')\n",
    "plt.ylabel('No. of Nucleotides')\n",
    "for x,y in zip(RNA,RNAValues):\n",
    "\n",
    "    label = \"{:.2f}\".format(y)\n",
    "\n",
    "    plt.annotate(label, # this is the text\n",
    "                 (x,y), # this is the point to label\n",
    "                 textcoords=\"offset points\", # how to position the text\n",
    "                 xytext=(0,10), # distance from text to points (x,y)\n",
    "                 ha='center') # horizontal alignment can be left, right or center\n",
    "\n",
    "\n",
    "plt.savefig(\"Visualization/Attempt1.png\")"
   ]
  },
  {
   "cell_type": "code",
   "execution_count": null,
   "metadata": {},
   "outputs": [],
   "source": []
  }
 ],
 "metadata": {
  "kernelspec": {
   "display_name": "Python 3",
   "language": "python",
   "name": "python3"
  },
  "language_info": {
   "codemirror_mode": {
    "name": "ipython",
    "version": 3
   },
   "file_extension": ".py",
   "mimetype": "text/x-python",
   "name": "python",
   "nbconvert_exporter": "python",
   "pygments_lexer": "ipython3",
   "version": "3.7.6"
  }
 },
 "nbformat": 4,
 "nbformat_minor": 4
}
