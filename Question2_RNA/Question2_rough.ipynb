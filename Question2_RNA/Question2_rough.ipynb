{
 "cells": [
  {
   "cell_type": "markdown",
   "metadata": {},
   "source": [
    "# Question 2: Transcribing DNA into RNA"
   ]
  },
  {
   "cell_type": "markdown",
   "metadata": {},
   "source": [
    "***"
   ]
  },
  {
   "cell_type": "markdown",
   "metadata": {},
   "source": [
    "## Data Import: \n",
    "\n",
    "Following the same instructions as question1 data import section, we will save the sample data from the roslind question page into a text file in Input_Data folder and import it using the python built in functions. "
   ]
  },
  {
   "cell_type": "code",
   "execution_count": 2,
   "metadata": {},
   "outputs": [
    {
     "data": {
      "text/plain": [
       "'GATGGAACTTGACTACGTAAATT'"
      ]
     },
     "execution_count": 2,
     "metadata": {},
     "output_type": "execute_result"
    }
   ],
   "source": [
    "DNAFile = open(\"Input_Data/SampleData.txt\")\n",
    "DNA_Sequence = DNAFile.read()\n",
    "DNA_Sequence"
   ]
  },
  {
   "cell_type": "markdown",
   "metadata": {},
   "source": [
    "***"
   ]
  },
  {
   "cell_type": "markdown",
   "metadata": {},
   "source": [
    "## Analysis\n",
    "\n",
    "Out goal for this question is to change the DNA strand to a RNA strand. This is done by replacing the Thymine nucleotides to Uracil. \n",
    "\n",
    "We can do this **two ways**: \n",
    "- by using the built in python function to replace characters in s atring.\n",
    "- and using the biopython library to transcribe the DNA strand.\n",
    "\n",
    "link to character replacement: https://www.geeksforgeeks.org/python-string-replace/\n",
    "\n",
    "First lets count the nucleotides in DNA and then convert the DNA to RNA and then count the nucleotides in RNA. \n",
    "\n",
    "#### Using python built in string functions: "
   ]
  },
  {
   "cell_type": "code",
   "execution_count": 3,
   "metadata": {},
   "outputs": [
    {
     "name": "stdout",
     "output_type": "stream",
     "text": [
      "8 7 5 3\n"
     ]
    }
   ],
   "source": [
    "dA = DNA_Sequence.count(\"A\")\n",
    "dT = DNA_Sequence.count(\"T\")\n",
    "dG = DNA_Sequence.count(\"G\")\n",
    "dC = DNA_Sequence.count(\"C\")\n",
    "\n",
    "print(dA, dT, dG, dC)"
   ]
  },
  {
   "cell_type": "markdown",
   "metadata": {},
   "source": [
    "Now lets replace the nucleotides"
   ]
  },
  {
   "cell_type": "code",
   "execution_count": 4,
   "metadata": {},
   "outputs": [
    {
     "name": "stdout",
     "output_type": "stream",
     "text": [
      "GAUGGAACUUGACUACGUAAAUU\n"
     ]
    }
   ],
   "source": [
    "RNA_Sequence = DNA_Sequence.replace(\"T\", \"U\")\n",
    "print(RNA_Sequence)"
   ]
  },
  {
   "cell_type": "code",
   "execution_count": 5,
   "metadata": {},
   "outputs": [
    {
     "name": "stdout",
     "output_type": "stream",
     "text": [
      "GATGGAACTTGACTACGTAAATT\n",
      "GAUGGAACUUGACUACGUAAAUU\n"
     ]
    }
   ],
   "source": [
    "# lets take a look at the DNA and RNA sequence together \n",
    "print(DNA_Sequence)\n",
    "print(RNA_Sequence)"
   ]
  },
  {
   "cell_type": "markdown",
   "metadata": {},
   "source": [
    "Now lets count the no. of Nucelotides in the RNA: "
   ]
  },
  {
   "cell_type": "code",
   "execution_count": 6,
   "metadata": {},
   "outputs": [
    {
     "name": "stdout",
     "output_type": "stream",
     "text": [
      "8 7 5 3\n"
     ]
    }
   ],
   "source": [
    "rA = RNA_Sequence.count(\"A\")\n",
    "rU = RNA_Sequence.count(\"U\")\n",
    "rG = RNA_Sequence.count(\"G\")\n",
    "rC = RNA_Sequence.count(\"C\")\n",
    "\n",
    "print(rA, rU, rG, rC)"
   ]
  },
  {
   "cell_type": "markdown",
   "metadata": {},
   "source": [
    "Now lets use the biopython library that you installed by following the instruction on the PPT on how to set up jupyter lab: \n",
    "    \n",
    "#### Using Biopython\n",
    "\n",
    "I am using this link to get the right commands to make this work: http://biopython.org/DIST/docs/tutorial/Tutorial.html#htoc3\n",
    "Look under the session \"3.8  Transcription\" for the code that I referred to. "
   ]
  },
  {
   "cell_type": "code",
   "execution_count": 10,
   "metadata": {},
   "outputs": [
    {
     "data": {
      "text/plain": [
       "Seq('GATGGAACTTGACTACGTAAATT', IUPACUnambiguousDNA())"
      ]
     },
     "execution_count": 10,
     "metadata": {},
     "output_type": "execute_result"
    }
   ],
   "source": [
    "from Bio.Seq import Seq\n",
    "from Bio.Alphabet import IUPAC\n",
    "\n",
    "coding_dna = Seq(DNA_Sequence, IUPAC.unambiguous_dna)\n",
    "coding_dna"
   ]
  },
  {
   "cell_type": "code",
   "execution_count": 11,
   "metadata": {},
   "outputs": [
    {
     "data": {
      "text/plain": [
       "Seq('GAUGGAACUUGACUACGUAAAUU', IUPACUnambiguousRNA())"
      ]
     },
     "execution_count": 11,
     "metadata": {},
     "output_type": "execute_result"
    }
   ],
   "source": [
    "messenger_rna = coding_dna.transcribe()\n",
    "messenger_rna"
   ]
  },
  {
   "cell_type": "code",
   "execution_count": 20,
   "metadata": {},
   "outputs": [
    {
     "name": "stdout",
     "output_type": "stream",
     "text": [
      "GAUGGAACUUGACUACGUAAAUU\n"
     ]
    }
   ],
   "source": [
    "# now to get the sequence only we will have to do this: \n",
    "print(str(messenger_rna))"
   ]
  },
  {
   "cell_type": "markdown",
   "metadata": {},
   "source": [
    "***"
   ]
  },
  {
   "cell_type": "markdown",
   "metadata": {},
   "source": [
    "## Data Ouput: "
   ]
  },
  {
   "cell_type": "code",
   "execution_count": 21,
   "metadata": {},
   "outputs": [],
   "source": [
    "DNAOutput = open(\"Output_Data/SampleOutput.txt\", \"w\")\n",
    "DNAOutput.write(str(messenger_rna))\n",
    "DNAOutput.close()"
   ]
  },
  {
   "cell_type": "markdown",
   "metadata": {},
   "source": [
    "***"
   ]
  },
  {
   "cell_type": "markdown",
   "metadata": {},
   "source": [
    "## Data Visulization: \n",
    "\n",
    "Link to site that I used: https://matplotlib.org/gallery/lines_bars_and_markers/psd_demo.html#sphx-glr-gallery-lines-bars-and-markers-psd-demo-py\n",
    "\n",
    "Link I used to get the code for labelling the bars: http://queirozf.com/entries/add-labels-and-text-to-matplotlib-plots-annotation-examples"
   ]
  },
  {
   "cell_type": "code",
   "execution_count": 18,
   "metadata": {},
   "outputs": [
    {
     "data": {
      "image/png": "[encoded data removed]",
      "text/plain": [
       "<Figure size 432x288 with 2 Axes>"
      ]
     },
     "metadata": {
      "needs_background": "light"
     },
     "output_type": "display_data"
    }
   ],
   "source": [
    "\n",
    "DNA = [\"A\", \"C\", \"G\", \"T\"]\n",
    "DNAValues = [dA, dC, dG, dT]\n",
    "\n",
    "RNA = [\"A\", \"C\", \"G\", \"U\"]\n",
    "RNAValues = [rA, rC, rG, rU]\n",
    "\n",
    "import matplotlib.pyplot as plt\n",
    "import matplotlib.gridspec as gridspec\n",
    "\n",
    "\n",
    "fig = plt.figure(constrained_layout=True)\n",
    "gs = gridspec.GridSpec(2, 1, figure=fig)\n",
    "ax = fig.add_subplot(gs[0, 0])\n",
    "plt.bar(DNA, DNAValues, color = ['red', 'blue', 'black', 'green'])\n",
    "plt.xlabel('DNA bases')\n",
    "plt.ylabel('No. of Nucleotides')\n",
    "for x,y in zip(DNA,DNAValues):\n",
    "\n",
    "    label = \"{:.2f}\".format(y)\n",
    "\n",
    "    plt.annotate(label, # this is the text\n",
    "                 (x,y), # this is the point to label\n",
    "                 textcoords=\"offset points\", # how to position the text\n",
    "                 xytext=(0,10), # distance from text to points (x,y)\n",
    "                 ha='center') # horizontal alignment can be left, right or center\n",
    "\n",
    "\n",
    "ax2 = fig.add_subplot(gs[1, 0])\n",
    "plt.bar(RNA, RNAValues, color = ['red', 'blue', 'black', 'green'])\n",
    "plt.xlabel('RNA bases')\n",
    "plt.ylabel('No. of Nucleotides')\n",
    "for x,y in zip(RNA,RNAValues):\n",
    "\n",
    "    label = \"{:.2f}\".format(y)\n",
    "\n",
    "    plt.annotate(label, # this is the text\n",
    "                 (x,y), # this is the point to label\n",
    "                 textcoords=\"offset points\", # how to position the text\n",
    "                 xytext=(0,10), # distance from text to points (x,y)\n",
    "                 ha='center') # horizontal alignment can be left, right or center\n",
    "\n",
    "\n",
    "plt.savefig(\"Visualization/SampleData.png\")"
   ]
  },
  {
   "cell_type": "code",
   "execution_count": null,
   "metadata": {},
   "outputs": [],
   "source": []
  },
  {
   "cell_type": "code",
   "execution_count": null,
   "metadata": {},
   "outputs": [],
   "source": []
  },
  {
   "cell_type": "code",
   "execution_count": null,
   "metadata": {},
   "outputs": [],
   "source": []
  }
 ],
 "metadata": {
  "kernelspec": {
   "display_name": "Python 3",
   "language": "python",
   "name": "python3"
  },
  "language_info": {
   "codemirror_mode": {
    "name": "ipython",
    "version": 3
   },
   "file_extension": ".py",
   "mimetype": "text/x-python",
   "name": "python",
   "nbconvert_exporter": "python",
   "pygments_lexer": "ipython3",
   "version": "3.7.6"
  }
 },
 "nbformat": 4,
 "nbformat_minor": 4
}
