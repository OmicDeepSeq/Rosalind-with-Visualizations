{
 "cells": [
  {
   "cell_type": "markdown",
   "metadata": {},
   "source": [
    "# Question 8: Translating RNA into Protein\n",
    "***\n",
    "# Data Import"
   ]
  },
  {
   "cell_type": "code",
   "execution_count": 35,
   "metadata": {},
   "outputs": [
    {
     "data": {
      "text/plain": [
       "'AUGGCCAUGGCGCCCAGAACUGAGAUCAAUAGUACCCGUAUUAACGGGUGA'"
      ]
     },
     "execution_count": 35,
     "metadata": {},
     "output_type": "execute_result"
    }
   ],
   "source": [
    "mRNA = open(\"Input_Data/SampleData.txt\")\n",
    "mRNA = mRNA.read()\n",
    "mRNA"
   ]
  },
  {
   "cell_type": "markdown",
   "metadata": {},
   "source": [
    "## Analysis\n",
    "lets see if we can use a simple command to find the number of start codons: "
   ]
  },
  {
   "cell_type": "code",
   "execution_count": 36,
   "metadata": {},
   "outputs": [
    {
     "data": {
      "text/plain": [
       "0"
      ]
     },
     "execution_count": 36,
     "metadata": {},
     "output_type": "execute_result"
    }
   ],
   "source": [
    "mRNA.find('AUG')"
   ]
  },
  {
   "cell_type": "markdown",
   "metadata": {},
   "source": [
    "Here the 0 represents that the FIRST \"AUG\" that the code sees is at the 0th position of the string \n",
    "\n",
    "Now lets see if we can visualize the start and stop codons in the mRNA by highlighting them. \n",
    "\n",
    "I got this code to change the color of the string by using a simple command from this website: \n",
    "\n",
    "https://softwareengineering.stackexchange.com/questions/362915/looking-for-information-about-coloring-highlighting-output-text-in-python\n",
    "\n",
    "https://gist.github.com/vratiu/9780109\n",
    "\n",
    "I got this code from the link above: \n",
    "\n",
    "\n",
    "Red=\"\\[\\033[0;31m\\]\"          # Red\n",
    "\n",
    "Green=\"\\[\\033[0;32m\\]\"        # Green\n",
    "\n",
    "Yellow=\"\\[\\033[0;33m\\]\"       # Yellow\n",
    "\n",
    "Blue=\"\\[\\033[0;34m\\]\"         # Blue\n",
    "\n",
    "Black=\"\\[\\033[0;30m\\]\"        # Black\n",
    "\n",
    "\n",
    "to use this  had to look up another link: \n",
    "\n",
    "link: https://www.guru99.com/python-regular-expressions-complete-tutorial.html"
   ]
  },
  {
   "cell_type": "code",
   "execution_count": 37,
   "metadata": {},
   "outputs": [
    {
     "name": "stdout",
     "output_type": "stream",
     "text": [
      "\u001b[31mAUGGCCAUGGCGCCCAGAACUGAGAUCAAUAGUACCCGUAUUAACGGGUGA\u001b[0m\n"
     ]
    }
   ],
   "source": [
    "print('\\033[31m' + str(mRNA) + '\\033[0m')"
   ]
  },
  {
   "cell_type": "markdown",
   "metadata": {},
   "source": [
    "Now we can change the color by changing the 31 to other numbers "
   ]
  },
  {
   "cell_type": "code",
   "execution_count": 38,
   "metadata": {},
   "outputs": [
    {
     "name": "stdout",
     "output_type": "stream",
     "text": [
      "\u001b[31mAUGGCCAUGGCGCCCAGAACUGAGAUCAAUAGUACCCGUAUUAACGGGUGA\u001b[0m\n",
      "\u001b[32mAUGGCCAUGGCGCCCAGAACUGAGAUCAAUAGUACCCGUAUUAACGGGUGA\u001b[0m\n",
      "\u001b[33mAUGGCCAUGGCGCCCAGAACUGAGAUCAAUAGUACCCGUAUUAACGGGUGA\u001b[0m\n",
      "\u001b[34mAUGGCCAUGGCGCCCAGAACUGAGAUCAAUAGUACCCGUAUUAACGGGUGA\u001b[0m\n"
     ]
    }
   ],
   "source": [
    "print('\\033[31m' + str(mRNA) + '\\033[0m')\n",
    "print('\\033[32m' + str(mRNA) + '\\033[0m')\n",
    "print('\\033[33m' + str(mRNA) + '\\033[0m')\n",
    "print('\\033[34m' + str(mRNA) + '\\033[0m')"
   ]
  },
  {
   "cell_type": "markdown",
   "metadata": {},
   "source": [
    "Now when I was searching for a function that could find all the word I want across the entire string, I came across this library called \"re\" and its short for regular expression. I think it is already availablein python so no need to install it but if yo ud get an error then please do istall it by following the instruction in the puther ppt that i have on workplace. "
   ]
  },
  {
   "cell_type": "code",
   "execution_count": 39,
   "metadata": {},
   "outputs": [
    {
     "data": {
      "text/plain": [
       "['AUG', 'AUG']"
      ]
     },
     "execution_count": 39,
     "metadata": {},
     "output_type": "execute_result"
    }
   ],
   "source": [
    "import re\n",
    "\n",
    "# lets see how many \"AUG\" start codons there are in this string\n",
    "re.findall(\"AUG\", mRNA)"
   ]
  },
  {
   "cell_type": "markdown",
   "metadata": {},
   "source": [
    "we can see that there are two start codons but now I want the position and if ound the function for it in this link \n",
    "\n",
    "link: https://pythonforbiologists.com/regular-expressions\n",
    "\n",
    "Scroll down to \"Multiple Matchs\" Session "
   ]
  },
  {
   "cell_type": "code",
   "execution_count": 40,
   "metadata": {},
   "outputs": [
    {
     "name": "stdout",
     "output_type": "stream",
     "text": [
      "AUG found at position 0\n",
      "AUG found at position 6\n"
     ]
    }
   ],
   "source": [
    "matches = re.finditer(\"AUG\", mRNA) \n",
    "\n",
    "for m in matches: \n",
    "    base = m.group() \n",
    "    pos  = m.start() \n",
    "    print(base + \" found at position \" + str(pos))"
   ]
  },
  {
   "cell_type": "markdown",
   "metadata": {},
   "source": [
    "So we can use this \"finditer\" and the for loop to get the position for each one. \n",
    "\n",
    "Now lets use that to hightlight all the start codon in blue"
   ]
  },
  {
   "cell_type": "code",
   "execution_count": 41,
   "metadata": {},
   "outputs": [
    {
     "name": "stdout",
     "output_type": "stream",
     "text": [
      "Before First start codon               =  \n",
      "\n",
      "After highlighting the  1  start codon =  \u001b[34mAUG\u001b[0m\n",
      "\n",
      "Before  2  start codon                 =  \u001b[34mAUG\u001b[0mGCC\n",
      "\n",
      "After highlighting the  2  start codon =  \u001b[34mAUG\u001b[0mGCC\u001b[34mAUG\u001b[0m\n",
      "\n",
      "After adding end of last start codon   =  \u001b[34mAUG\u001b[0mGCC\u001b[34mAUG\u001b[0mGCGCCCAGAACUGAGAUCAAUAGUACCCGUAUUAACGGGUGA\n"
     ]
    }
   ],
   "source": [
    "matches = re.finditer(\"AUG\", mRNA) \n",
    "\n",
    "strand = ''                                            # initiate a variable to store the highlighted mRNA string\n",
    "\n",
    "for index, m in enumerate(matches): \n",
    "    pos  = m.start() \n",
    "    \n",
    "    if index == 0:                                   # when the loop start, we add everything in front of the first start codon to the string\n",
    "        strand = file[:pos]\n",
    "        print(\"Before First start codon               = \", strand)\n",
    "        \n",
    "    elif index != 0:                                 # in all other start codons, it gets simply added to the strand\n",
    "        strand = strand + file[(pos_p+3):pos]\n",
    "        print(\"\\nBefore \", index+1, \" start codon                 = \", strand)\n",
    "\n",
    "    strand = strand + '\\033[34m' + file[pos:(pos+3)] + '\\033[0m'\n",
    "    print(\"\\nAfter highlighting the \", index+1, \" start codon = \", strand)\n",
    "    pos_p = pos\n",
    "    \n",
    "strand = strand + file[(pos+3)::]\n",
    "\n",
    "print(\"\\nAfter adding end of last start codon   = \", strand)"
   ]
  },
  {
   "cell_type": "markdown",
   "metadata": {},
   "source": [
    "Now that we have highlighted the start codons, lets compare: "
   ]
  },
  {
   "cell_type": "code",
   "execution_count": 42,
   "metadata": {},
   "outputs": [
    {
     "name": "stdout",
     "output_type": "stream",
     "text": [
      "\u001b[34mAUG\u001b[0mGCC\u001b[34mAUG\u001b[0mGCGCCCAGAACUGAGAUCAAUAGUACCCGUAUUAACGGGUGA\n",
      "AUGGCCAUGGCGCCCAGAACUGAGAUCAAUAGUACCCGUAUUAACGGGUGA\n"
     ]
    }
   ],
   "source": [
    "print(strand)\n",
    "print(mRNA)"
   ]
  },
  {
   "cell_type": "markdown",
   "metadata": {},
   "source": [
    "Now lets write a function to highlight it which codon to and what color to incorporate: "
   ]
  },
  {
   "cell_type": "code",
   "execution_count": 43,
   "metadata": {},
   "outputs": [],
   "source": [
    "def highlight_codon(codon, strand, color):\n",
    "\n",
    "    matches = re.finditer(codon, strand) \n",
    "    strand_2 = ''\n",
    "    for index, m in enumerate(matches): \n",
    "        pos  = m.start() \n",
    "        if index == 0: \n",
    "            strand_2 = strand_2 + strand[:pos]\n",
    "            #print(strand_2)\n",
    "\n",
    "        elif index != 0: \n",
    "            strand_2 = strand_2 +strand[(pos_p+3):pos]\n",
    "            #print(strand_2)\n",
    "\n",
    "        strand_2 = strand_2 + '\\033[3' + str(color) + 'm'\n",
    "        #print(strand_2)\n",
    "        strand_2 = strand_2 + strand[pos:(pos+3)] + '\\033[0m'\n",
    "        #print(strand_2)\n",
    "        pos_p = pos\n",
    "\n",
    "    strand_2 = strand_2 + strand[(pos+3)::]\n",
    "\n",
    "    #print(strand_2)\n",
    "    \n",
    "    return(strand_2)"
   ]
  },
  {
   "cell_type": "markdown",
   "metadata": {},
   "source": [
    "Now lets start with the mRNA and incorporate the start (AUG) and all the stop codons which are (UAA, UAG, UGA)"
   ]
  },
  {
   "cell_type": "code",
   "execution_count": 44,
   "metadata": {},
   "outputs": [
    {
     "name": "stdout",
     "output_type": "stream",
     "text": [
      "AUGGCCAUGGCGCCCAGAACUGAGAUCAAUAGUACCCGUAUUAACGGGUGA\n",
      "\u001b[34mAUG\u001b[0mGCC\u001b[34mAUG\u001b[0mGCGCCCAGAACUGAGAUCAAUAGUACCCGUAUUAACGGGUGA\n",
      "\u001b[34mAUG\u001b[0mGCC\u001b[34mAUG\u001b[0mGCGCCCAGAACUGAGAUCAAUAGUACCCGUAU\u001b[31mUAA\u001b[0mCGGGUGA\n",
      "\u001b[34mAUG\u001b[0mGCC\u001b[34mAUG\u001b[0mGCGCCCAGAACUGAGAUCAA\u001b[31mUAG\u001b[0mUACCCGUAU\u001b[31mUAA\u001b[0mCGGGUGA\n",
      "\u001b[34mAUG\u001b[0mGCC\u001b[34mAUG\u001b[0mGCGCCCAGAAC\u001b[31mUGA\u001b[0mGAUCAA\u001b[31mUAG\u001b[0mUACCCGUAU\u001b[31mUAA\u001b[0mCGGG\u001b[31mUGA\u001b[0m\n"
     ]
    }
   ],
   "source": [
    "print(mRNA)\n",
    "h_mRNA = highlight_codon(\"AUG\", mRNA, 4)\n",
    "print(h_mRNA)\n",
    "h_mRNA = highlight_codon(\"UAA\", h_mRNA, 1)\n",
    "print(h_mRNA)\n",
    "h_mRNA = highlight_codon(\"UAG\", h_mRNA, 1)\n",
    "print(h_mRNA)\n",
    "h_mRNA = highlight_codon(\"UGA\", h_mRNA, 1)\n",
    "print(h_mRNA)"
   ]
  },
  {
   "cell_type": "markdown",
   "metadata": {},
   "source": [
    "# BUT"
   ]
  },
  {
   "cell_type": "markdown",
   "metadata": {},
   "source": [
    "we have highlighted all the start and stop codons but we need to know which stop codon the firsrt start codon will fall on, so for that lets write another lopp which does that and also creates a dataframe for us to use to solve this problem: "
   ]
  },
  {
   "cell_type": "code",
   "execution_count": 75,
   "metadata": {},
   "outputs": [
    {
     "name": "stdout",
     "output_type": "stream",
     "text": [
      "\u001b[34mAUG\u001b[0mGCC\n",
      "\u001b[34mAUG\u001b[0mGCCAUG\n",
      "\u001b[34mAUG\u001b[0mGCCAUGGCG\n",
      "\u001b[34mAUG\u001b[0mGCCAUGGCGCCC\n",
      "\u001b[34mAUG\u001b[0mGCCAUGGCGCCCAGA\n",
      "\u001b[34mAUG\u001b[0mGCCAUGGCGCCCAGAACU\n",
      "\u001b[34mAUG\u001b[0mGCCAUGGCGCCCAGAACUGAG\n",
      "\u001b[34mAUG\u001b[0mGCCAUGGCGCCCAGAACUGAGAUC\n",
      "\u001b[34mAUG\u001b[0mGCCAUGGCGCCCAGAACUGAGAUCAAU\n",
      "\u001b[34mAUG\u001b[0mGCCAUGGCGCCCAGAACUGAGAUCAAUAGU\n",
      "\u001b[34mAUG\u001b[0mGCCAUGGCGCCCAGAACUGAGAUCAAUAGUACC\n",
      "\u001b[34mAUG\u001b[0mGCCAUGGCGCCCAGAACUGAGAUCAAUAGUACCCGU\n",
      "\u001b[34mAUG\u001b[0mGCCAUGGCGCCCAGAACUGAGAUCAAUAGUACCCGUAUU\n",
      "\u001b[34mAUG\u001b[0mGCCAUGGCGCCCAGAACUGAGAUCAAUAGUACCCGUAUUAAC\n",
      "\u001b[34mAUG\u001b[0mGCCAUGGCGCCCAGAACUGAGAUCAAUAGUACCCGUAUUAACGGG\n",
      "\u001b[34mAUG\u001b[0mGCCAUGGCGCCCAGAACUGAGAUCAAUAGUACCCGUAUUAACGGG\u001b[31mUGA\u001b[0m\n"
     ]
    }
   ],
   "source": [
    "import pandas as pd\n",
    "df_protein = pd.DataFrame(columns = ['codon'])\n",
    "\n",
    "start_p = mRNA.find('AUG')                                     # finds the first AUG\n",
    "\n",
    "t_mRNA = mRNA[:start_p] + '\\033[34m' + mRNA[start_p:(start_p+3)] + '\\033[0m'      \n",
    "df_protein = df_protein.append({'codon': mRNA[start_p:(start_p+3)]}, ignore_index = True)\n",
    "start_p += 3\n",
    "\n",
    "while mRNA[start_p:(start_p+3)] not in [\"UAA\", \"UAG\", \"UGA\"]: \n",
    "    t_mRNA += mRNA[start_p:(start_p+3)]\n",
    "    print(t_mRNA)\n",
    "    df_protein = df_protein.append({'codon': mRNA[start_p:(start_p+3)]}, ignore_index = True)\n",
    "\n",
    "    start_p +=3\n",
    "\n",
    "t_mRNA = t_mRNA + '\\033[31m' + mRNA[start_p:(start_p+3)] + '\\033[0m'\n",
    "print(t_mRNA)"
   ]
  },
  {
   "cell_type": "markdown",
   "metadata": {},
   "source": [
    "now lets take a look at the both highlighted string"
   ]
  },
  {
   "cell_type": "code",
   "execution_count": 76,
   "metadata": {},
   "outputs": [
    {
     "name": "stdout",
     "output_type": "stream",
     "text": [
      "\u001b[34mAUG\u001b[0mGCC\u001b[34mAUG\u001b[0mGCGCCCAGAAC\u001b[31mUGA\u001b[0mGAUCAA\u001b[31mUAG\u001b[0mUACCCGUAU\u001b[31mUAA\u001b[0mCGGG\u001b[31mUGA\u001b[0m\n",
      "\u001b[34mAUG\u001b[0mGCCAUGGCGCCCAGAACUGAGAUCAAUAGUACCCGUAUUAACGGG\u001b[31mUGA\u001b[0m\n"
     ]
    }
   ],
   "source": [
    "print(h_mRNA)\n",
    "print(t_mRNA)"
   ]
  },
  {
   "cell_type": "code",
   "execution_count": 77,
   "metadata": {},
   "outputs": [
    {
     "data": {
      "text/html": [
       "<div>\n",
       "<style scoped>\n",
       "    .dataframe tbody tr th:only-of-type {\n",
       "        vertical-align: middle;\n",
       "    }\n",
       "\n",
       "    .dataframe tbody tr th {\n",
       "        vertical-align: top;\n",
       "    }\n",
       "\n",
       "    .dataframe thead th {\n",
       "        text-align: right;\n",
       "    }\n",
       "</style>\n",
       "<table border=\"1\" class=\"dataframe\">\n",
       "  <thead>\n",
       "    <tr style=\"text-align: right;\">\n",
       "      <th></th>\n",
       "      <th>codon</th>\n",
       "    </tr>\n",
       "  </thead>\n",
       "  <tbody>\n",
       "    <tr>\n",
       "      <th>0</th>\n",
       "      <td>AUG</td>\n",
       "    </tr>\n",
       "    <tr>\n",
       "      <th>1</th>\n",
       "      <td>GCC</td>\n",
       "    </tr>\n",
       "    <tr>\n",
       "      <th>2</th>\n",
       "      <td>AUG</td>\n",
       "    </tr>\n",
       "    <tr>\n",
       "      <th>3</th>\n",
       "      <td>GCG</td>\n",
       "    </tr>\n",
       "    <tr>\n",
       "      <th>4</th>\n",
       "      <td>CCC</td>\n",
       "    </tr>\n",
       "    <tr>\n",
       "      <th>5</th>\n",
       "      <td>AGA</td>\n",
       "    </tr>\n",
       "    <tr>\n",
       "      <th>6</th>\n",
       "      <td>ACU</td>\n",
       "    </tr>\n",
       "    <tr>\n",
       "      <th>7</th>\n",
       "      <td>GAG</td>\n",
       "    </tr>\n",
       "    <tr>\n",
       "      <th>8</th>\n",
       "      <td>AUC</td>\n",
       "    </tr>\n",
       "    <tr>\n",
       "      <th>9</th>\n",
       "      <td>AAU</td>\n",
       "    </tr>\n",
       "    <tr>\n",
       "      <th>10</th>\n",
       "      <td>AGU</td>\n",
       "    </tr>\n",
       "    <tr>\n",
       "      <th>11</th>\n",
       "      <td>ACC</td>\n",
       "    </tr>\n",
       "    <tr>\n",
       "      <th>12</th>\n",
       "      <td>CGU</td>\n",
       "    </tr>\n",
       "    <tr>\n",
       "      <th>13</th>\n",
       "      <td>AUU</td>\n",
       "    </tr>\n",
       "    <tr>\n",
       "      <th>14</th>\n",
       "      <td>AAC</td>\n",
       "    </tr>\n",
       "    <tr>\n",
       "      <th>15</th>\n",
       "      <td>GGG</td>\n",
       "    </tr>\n",
       "  </tbody>\n",
       "</table>\n",
       "</div>"
      ],
      "text/plain": [
       "   codon\n",
       "0    AUG\n",
       "1    GCC\n",
       "2    AUG\n",
       "3    GCG\n",
       "4    CCC\n",
       "5    AGA\n",
       "6    ACU\n",
       "7    GAG\n",
       "8    AUC\n",
       "9    AAU\n",
       "10   AGU\n",
       "11   ACC\n",
       "12   CGU\n",
       "13   AUU\n",
       "14   AAC\n",
       "15   GGG"
      ]
     },
     "execution_count": 77,
     "metadata": {},
     "output_type": "execute_result"
    }
   ],
   "source": [
    "df_protein"
   ]
  },
  {
   "cell_type": "markdown",
   "metadata": {},
   "source": [
    "Now that we have the codon sequences in a datframe lets make a dataframe for the codon to proetein conversion and get the results"
   ]
  },
  {
   "cell_type": "code",
   "execution_count": 55,
   "metadata": {},
   "outputs": [
    {
     "data": {
      "text/plain": [
       "array([['A', 'A', 'A'],\n",
       "       ['A', 'U', 'A'],\n",
       "       ['A', 'G', 'A'],\n",
       "       ['A', 'C', 'A'],\n",
       "       ['U', 'A', 'A'],\n",
       "       ['U', 'U', 'A'],\n",
       "       ['U', 'G', 'A'],\n",
       "       ['U', 'C', 'A'],\n",
       "       ['G', 'A', 'A'],\n",
       "       ['G', 'U', 'A'],\n",
       "       ['G', 'G', 'A'],\n",
       "       ['G', 'C', 'A'],\n",
       "       ['C', 'A', 'A'],\n",
       "       ['C', 'U', 'A'],\n",
       "       ['C', 'G', 'A'],\n",
       "       ['C', 'C', 'A'],\n",
       "       ['A', 'A', 'U'],\n",
       "       ['A', 'U', 'U'],\n",
       "       ['A', 'G', 'U'],\n",
       "       ['A', 'C', 'U'],\n",
       "       ['U', 'A', 'U'],\n",
       "       ['U', 'U', 'U'],\n",
       "       ['U', 'G', 'U'],\n",
       "       ['U', 'C', 'U'],\n",
       "       ['G', 'A', 'U'],\n",
       "       ['G', 'U', 'U'],\n",
       "       ['G', 'G', 'U'],\n",
       "       ['G', 'C', 'U'],\n",
       "       ['C', 'A', 'U'],\n",
       "       ['C', 'U', 'U'],\n",
       "       ['C', 'G', 'U'],\n",
       "       ['C', 'C', 'U'],\n",
       "       ['A', 'A', 'G'],\n",
       "       ['A', 'U', 'G'],\n",
       "       ['A', 'G', 'G'],\n",
       "       ['A', 'C', 'G'],\n",
       "       ['U', 'A', 'G'],\n",
       "       ['U', 'U', 'G'],\n",
       "       ['U', 'G', 'G'],\n",
       "       ['U', 'C', 'G'],\n",
       "       ['G', 'A', 'G'],\n",
       "       ['G', 'U', 'G'],\n",
       "       ['G', 'G', 'G'],\n",
       "       ['G', 'C', 'G'],\n",
       "       ['C', 'A', 'G'],\n",
       "       ['C', 'U', 'G'],\n",
       "       ['C', 'G', 'G'],\n",
       "       ['C', 'C', 'G'],\n",
       "       ['A', 'A', 'C'],\n",
       "       ['A', 'U', 'C'],\n",
       "       ['A', 'G', 'C'],\n",
       "       ['A', 'C', 'C'],\n",
       "       ['U', 'A', 'C'],\n",
       "       ['U', 'U', 'C'],\n",
       "       ['U', 'G', 'C'],\n",
       "       ['U', 'C', 'C'],\n",
       "       ['G', 'A', 'C'],\n",
       "       ['G', 'U', 'C'],\n",
       "       ['G', 'G', 'C'],\n",
       "       ['G', 'C', 'C'],\n",
       "       ['C', 'A', 'C'],\n",
       "       ['C', 'U', 'C'],\n",
       "       ['C', 'G', 'C'],\n",
       "       ['C', 'C', 'C']], dtype='<U1')"
      ]
     },
     "execution_count": 55,
     "metadata": {},
     "output_type": "execute_result"
    }
   ],
   "source": [
    "import numpy as np\n",
    "\n",
    "Codon_Combo = np.array(np.meshgrid(\n",
    "                                [\"A\", \"U\", \"G\", \"C\"], \n",
    "                                [\"A\", \"U\", \"G\", \"C\"], \n",
    "                                [\"A\", \"U\", \"G\", \"C\"]\n",
    "                               )).T.reshape(-1,3)\n",
    "\n",
    "Codon_Combo"
   ]
  },
  {
   "cell_type": "code",
   "execution_count": 56,
   "metadata": {},
   "outputs": [
    {
     "data": {
      "text/plain": [
       "(64, 3)"
      ]
     },
     "execution_count": 56,
     "metadata": {},
     "output_type": "execute_result"
    }
   ],
   "source": [
    "Codon_Combo.shape"
   ]
  },
  {
   "cell_type": "code",
   "execution_count": 81,
   "metadata": {},
   "outputs": [
    {
     "data": {
      "text/html": [
       "<div>\n",
       "<style scoped>\n",
       "    .dataframe tbody tr th:only-of-type {\n",
       "        vertical-align: middle;\n",
       "    }\n",
       "\n",
       "    .dataframe tbody tr th {\n",
       "        vertical-align: top;\n",
       "    }\n",
       "\n",
       "    .dataframe thead th {\n",
       "        text-align: right;\n",
       "    }\n",
       "</style>\n",
       "<table border=\"1\" class=\"dataframe\">\n",
       "  <thead>\n",
       "    <tr style=\"text-align: right;\">\n",
       "      <th></th>\n",
       "      <th>codon</th>\n",
       "      <th>Amino_Acid</th>\n",
       "    </tr>\n",
       "  </thead>\n",
       "  <tbody>\n",
       "    <tr>\n",
       "      <th>0</th>\n",
       "      <td>AAA</td>\n",
       "      <td>K</td>\n",
       "    </tr>\n",
       "    <tr>\n",
       "      <th>1</th>\n",
       "      <td>AUA</td>\n",
       "      <td>I</td>\n",
       "    </tr>\n",
       "    <tr>\n",
       "      <th>2</th>\n",
       "      <td>AGA</td>\n",
       "      <td>R</td>\n",
       "    </tr>\n",
       "    <tr>\n",
       "      <th>3</th>\n",
       "      <td>ACA</td>\n",
       "      <td>T</td>\n",
       "    </tr>\n",
       "    <tr>\n",
       "      <th>4</th>\n",
       "      <td>UAA</td>\n",
       "      <td>STOP</td>\n",
       "    </tr>\n",
       "    <tr>\n",
       "      <th>...</th>\n",
       "      <td>...</td>\n",
       "      <td>...</td>\n",
       "    </tr>\n",
       "    <tr>\n",
       "      <th>59</th>\n",
       "      <td>GCC</td>\n",
       "      <td>A</td>\n",
       "    </tr>\n",
       "    <tr>\n",
       "      <th>60</th>\n",
       "      <td>CAC</td>\n",
       "      <td>H</td>\n",
       "    </tr>\n",
       "    <tr>\n",
       "      <th>61</th>\n",
       "      <td>CUC</td>\n",
       "      <td>L</td>\n",
       "    </tr>\n",
       "    <tr>\n",
       "      <th>62</th>\n",
       "      <td>CGC</td>\n",
       "      <td>R</td>\n",
       "    </tr>\n",
       "    <tr>\n",
       "      <th>63</th>\n",
       "      <td>CCC</td>\n",
       "      <td>P</td>\n",
       "    </tr>\n",
       "  </tbody>\n",
       "</table>\n",
       "<p>64 rows × 2 columns</p>\n",
       "</div>"
      ],
      "text/plain": [
       "   codon Amino_Acid\n",
       "0    AAA          K\n",
       "1    AUA          I\n",
       "2    AGA          R\n",
       "3    ACA          T\n",
       "4    UAA       STOP\n",
       "..   ...        ...\n",
       "59   GCC          A\n",
       "60   CAC          H\n",
       "61   CUC          L\n",
       "62   CGC          R\n",
       "63   CCC          P\n",
       "\n",
       "[64 rows x 2 columns]"
      ]
     },
     "execution_count": 81,
     "metadata": {},
     "output_type": "execute_result"
    }
   ],
   "source": [
    "df_AA = pd.DataFrame(columns =['codon', 'Amino_Acid'])\n",
    "\n",
    "for i in Codon_Combo:\n",
    "    codon = (i[0] + i[1] + i[2])\n",
    "    if codon in [\"GGU\", \"GGC\", \"GGG\", \"GGA\"]:\n",
    "        AA = \"G\"\n",
    "    elif codon in [\"GUA\", \"GUC\", \"GUG\", \"GUU\"]:\n",
    "        AA = \"V\"\n",
    "    elif codon in [\"GCA\", \"GCU\", \"GCG\", \"GCC\"]:\n",
    "        AA = \"A\"\n",
    "    elif codon in [\"GAU\", \"GAC\"]:\n",
    "        AA = \"D\" \n",
    "    elif codon in [\"GAA\", \"GAG\"]:\n",
    "        AA = \"E\"\n",
    "        \n",
    "    elif codon in [\"UGC\", \"UGU\"]:\n",
    "        AA = \"C\"\n",
    "    elif codon in [\"UAC\", \"UAU\"]:\n",
    "        AA = \"Y\"\n",
    "    elif codon in [\"UCA\", \"UCU\", \"UCG\", \"UCC\", \"AGC\", \"AGU\"]:\n",
    "        AA = \"S\"\n",
    "    elif codon in [\"UUC\", \"UUU\"]:\n",
    "        AA = \"F\" \n",
    "    elif codon in [\"UGG\"]:\n",
    "        AA = \"W\"\n",
    "    elif codon in [\"CUA\", \"CUU\", \"UUG\", \"CUG\", \"CUC\"]:\n",
    "        AA = \"L\"\n",
    "    elif codon in [\"UAA\", \"UGA\", \"UAG\"]:\n",
    "        AA = \"STOP\"\n",
    "        \n",
    "    elif codon in [\"AAA\", \"AAG\"]:\n",
    "        AA = \"K\"\n",
    "    elif codon in [\"AUA\", \"AUC\", \"AUU\"]:\n",
    "        AA = \"I\"\n",
    "    elif codon in [\"AGA\", \"CGA\", \"CGU\", \"AGG\", \"CGG\", \"CGC\"]:\n",
    "        AA = \"R\"\n",
    "    elif codon in [\"AAU\", \"AAC\"]:\n",
    "        AA = \"N\"\n",
    "    elif codon in [\"AUG\"]:\n",
    "        AA = \"M\"\n",
    "    elif codon in [\"ACG\", \"ACC\", \"ACA\", \"ACU\"]:\n",
    "        AA = \"T\"\n",
    "\n",
    "    elif codon in [\"CAA\", \"CAG\"]:\n",
    "        AA = \"Q\"\n",
    "    elif codon in [\"CCA\", \"CCU\", \"CCG\", \"CCC\"]:\n",
    "        AA = \"P\"\n",
    "    elif codon in [\"CAU\", \"CAC\"]:\n",
    "        AA = \"H\"\n",
    "\n",
    "    else: \n",
    "        AA = 'nan'\n",
    "    df_AA = df_AA.append({\"codon\": codon, \n",
    "               \"Amino_Acid\": AA}, ignore_index = True)\n",
    "\n",
    "df_AA"
   ]
  },
  {
   "cell_type": "markdown",
   "metadata": {},
   "source": [
    "Now we only have 20 proteins so a lot of these codon combinations for not code for any amino acids and should not appear in mRNA sequence. "
   ]
  },
  {
   "cell_type": "markdown",
   "metadata": {},
   "source": [
    "Now lets join the two tables and get the Amino acid sequence for the given mRNA sequence."
   ]
  },
  {
   "cell_type": "code",
   "execution_count": 82,
   "metadata": {},
   "outputs": [
    {
     "data": {
      "text/plain": [
       "str"
      ]
     },
     "execution_count": 82,
     "metadata": {},
     "output_type": "execute_result"
    }
   ],
   "source": [
    "type(df_protein['codon'][0])"
   ]
  },
  {
   "cell_type": "code",
   "execution_count": 83,
   "metadata": {},
   "outputs": [
    {
     "data": {
      "text/plain": [
       "str"
      ]
     },
     "execution_count": 83,
     "metadata": {},
     "output_type": "execute_result"
    }
   ],
   "source": [
    "type(df_AA['codon'][0])"
   ]
  },
  {
   "cell_type": "code",
   "execution_count": 86,
   "metadata": {},
   "outputs": [],
   "source": [
    "df_protein = df_protein.join(df_AA.set_index('codon'), on = 'codon')"
   ]
  },
  {
   "cell_type": "code",
   "execution_count": 89,
   "metadata": {},
   "outputs": [
    {
     "data": {
      "text/plain": [
       "'MAMAPRTEINSTRING'"
      ]
     },
     "execution_count": 89,
     "metadata": {},
     "output_type": "execute_result"
    }
   ],
   "source": [
    "df_protein['Amino_Acid'].str.cat()"
   ]
  },
  {
   "cell_type": "code",
   "execution_count": null,
   "metadata": {},
   "outputs": [],
   "source": []
  }
 ],
 "metadata": {
  "kernelspec": {
   "display_name": "Python 3",
   "language": "python",
   "name": "python3"
  },
  "language_info": {
   "codemirror_mode": {
    "name": "ipython",
    "version": 3
   },
   "file_extension": ".py",
   "mimetype": "text/x-python",
   "name": "python",
   "nbconvert_exporter": "python",
   "pygments_lexer": "ipython3",
   "version": "3.7.6"
  }
 },
 "nbformat": 4,
 "nbformat_minor": 4
}
