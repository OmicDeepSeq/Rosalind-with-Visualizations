{
 "cells": [
  {
   "cell_type": "markdown",
   "metadata": {},
   "source": [
    "# Question 8: Translating RNA into Protein\n",
    "***\n",
    "# Data Import"
   ]
  },
  {
   "cell_type": "code",
   "execution_count": 7,
   "metadata": {},
   "outputs": [
    {
     "data": {
      "text/plain": [
       "'AUGGCCAUGGCGCCCAGAACUGAGAUCAAUAGUACCCGUAUUAACGGGUGA'"
      ]
     },
     "execution_count": 7,
     "metadata": {},
     "output_type": "execute_result"
    }
   ],
   "source": [
    "file = open(\"Input_Data/SampleData.txt\")\n",
    "file = file.read()\n",
    "file"
   ]
  },
  {
   "cell_type": "code",
   "execution_count": 8,
   "metadata": {},
   "outputs": [
    {
     "data": {
      "text/plain": [
       "3"
      ]
     },
     "execution_count": 8,
     "metadata": {},
     "output_type": "execute_result"
    }
   ],
   "source": [
    "file.find('GCC')"
   ]
  },
  {
   "cell_type": "markdown",
   "metadata": {},
   "source": [
    "So we want top hightlight or visualize the start and stop codons in the string. \n",
    "\n",
    "I got this code to change the color of the string by using a simple command from this website: \n",
    "\n",
    "https://softwareengineering.stackexchange.com/questions/362915/looking-for-information-about-coloring-highlighting-output-text-in-python\n",
    "\n",
    "https://gist.github.com/vratiu/9780109\n",
    "\n",
    "\n",
    "Red=\"\\[\\033[0;31m\\]\"          # Red\n",
    "Green=\"\\[\\033[0;32m\\]\"        # Green\n",
    "Yellow=\"\\[\\033[0;33m\\]\"       # Yellow\n",
    "Blue=\"\\[\\033[0;34m\\]\"         # Blue\n",
    "Black=\"\\[\\033[0;30m\\]\"        # Black\n"
   ]
  },
  {
   "cell_type": "code",
   "execution_count": 9,
   "metadata": {},
   "outputs": [
    {
     "name": "stdout",
     "output_type": "stream",
     "text": [
      "\u001b[31mAUGGCCAUGGCGCCCAGAACUGAGAUCAAUAGUACCCGUAUUAACGGGUGA\u001b[0m\n"
     ]
    }
   ],
   "source": [
    "print('\\033[31m' + str(file) + '\\033[0m')"
   ]
  },
  {
   "cell_type": "markdown",
   "metadata": {},
   "source": [
    "link: https://www.guru99.com/python-regular-expressions-complete-tutorial.html"
   ]
  },
  {
   "cell_type": "code",
   "execution_count": 10,
   "metadata": {},
   "outputs": [
    {
     "data": {
      "text/plain": [
       "['AUG', 'AUG']"
      ]
     },
     "execution_count": 10,
     "metadata": {},
     "output_type": "execute_result"
    }
   ],
   "source": [
    "import re\n",
    "re.findall(\"AUG\", file)"
   ]
  },
  {
   "cell_type": "code",
   "execution_count": 11,
   "metadata": {},
   "outputs": [
    {
     "data": {
      "text/plain": [
       "0"
      ]
     },
     "execution_count": 11,
     "metadata": {},
     "output_type": "execute_result"
    }
   ],
   "source": [
    "file.index('AUG')"
   ]
  },
  {
   "cell_type": "markdown",
   "metadata": {},
   "source": [
    "link: https://pythonforbiologists.com/regular-expressions\n",
    "\n",
    "Scroll down to \"Multiple Matchs\" Session "
   ]
  },
  {
   "cell_type": "code",
   "execution_count": 12,
   "metadata": {},
   "outputs": [
    {
     "name": "stdout",
     "output_type": "stream",
     "text": [
      "AUG found at position 0\n",
      "AUG found at position 6\n"
     ]
    }
   ],
   "source": [
    "matches = re.finditer(\"AUG\", file) \n",
    "\n",
    "for m in matches: \n",
    "    base = m.group() \n",
    "    pos  = m.start() \n",
    "    print(base + \" found at position \" + str(pos))"
   ]
  },
  {
   "cell_type": "code",
   "execution_count": 13,
   "metadata": {},
   "outputs": [
    {
     "name": "stdout",
     "output_type": "stream",
     "text": [
      "\n",
      "\n",
      "\u001b[34m\n",
      "\u001b[34mAUG\u001b[0m\n",
      "\u001b[34mAUG\u001b[0mGCC\n",
      "\u001b[34mAUG\u001b[0mGCC\n",
      "\u001b[34mAUG\u001b[0mGCC\u001b[34m\n",
      "\u001b[34mAUG\u001b[0mGCC\u001b[34mAUG\u001b[0m\n",
      "\u001b[34mAUG\u001b[0mGCC\u001b[34mAUG\u001b[0mGCGCCCAGAACUGAGAUCAAUAGUACCCGUAUUAACGGGUGA\n"
     ]
    }
   ],
   "source": [
    "matches = re.finditer(\"AUG\", file) \n",
    "strand = ''\n",
    "for index, m in enumerate(matches): \n",
    "    pos  = m.start() \n",
    "    if index == 0: \n",
    "        strand = strand + file[:pos]\n",
    "        print(strand)\n",
    "        \n",
    "    elif index != 0: \n",
    "        strand = strand + file[(pos_p+3):pos]\n",
    "        print(strand)\n",
    "\n",
    "    print(strand)\n",
    "    strand = strand + '\\033[34m'\n",
    "    print(strand)\n",
    "    strand = strand + file[pos:(pos+3)] + '\\033[0m'\n",
    "    print(strand)\n",
    "    pos_p = pos\n",
    "    \n",
    "strand = strand + file[(pos+3)::]\n",
    "\n",
    "print(strand)"
   ]
  },
  {
   "cell_type": "code",
   "execution_count": 14,
   "metadata": {},
   "outputs": [
    {
     "name": "stdout",
     "output_type": "stream",
     "text": [
      "\u001b[34mAUG\u001b[0mGCC\u001b[34mAUG\u001b[0mGCGCCCAGAACUGAGAUCAAUAGUACCCGUAUUAACGGGUGA\n",
      "AUGGCCAUGGCGCCCAGAACUGAGAUCAAUAGUACCCGUAUUAACGGGUGA\n"
     ]
    }
   ],
   "source": [
    "print(strand)\n",
    "print(file)"
   ]
  },
  {
   "cell_type": "code",
   "execution_count": 15,
   "metadata": {},
   "outputs": [
    {
     "name": "stdout",
     "output_type": "stream",
     "text": [
      "\u001b[34mAUG\u001b[0mGCC\u001b[34mAUG\u001b[0mGCGCCCAGAACUGAGAUCAAUAGUACCCGUAU\n",
      "\u001b[34mAUG\u001b[0mGCC\u001b[34mAUG\u001b[0mGCGCCCAGAACUGAGAUCAAUAGUACCCGUAU\u001b[31m\n",
      "\u001b[34mAUG\u001b[0mGCC\u001b[34mAUG\u001b[0mGCGCCCAGAACUGAGAUCAAUAGUACCCGUAU\u001b[31mUAA\u001b[0m\n",
      "\u001b[34mAUG\u001b[0mGCC\u001b[34mAUG\u001b[0mGCGCCCAGAACUGAGAUCAAUAGUACCCGUAU\u001b[31mUAA\u001b[0mCGGGUGA\n",
      "\u001b[34mAUG\u001b[0mGCC\u001b[34mAUG\u001b[0mGCGCCCAGAACUGAGAUCAAUAGUACCCGUAU\u001b[31mUAA\u001b[0mCGGGUGA\n",
      "\u001b[34mAUG\u001b[0mGCC\u001b[34mAUG\u001b[0mGCGCCCAGAACUGAGAUCAA\n",
      "\u001b[34mAUG\u001b[0mGCC\u001b[34mAUG\u001b[0mGCGCCCAGAACUGAGAUCAA\u001b[31m\n",
      "\u001b[34mAUG\u001b[0mGCC\u001b[34mAUG\u001b[0mGCGCCCAGAACUGAGAUCAA\u001b[31mUAG\u001b[0m\n",
      "\u001b[34mAUG\u001b[0mGCC\u001b[34mAUG\u001b[0mGCGCCCAGAACUGAGAUCAA\u001b[31mUAG\u001b[0mUACCCGUAU\u001b[31mUAA\u001b[0mCGGGUGA\n",
      "\u001b[34mAUG\u001b[0mGCC\u001b[34mAUG\u001b[0mGCGCCCAGAACUGAGAUCAA\u001b[31mUAG\u001b[0mUACCCGUAU\u001b[31mUAA\u001b[0mCGGGUGA\n",
      "\u001b[34mAUG\u001b[0mGCC\u001b[34mAUG\u001b[0mGCGCCCAGAAC\n",
      "\u001b[34mAUG\u001b[0mGCC\u001b[34mAUG\u001b[0mGCGCCCAGAAC\u001b[31m\n",
      "\u001b[34mAUG\u001b[0mGCC\u001b[34mAUG\u001b[0mGCGCCCAGAAC\u001b[31mUGA\u001b[0m\n",
      "\u001b[34mAUG\u001b[0mGCC\u001b[34mAUG\u001b[0mGCGCCCAGAAC\u001b[31mUGA\u001b[0mGAUCAA\u001b[31mUAG\u001b[0mUACCCGUAU\u001b[31mUAA\u001b[0mCGGG\n",
      "\u001b[34mAUG\u001b[0mGCC\u001b[34mAUG\u001b[0mGCGCCCAGAAC\u001b[31mUGA\u001b[0mGAUCAA\u001b[31mUAG\u001b[0mUACCCGUAU\u001b[31mUAA\u001b[0mCGGG\u001b[31m\n",
      "\u001b[34mAUG\u001b[0mGCC\u001b[34mAUG\u001b[0mGCGCCCAGAAC\u001b[31mUGA\u001b[0mGAUCAA\u001b[31mUAG\u001b[0mUACCCGUAU\u001b[31mUAA\u001b[0mCGGG\u001b[31mUGA\u001b[0m\n",
      "\u001b[34mAUG\u001b[0mGCC\u001b[34mAUG\u001b[0mGCGCCCAGAAC\u001b[31mUGA\u001b[0mGAUCAA\u001b[31mUAG\u001b[0mUACCCGUAU\u001b[31mUAA\u001b[0mCGGG\u001b[31mUGA\u001b[0m\n",
      "\u001b[34mAUG\u001b[0mGCC\u001b[34mAUG\u001b[0mGCGCCCAGAAC\u001b[31mUGA\u001b[0mGAUCAA\u001b[31mUAG\u001b[0mUACCCGUAU\u001b[31mUAA\u001b[0mCGGG\u001b[31mUGA\u001b[0m\n"
     ]
    }
   ],
   "source": [
    "def highlight(stop_c, strand):\n",
    "\n",
    "    matches = re.finditer(stop_c, strand) \n",
    "    strand_2 = ''\n",
    "    for index, m in enumerate(matches): \n",
    "        pos  = m.start() \n",
    "        if index == 0: \n",
    "            strand_2 = strand_2 + strand[:pos]\n",
    "            print(strand_2)\n",
    "\n",
    "        elif index != 0: \n",
    "            strand_2 = strand_2 +strand[(pos_p+3):pos]\n",
    "            print(strand_2)\n",
    "\n",
    "        strand_2 = strand_2 + '\\033[31m'\n",
    "        print(strand_2)\n",
    "        strand_2 = strand_2 + strand[pos:(pos+3)] + '\\033[0m'\n",
    "        print(strand_2)\n",
    "        pos_p = pos\n",
    "\n",
    "    strand_2 = strand_2 + strand[(pos+3)::]\n",
    "\n",
    "    print(strand_2)\n",
    "    \n",
    "    return(strand_2)\n",
    "\n",
    "strand_2 = highlight(\"UAA\",strand)\n",
    "print(strand_2)\n",
    "strand_3 = highlight(\"UAG\",strand_2)\n",
    "print(strand_3)\n",
    "strand_4 = highlight(\"UGA\",strand_3)\n",
    "print(strand_4)"
   ]
  },
  {
   "cell_type": "code",
   "execution_count": 16,
   "metadata": {},
   "outputs": [
    {
     "name": "stdout",
     "output_type": "stream",
     "text": [
      "AUGGCCAUGGCGCCCAGAACUGAGAUCAAUAGUACCCGUAUUAACGGGUGA\n",
      "\u001b[34mAUG\u001b[0mGCC\u001b[34mAUG\u001b[0mGCGCCCAGAACUGAGAUCAAUAGUACCCGUAUUAACGGGUGA\n",
      "\u001b[34mAUG\u001b[0mGCC\u001b[34mAUG\u001b[0mGCGCCCAGAACUGAGAUCAAUAGUACCCGUAU\u001b[31mUAA\u001b[0mCGGGUGA\n",
      "\u001b[34mAUG\u001b[0mGCC\u001b[34mAUG\u001b[0mGCGCCCAGAACUGAGAUCAA\u001b[31mUAG\u001b[0mUACCCGUAU\u001b[31mUAA\u001b[0mCGGGUGA\n",
      "\u001b[34mAUG\u001b[0mGCC\u001b[34mAUG\u001b[0mGCGCCCAGAAC\u001b[31mUGA\u001b[0mGAUCAA\u001b[31mUAG\u001b[0mUACCCGUAU\u001b[31mUAA\u001b[0mCGGG\u001b[31mUGA\u001b[0m\n"
     ]
    }
   ],
   "source": [
    "print(file)\n",
    "print(strand)\n",
    "print(strand_2)\n",
    "print(strand_3)\n",
    "print(strand_4)"
   ]
  },
  {
   "cell_type": "code",
   "execution_count": null,
   "metadata": {},
   "outputs": [],
   "source": []
  },
  {
   "cell_type": "code",
   "execution_count": 70,
   "metadata": {},
   "outputs": [
    {
     "data": {
      "text/plain": [
       "'AUGGCCAUGGCGCCCAGAACUGAGAUCAAUAGUACCCGUAUUAACGGGUGA'"
      ]
     },
     "execution_count": 70,
     "metadata": {},
     "output_type": "execute_result"
    }
   ],
   "source": [
    "file"
   ]
  },
  {
   "cell_type": "code",
   "execution_count": 83,
   "metadata": {},
   "outputs": [
    {
     "data": {
      "text/plain": [
       "0"
      ]
     },
     "execution_count": 83,
     "metadata": {},
     "output_type": "execute_result"
    }
   ],
   "source": [
    "# the first start codon is: \n",
    "\n",
    "start_p = file.find('AUG')\n",
    "start_p"
   ]
  },
  {
   "cell_type": "code",
   "execution_count": 84,
   "metadata": {},
   "outputs": [
    {
     "data": {
      "text/plain": [
       "'AUG'"
      ]
     },
     "execution_count": 84,
     "metadata": {},
     "output_type": "execute_result"
    }
   ],
   "source": [
    "file[start_p:(start_p+3)]"
   ]
  },
  {
   "cell_type": "code",
   "execution_count": 17,
   "metadata": {},
   "outputs": [
    {
     "name": "stdout",
     "output_type": "stream",
     "text": [
      "\u001b[34mAUG\u001b[0mGCC\n",
      "\u001b[34mAUG\u001b[0mGCCAUG\n",
      "\u001b[34mAUG\u001b[0mGCCAUGGCG\n",
      "\u001b[34mAUG\u001b[0mGCCAUGGCGCCC\n",
      "\u001b[34mAUG\u001b[0mGCCAUGGCGCCCAGA\n",
      "\u001b[34mAUG\u001b[0mGCCAUGGCGCCCAGAACU\n",
      "\u001b[34mAUG\u001b[0mGCCAUGGCGCCCAGAACUGAG\n",
      "\u001b[34mAUG\u001b[0mGCCAUGGCGCCCAGAACUGAGAUC\n",
      "\u001b[34mAUG\u001b[0mGCCAUGGCGCCCAGAACUGAGAUCAAU\n",
      "\u001b[34mAUG\u001b[0mGCCAUGGCGCCCAGAACUGAGAUCAAUAGU\n",
      "\u001b[34mAUG\u001b[0mGCCAUGGCGCCCAGAACUGAGAUCAAUAGUACC\n",
      "\u001b[34mAUG\u001b[0mGCCAUGGCGCCCAGAACUGAGAUCAAUAGUACCCGU\n",
      "\u001b[34mAUG\u001b[0mGCCAUGGCGCCCAGAACUGAGAUCAAUAGUACCCGUAUU\n",
      "\u001b[34mAUG\u001b[0mGCCAUGGCGCCCAGAACUGAGAUCAAUAGUACCCGUAUUAAC\n",
      "\u001b[34mAUG\u001b[0mGCCAUGGCGCCCAGAACUGAGAUCAAUAGUACCCGUAUUAACGGG\n",
      "\u001b[34mAUG\u001b[0mGCCAUGGCGCCCAGAACUGAGAUCAAUAGUACCCGUAUUAACGGG\u001b[31mUGA\u001b[0m\n"
     ]
    }
   ],
   "source": [
    "start_p = file.find('AUG')\n",
    "\n",
    "m_RNA = '\\033[34m' + file[start_p:(start_p+3)] + '\\033[0m'\n",
    "\n",
    "start_p += 3\n",
    "\n",
    "while file[start_p:(start_p+3)] not in [\"UAA\", \"UAG\", \"UGA\"]: \n",
    "    m_RNA += file[start_p:(start_p+3)]\n",
    "    print(m_RNA)\n",
    "    \n",
    "    start_p +=3\n",
    "\n",
    "m_RNA = m_RNA + '\\033[31m' + file[start_p:(start_p+3)] + '\\033[0m'\n",
    "print(m_RNA)"
   ]
  },
  {
   "cell_type": "code",
   "execution_count": 18,
   "metadata": {},
   "outputs": [
    {
     "name": "stdout",
     "output_type": "stream",
     "text": [
      "\u001b[34mAUG\u001b[0mGCC\u001b[34mAUG\u001b[0mGCGCCCAGAAC\u001b[31mUGA\u001b[0mGAUCAA\u001b[31mUAG\u001b[0mUACCCGUAU\u001b[31mUAA\u001b[0mCGGG\u001b[31mUGA\u001b[0m\n",
      "\u001b[34mAUG\u001b[0mGCCAUGGCGCCCAGAACUGAGAUCAAUAGUACCCGUAUUAACGGG\u001b[31mUGA\u001b[0m\n"
     ]
    }
   ],
   "source": [
    "print(strand_4)\n",
    "print(m_RNA)"
   ]
  },
  {
   "cell_type": "code",
   "execution_count": null,
   "metadata": {},
   "outputs": [],
   "source": []
  },
  {
   "cell_type": "code",
   "execution_count": null,
   "metadata": {},
   "outputs": [],
   "source": []
  },
  {
   "cell_type": "markdown",
   "metadata": {},
   "source": [
    "***"
   ]
  },
  {
   "cell_type": "code",
   "execution_count": 1,
   "metadata": {},
   "outputs": [
    {
     "data": {
      "text/plain": [
       "array([['A', 'A', 'A'],\n",
       "       ['A', 'U', 'A'],\n",
       "       ['A', 'G', 'A'],\n",
       "       ['A', 'C', 'A'],\n",
       "       ['U', 'A', 'A'],\n",
       "       ['U', 'U', 'A'],\n",
       "       ['U', 'G', 'A'],\n",
       "       ['U', 'C', 'A'],\n",
       "       ['G', 'A', 'A'],\n",
       "       ['G', 'U', 'A'],\n",
       "       ['G', 'G', 'A'],\n",
       "       ['G', 'C', 'A'],\n",
       "       ['C', 'A', 'A'],\n",
       "       ['C', 'U', 'A'],\n",
       "       ['C', 'G', 'A'],\n",
       "       ['C', 'C', 'A'],\n",
       "       ['A', 'A', 'U'],\n",
       "       ['A', 'U', 'U'],\n",
       "       ['A', 'G', 'U'],\n",
       "       ['A', 'C', 'U'],\n",
       "       ['U', 'A', 'U'],\n",
       "       ['U', 'U', 'U'],\n",
       "       ['U', 'G', 'U'],\n",
       "       ['U', 'C', 'U'],\n",
       "       ['G', 'A', 'U'],\n",
       "       ['G', 'U', 'U'],\n",
       "       ['G', 'G', 'U'],\n",
       "       ['G', 'C', 'U'],\n",
       "       ['C', 'A', 'U'],\n",
       "       ['C', 'U', 'U'],\n",
       "       ['C', 'G', 'U'],\n",
       "       ['C', 'C', 'U'],\n",
       "       ['A', 'A', 'G'],\n",
       "       ['A', 'U', 'G'],\n",
       "       ['A', 'G', 'G'],\n",
       "       ['A', 'C', 'G'],\n",
       "       ['U', 'A', 'G'],\n",
       "       ['U', 'U', 'G'],\n",
       "       ['U', 'G', 'G'],\n",
       "       ['U', 'C', 'G'],\n",
       "       ['G', 'A', 'G'],\n",
       "       ['G', 'U', 'G'],\n",
       "       ['G', 'G', 'G'],\n",
       "       ['G', 'C', 'G'],\n",
       "       ['C', 'A', 'G'],\n",
       "       ['C', 'U', 'G'],\n",
       "       ['C', 'G', 'G'],\n",
       "       ['C', 'C', 'G'],\n",
       "       ['A', 'A', 'C'],\n",
       "       ['A', 'U', 'C'],\n",
       "       ['A', 'G', 'C'],\n",
       "       ['A', 'C', 'C'],\n",
       "       ['U', 'A', 'C'],\n",
       "       ['U', 'U', 'C'],\n",
       "       ['U', 'G', 'C'],\n",
       "       ['U', 'C', 'C'],\n",
       "       ['G', 'A', 'C'],\n",
       "       ['G', 'U', 'C'],\n",
       "       ['G', 'G', 'C'],\n",
       "       ['G', 'C', 'C'],\n",
       "       ['C', 'A', 'C'],\n",
       "       ['C', 'U', 'C'],\n",
       "       ['C', 'G', 'C'],\n",
       "       ['C', 'C', 'C']], dtype='<U1')"
      ]
     },
     "execution_count": 1,
     "metadata": {},
     "output_type": "execute_result"
    }
   ],
   "source": [
    "import numpy as np\n",
    "\n",
    "Combo_1 = np.array(np.meshgrid(\n",
    "                                [\"A\", \"U\", \"G\", \"C\"], \n",
    "                                [\"A\", \"U\", \"G\", \"C\"], \n",
    "                                [\"A\", \"U\", \"G\", \"C\"]\n",
    "                               )).T.reshape(-1,3)\n",
    "\n",
    "Combo_1"
   ]
  },
  {
   "cell_type": "code",
   "execution_count": 2,
   "metadata": {},
   "outputs": [
    {
     "data": {
      "text/plain": [
       "(64, 3)"
      ]
     },
     "execution_count": 2,
     "metadata": {},
     "output_type": "execute_result"
    }
   ],
   "source": [
    "Combo_1.shape"
   ]
  },
  {
   "cell_type": "code",
   "execution_count": 93,
   "metadata": {},
   "outputs": [
    {
     "name": "stdout",
     "output_type": "stream",
     "text": [
      "Yes\n"
     ]
    }
   ],
   "source": [
    "codon = 'AUG'\n",
    "\n",
    "if codon in ['AUG']:\n",
    "    print(\"Yes\")"
   ]
  },
  {
   "cell_type": "code",
   "execution_count": null,
   "metadata": {},
   "outputs": [],
   "source": [
    "for i in Combo_1:\n",
    "    codon = (i[0] + i[1] + i[2])\n",
    "    if codon in [\"GGU\", \"GGC\", \"GGG\", \"GGA\"]:\n",
    "        AA = \"G\"\n",
    "    elif codon in [\"GUA\", \"GUC\", \"GUG\", \"GUU\"]:\n",
    "        AA = \"V\"\n",
    "    elif codon in [\"GUA\", \"GUC\", \"GUG\", \"GUU\"]:\n",
    "        AA = \"V\"\n",
    "        \n",
    "        \n",
    "        \n",
    "        \n",
    "    df = df.append({\"codon\": codon, \n",
    "                   \"Amino Acid\": AA})\n",
    "    "
   ]
  },
  {
   "cell_type": "code",
   "execution_count": 4,
   "metadata": {},
   "outputs": [],
   "source": [
    "import pandas as pd\n",
    "df = pd.DataFrame(columns =['codon', 'Amino_Acid'])"
   ]
  },
  {
   "cell_type": "code",
   "execution_count": 6,
   "metadata": {},
   "outputs": [
    {
     "name": "stdout",
     "output_type": "stream",
     "text": [
      "AAA\n",
      "AUA\n",
      "AGA\n",
      "ACA\n",
      "UAA\n",
      "UUA\n",
      "UGA\n",
      "UCA\n",
      "GAA\n",
      "GUA\n",
      "GGA\n",
      "GCA\n",
      "CAA\n",
      "CUA\n",
      "CGA\n",
      "CCA\n",
      "AAU\n",
      "AUU\n",
      "AGU\n",
      "ACU\n",
      "UAU\n",
      "UUU\n",
      "UGU\n",
      "UCU\n",
      "GAU\n",
      "GUU\n",
      "GGU\n",
      "GCU\n",
      "CAU\n",
      "CUU\n",
      "CGU\n",
      "CCU\n",
      "AAG\n",
      "AUG\n",
      "AGG\n",
      "ACG\n",
      "UAG\n",
      "UUG\n",
      "UGG\n",
      "UCG\n",
      "GAG\n",
      "GUG\n",
      "GGG\n",
      "GCG\n",
      "CAG\n",
      "CUG\n",
      "CGG\n",
      "CCG\n",
      "AAC\n",
      "AUC\n",
      "AGC\n",
      "ACC\n",
      "UAC\n",
      "UUC\n",
      "UGC\n",
      "UCC\n",
      "GAC\n",
      "GUC\n",
      "GGC\n",
      "GCC\n",
      "CAC\n",
      "CUC\n",
      "CGC\n",
      "CCC\n"
     ]
    },
    {
     "data": {
      "text/html": [
       "<div>\n",
       "<style scoped>\n",
       "    .dataframe tbody tr th:only-of-type {\n",
       "        vertical-align: middle;\n",
       "    }\n",
       "\n",
       "    .dataframe tbody tr th {\n",
       "        vertical-align: top;\n",
       "    }\n",
       "\n",
       "    .dataframe thead th {\n",
       "        text-align: right;\n",
       "    }\n",
       "</style>\n",
       "<table border=\"1\" class=\"dataframe\">\n",
       "  <thead>\n",
       "    <tr style=\"text-align: right;\">\n",
       "      <th></th>\n",
       "      <th>codon</th>\n",
       "      <th>Amino Acid</th>\n",
       "      <th>Amino_Acid</th>\n",
       "    </tr>\n",
       "  </thead>\n",
       "  <tbody>\n",
       "    <tr>\n",
       "      <th>0</th>\n",
       "      <td>AAA</td>\n",
       "      <td>NaN</td>\n",
       "      <td>K</td>\n",
       "    </tr>\n",
       "    <tr>\n",
       "      <th>1</th>\n",
       "      <td>AUA</td>\n",
       "      <td>NaN</td>\n",
       "      <td>I</td>\n",
       "    </tr>\n",
       "    <tr>\n",
       "      <th>2</th>\n",
       "      <td>AGA</td>\n",
       "      <td>NaN</td>\n",
       "      <td>R</td>\n",
       "    </tr>\n",
       "    <tr>\n",
       "      <th>3</th>\n",
       "      <td>ACA</td>\n",
       "      <td>NaN</td>\n",
       "      <td>nan</td>\n",
       "    </tr>\n",
       "    <tr>\n",
       "      <th>4</th>\n",
       "      <td>UAA</td>\n",
       "      <td>NaN</td>\n",
       "      <td>Y</td>\n",
       "    </tr>\n",
       "    <tr>\n",
       "      <th>...</th>\n",
       "      <td>...</td>\n",
       "      <td>...</td>\n",
       "      <td>...</td>\n",
       "    </tr>\n",
       "    <tr>\n",
       "      <th>59</th>\n",
       "      <td>GCC</td>\n",
       "      <td>NaN</td>\n",
       "      <td>A</td>\n",
       "    </tr>\n",
       "    <tr>\n",
       "      <th>60</th>\n",
       "      <td>CAC</td>\n",
       "      <td>NaN</td>\n",
       "      <td>H</td>\n",
       "    </tr>\n",
       "    <tr>\n",
       "      <th>61</th>\n",
       "      <td>CUC</td>\n",
       "      <td>NaN</td>\n",
       "      <td>nan</td>\n",
       "    </tr>\n",
       "    <tr>\n",
       "      <th>62</th>\n",
       "      <td>CGC</td>\n",
       "      <td>NaN</td>\n",
       "      <td>R</td>\n",
       "    </tr>\n",
       "    <tr>\n",
       "      <th>63</th>\n",
       "      <td>CCC</td>\n",
       "      <td>NaN</td>\n",
       "      <td>P</td>\n",
       "    </tr>\n",
       "  </tbody>\n",
       "</table>\n",
       "<p>64 rows × 3 columns</p>\n",
       "</div>"
      ],
      "text/plain": [
       "   codon Amino Acid Amino_Acid\n",
       "0    AAA        NaN          K\n",
       "1    AUA        NaN          I\n",
       "2    AGA        NaN          R\n",
       "3    ACA        NaN        nan\n",
       "4    UAA        NaN          Y\n",
       "..   ...        ...        ...\n",
       "59   GCC        NaN          A\n",
       "60   CAC        NaN          H\n",
       "61   CUC        NaN        nan\n",
       "62   CGC        NaN          R\n",
       "63   CCC        NaN          P\n",
       "\n",
       "[64 rows x 3 columns]"
      ]
     },
     "execution_count": 6,
     "metadata": {},
     "output_type": "execute_result"
    }
   ],
   "source": [
    "for i in Combo_1:\n",
    "    print(i[0] + i[1] + i[2])\n",
    "    codon = (i[0] + i[1] + i[2])\n",
    "    if codon in [\"GGU\", \"GGC\", \"GGG\", \"GGA\"]:\n",
    "        AA = \"G\"\n",
    "    elif codon in [\"GUA\", \"GUC\", \"GUG\", \"GUU\"]:\n",
    "        AA = \"V\"\n",
    "    elif codon in [\"GCA\", \"GCU\", \"GCG\", \"GCC\"]:\n",
    "        AA = \"A\"\n",
    "    elif codon in [\"GAA\", \"GAU\", \"GAG\", \"GAC\"]:\n",
    "        AA = \"D\" \n",
    "    elif codon in [\"UGA\", \"UGC\", \"UGG\", \"UGU\"]:\n",
    "        AA = \"C\"\n",
    "    elif codon in [\"UAG\", \"UAC\", \"UAU\", \"UAA\"]:\n",
    "        AA = \"Y\"\n",
    "    elif codon in [\"UCA\", \"UCU\", \"UCG\", \"UCC\"]:\n",
    "        AA = \"S\"\n",
    "    elif codon in [\"UUG\", \"UUC\", \"UUA\", \"UUU\"]:\n",
    "        AA = \"F\" \n",
    "    elif codon in [\"AAA\", \"AAG\"]:\n",
    "        AA = \"K\"\n",
    "    elif codon in [\"AUA\", \"AUC\", \"AUU\"]:\n",
    "        AA = \"I\"\n",
    "    elif codon in [\"AGA\", \"CGA\", \"CGU\", \"AGG\", \"CGG\", \"CGC\"]:\n",
    "        AA = \"R\"\n",
    "    elif codon in [\"UAA\", \"UGA\", \"UAG\"]:\n",
    "        AA = \"STOP\"\n",
    "    elif codon in [\"GAA\", \"GAG\"]:\n",
    "        AA = \"E\"\n",
    "    elif codon in [\"CAA\", \"CAG\"]:\n",
    "        AA = \"Q\"\n",
    "    elif codon in [\"CUA\", \"CUU\", \"UUG\", \"CUG\" \"CUC\"]:\n",
    "        AA = \"L\"\n",
    "    elif codon in [\"CCA\", \"CCU\", \"CCG\", \"CCC\"]:\n",
    "        AA = \"P\"\n",
    "    elif codon in [\"CAU\", \"CAC\"]:\n",
    "        AA = \"H\"\n",
    "    elif codon in [\"AAU\", \"AAC\"]:\n",
    "        AA = \"N\"\n",
    "    elif codon in [\"AUG\"]:\n",
    "        AA = \"M\"\n",
    "    elif codon in [\"UGG\"]:\n",
    "        AA = \"W\"\n",
    "    elif codon in [\"ACG\", \"ACC\"]:\n",
    "        AA = \"T\"\n",
    "    else: \n",
    "        AA = 'nan'\n",
    "    df = df.append({\"codon\": codon, \n",
    "               \"Amino_Acid\": AA}, ignore_index = True)\n",
    "\n",
    "df"
   ]
  },
  {
   "cell_type": "code",
   "execution_count": null,
   "metadata": {},
   "outputs": [],
   "source": []
  }
 ],
 "metadata": {
  "kernelspec": {
   "display_name": "Python 3",
   "language": "python",
   "name": "python3"
  },
  "language_info": {
   "codemirror_mode": {
    "name": "ipython",
    "version": 3
   },
   "file_extension": ".py",
   "mimetype": "text/x-python",
   "name": "python",
   "nbconvert_exporter": "python",
   "pygments_lexer": "ipython3",
   "version": "3.7.6"
  }
 },
 "nbformat": 4,
 "nbformat_minor": 4
}
