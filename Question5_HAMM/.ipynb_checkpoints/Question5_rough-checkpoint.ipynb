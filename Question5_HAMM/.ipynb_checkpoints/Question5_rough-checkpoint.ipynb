{
 "cells": [
  {
   "cell_type": "markdown",
   "metadata": {},
   "source": [
    "# Question 5: Counting Point Mutations: \n",
    "***\n",
    "## Data Import\n",
    "\n",
    "Lets use the with command to import the files. This is said to have a much better import quality. "
   ]
  },
  {
   "cell_type": "code",
   "execution_count": 1,
   "metadata": {},
   "outputs": [
    {
     "data": {
      "text/plain": [
       "['GAGCCTACTAACGGGAT', 'CATCGTAATGACGGCCT']"
      ]
     },
     "execution_count": 1,
     "metadata": {},
     "output_type": "execute_result"
    }
   ],
   "source": [
    "with open('Input_Data/SampleData.txt') as f: \n",
    "    strands = [line.rstrip() for line in f]\n",
    "    \n",
    "strands"
   ]
  },
  {
   "cell_type": "code",
   "execution_count": 2,
   "metadata": {},
   "outputs": [
    {
     "name": "stdout",
     "output_type": "stream",
     "text": [
      "17\n",
      "17\n"
     ]
    }
   ],
   "source": [
    "# let see what the length of each strand is: \n",
    "\n",
    "print(len(strands[0]))\n",
    "print(len(strands[1]))"
   ]
  },
  {
   "cell_type": "markdown",
   "metadata": {},
   "source": [
    "***\n",
    "## Analysis:\n",
    "\n",
    "**I will first show a simple way to find the answer then we can look at a more complicate way to find the answer which will help with visulizing our data**\n",
    "\n",
    "Now lets compare them and see how they differ. For this we will use a for loop and compare by one base at a time.\n",
    "\n",
    "Lets create two variables to count the no. of same base and no. of different base. "
   ]
  },
  {
   "cell_type": "code",
   "execution_count": 3,
   "metadata": {},
   "outputs": [],
   "source": [
    "diff = 0\n",
    "Same = 0\n",
    "\n",
    "for i in range(len(strands[0])):\n",
    "    if strands[0][i]==strands[1][i]:\n",
    "        Same += 1\n",
    "    else: \n",
    "        diff += 1\n",
    "        "
   ]
  },
  {
   "cell_type": "code",
   "execution_count": 4,
   "metadata": {},
   "outputs": [
    {
     "name": "stdout",
     "output_type": "stream",
     "text": [
      "10\n",
      "7\n"
     ]
    }
   ],
   "source": [
    "print(Same)\n",
    "print(diff)"
   ]
  },
  {
   "cell_type": "markdown",
   "metadata": {},
   "source": [
    "## Data Ouptut"
   ]
  },
  {
   "cell_type": "code",
   "execution_count": 5,
   "metadata": {},
   "outputs": [],
   "source": [
    "DNAOutput = open(\"Output_Data/SampleOutput.txt\", \"w\")\n",
    "DNAOutput.write(str(diff))\n",
    "DNAOutput.close()"
   ]
  },
  {
   "cell_type": "markdown",
   "metadata": {},
   "source": [
    "So there are 10 bases that are same and 7 bases diff between the two strands. Now lets look at a more complicated way to do this where we can use it for visualization too. \n",
    "\n",
    "*** \n"
   ]
  },
  {
   "cell_type": "markdown",
   "metadata": {},
   "source": [
    "## Data Visualization: \n",
    "\n",
    "now lets create a for loop and output a dataframe that has all the infomation about the mutation: "
   ]
  },
  {
   "cell_type": "code",
   "execution_count": 6,
   "metadata": {},
   "outputs": [],
   "source": [
    "import pandas as pd"
   ]
  },
  {
   "cell_type": "code",
   "execution_count": 7,
   "metadata": {},
   "outputs": [
    {
     "data": {
      "text/html": [
       "<div>\n",
       "<style scoped>\n",
       "    .dataframe tbody tr th:only-of-type {\n",
       "        vertical-align: middle;\n",
       "    }\n",
       "\n",
       "    .dataframe tbody tr th {\n",
       "        vertical-align: top;\n",
       "    }\n",
       "\n",
       "    .dataframe thead th {\n",
       "        text-align: right;\n",
       "    }\n",
       "</style>\n",
       "<table border=\"1\" class=\"dataframe\">\n",
       "  <thead>\n",
       "    <tr style=\"text-align: right;\">\n",
       "      <th></th>\n",
       "      <th>Base_No</th>\n",
       "      <th>Difference</th>\n",
       "      <th>Strand1_Base</th>\n",
       "      <th>Strand2_Base</th>\n",
       "    </tr>\n",
       "  </thead>\n",
       "  <tbody>\n",
       "  </tbody>\n",
       "</table>\n",
       "</div>"
      ],
      "text/plain": [
       "Empty DataFrame\n",
       "Columns: [Base_No, Difference, Strand1_Base, Strand2_Base]\n",
       "Index: []"
      ]
     },
     "execution_count": 7,
     "metadata": {},
     "output_type": "execute_result"
    }
   ],
   "source": [
    "# initiating the dataframe\n",
    "df = pd.DataFrame(columns = [\"Base_No\", \"Difference\", \"Strand1_Base\", \"Strand2_Base\"])\n",
    "df"
   ]
  },
  {
   "cell_type": "code",
   "execution_count": 8,
   "metadata": {},
   "outputs": [],
   "source": [
    "# appending data into the dataframe one base at a time\n",
    "\n",
    "for i in range(len(strands[0])):\n",
    "    if strands[0][i]==strands[1][i]:\n",
    "        df = df.append({\"Base_No\" : i+1, \n",
    "                      \"Difference\": \"No\", \n",
    "                      \"Strand1_Base\": strands[0][i], \n",
    "                      \"Strand2_Base\": strands[1][i]}, ignore_index=True)\n",
    "        \n",
    "    else: \n",
    "        df = df.append({\"Base_No\": i+1, \n",
    "                      \"Difference\": \"Yes\", \n",
    "                      \"Strand1_Base\": strands[0][i], \n",
    "                      \"Strand2_Base\": strands[1][i]}, ignore_index=True)"
   ]
  },
  {
   "cell_type": "code",
   "execution_count": 9,
   "metadata": {},
   "outputs": [
    {
     "name": "stdout",
     "output_type": "stream",
     "text": [
      "(17, 4)\n"
     ]
    },
    {
     "data": {
      "text/html": [
       "<div>\n",
       "<style scoped>\n",
       "    .dataframe tbody tr th:only-of-type {\n",
       "        vertical-align: middle;\n",
       "    }\n",
       "\n",
       "    .dataframe tbody tr th {\n",
       "        vertical-align: top;\n",
       "    }\n",
       "\n",
       "    .dataframe thead th {\n",
       "        text-align: right;\n",
       "    }\n",
       "</style>\n",
       "<table border=\"1\" class=\"dataframe\">\n",
       "  <thead>\n",
       "    <tr style=\"text-align: right;\">\n",
       "      <th></th>\n",
       "      <th>Base_No</th>\n",
       "      <th>Difference</th>\n",
       "      <th>Strand1_Base</th>\n",
       "      <th>Strand2_Base</th>\n",
       "    </tr>\n",
       "  </thead>\n",
       "  <tbody>\n",
       "    <tr>\n",
       "      <th>0</th>\n",
       "      <td>1</td>\n",
       "      <td>Yes</td>\n",
       "      <td>G</td>\n",
       "      <td>C</td>\n",
       "    </tr>\n",
       "    <tr>\n",
       "      <th>1</th>\n",
       "      <td>2</td>\n",
       "      <td>No</td>\n",
       "      <td>A</td>\n",
       "      <td>A</td>\n",
       "    </tr>\n",
       "    <tr>\n",
       "      <th>2</th>\n",
       "      <td>3</td>\n",
       "      <td>Yes</td>\n",
       "      <td>G</td>\n",
       "      <td>T</td>\n",
       "    </tr>\n",
       "    <tr>\n",
       "      <th>3</th>\n",
       "      <td>4</td>\n",
       "      <td>No</td>\n",
       "      <td>C</td>\n",
       "      <td>C</td>\n",
       "    </tr>\n",
       "    <tr>\n",
       "      <th>4</th>\n",
       "      <td>5</td>\n",
       "      <td>Yes</td>\n",
       "      <td>C</td>\n",
       "      <td>G</td>\n",
       "    </tr>\n",
       "  </tbody>\n",
       "</table>\n",
       "</div>"
      ],
      "text/plain": [
       "  Base_No Difference Strand1_Base Strand2_Base\n",
       "0       1        Yes            G            C\n",
       "1       2         No            A            A\n",
       "2       3        Yes            G            T\n",
       "3       4         No            C            C\n",
       "4       5        Yes            C            G"
      ]
     },
     "execution_count": 9,
     "metadata": {},
     "output_type": "execute_result"
    }
   ],
   "source": [
    "print(df.shape)\n",
    "df.head() # the head command only print out first few lines of the df"
   ]
  },
  {
   "cell_type": "code",
   "execution_count": 10,
   "metadata": {},
   "outputs": [
    {
     "data": {
      "text/html": [
       "<div>\n",
       "<style scoped>\n",
       "    .dataframe tbody tr th:only-of-type {\n",
       "        vertical-align: middle;\n",
       "    }\n",
       "\n",
       "    .dataframe tbody tr th {\n",
       "        vertical-align: top;\n",
       "    }\n",
       "\n",
       "    .dataframe thead th {\n",
       "        text-align: right;\n",
       "    }\n",
       "</style>\n",
       "<table border=\"1\" class=\"dataframe\">\n",
       "  <thead>\n",
       "    <tr style=\"text-align: right;\">\n",
       "      <th></th>\n",
       "      <th>Base_No</th>\n",
       "      <th>Difference</th>\n",
       "      <th>Strand1_Base</th>\n",
       "      <th>Strand2_Base</th>\n",
       "    </tr>\n",
       "  </thead>\n",
       "  <tbody>\n",
       "    <tr>\n",
       "      <th>9</th>\n",
       "      <td>10</td>\n",
       "      <td>Yes</td>\n",
       "      <td>A</td>\n",
       "      <td>G</td>\n",
       "    </tr>\n",
       "  </tbody>\n",
       "</table>\n",
       "</div>"
      ],
      "text/plain": [
       "  Base_No Difference Strand1_Base Strand2_Base\n",
       "9      10        Yes            A            G"
      ]
     },
     "execution_count": 10,
     "metadata": {},
     "output_type": "execute_result"
    }
   ],
   "source": [
    "# Now we have just have to apply many filters to get the data we want.\n",
    "\n",
    "df[ (df[\"Difference\"]==\"Yes\") & (df[\"Strand1_Base\"] == \"A\") & (df[\"Strand2_Base\"] == 'G')]\n",
    "\n",
    "# lets apply that to a for loop and get all the mutation point we need. "
   ]
  },
  {
   "cell_type": "markdown",
   "metadata": {},
   "source": [
    "Now lets look into what bases mutated into what other bases: \n",
    "\n",
    "for that I am creating a new dataframe and inputting the data into that. "
   ]
  },
  {
   "cell_type": "code",
   "execution_count": 11,
   "metadata": {},
   "outputs": [
    {
     "data": {
      "text/html": [
       "<div>\n",
       "<style scoped>\n",
       "    .dataframe tbody tr th:only-of-type {\n",
       "        vertical-align: middle;\n",
       "    }\n",
       "\n",
       "    .dataframe tbody tr th {\n",
       "        vertical-align: top;\n",
       "    }\n",
       "\n",
       "    .dataframe thead th {\n",
       "        text-align: right;\n",
       "    }\n",
       "</style>\n",
       "<table border=\"1\" class=\"dataframe\">\n",
       "  <thead>\n",
       "    <tr style=\"text-align: right;\">\n",
       "      <th></th>\n",
       "      <th>Mutation</th>\n",
       "      <th>Total</th>\n",
       "    </tr>\n",
       "  </thead>\n",
       "  <tbody>\n",
       "    <tr>\n",
       "      <th>0</th>\n",
       "      <td>A -&gt; T</td>\n",
       "      <td>0</td>\n",
       "    </tr>\n",
       "    <tr>\n",
       "      <th>1</th>\n",
       "      <td>A -&gt; G</td>\n",
       "      <td>1</td>\n",
       "    </tr>\n",
       "    <tr>\n",
       "      <th>2</th>\n",
       "      <td>A -&gt; C</td>\n",
       "      <td>1</td>\n",
       "    </tr>\n",
       "    <tr>\n",
       "      <th>3</th>\n",
       "      <td>T -&gt; A</td>\n",
       "      <td>0</td>\n",
       "    </tr>\n",
       "    <tr>\n",
       "      <th>4</th>\n",
       "      <td>T -&gt; G</td>\n",
       "      <td>0</td>\n",
       "    </tr>\n",
       "    <tr>\n",
       "      <th>5</th>\n",
       "      <td>T -&gt; C</td>\n",
       "      <td>0</td>\n",
       "    </tr>\n",
       "    <tr>\n",
       "      <th>6</th>\n",
       "      <td>G -&gt; A</td>\n",
       "      <td>0</td>\n",
       "    </tr>\n",
       "    <tr>\n",
       "      <th>7</th>\n",
       "      <td>G -&gt; T</td>\n",
       "      <td>1</td>\n",
       "    </tr>\n",
       "    <tr>\n",
       "      <th>8</th>\n",
       "      <td>G -&gt; C</td>\n",
       "      <td>2</td>\n",
       "    </tr>\n",
       "    <tr>\n",
       "      <th>9</th>\n",
       "      <td>C -&gt; A</td>\n",
       "      <td>1</td>\n",
       "    </tr>\n",
       "    <tr>\n",
       "      <th>10</th>\n",
       "      <td>C -&gt; T</td>\n",
       "      <td>0</td>\n",
       "    </tr>\n",
       "    <tr>\n",
       "      <th>11</th>\n",
       "      <td>C -&gt; G</td>\n",
       "      <td>1</td>\n",
       "    </tr>\n",
       "  </tbody>\n",
       "</table>\n",
       "</div>"
      ],
      "text/plain": [
       "   Mutation Total\n",
       "0    A -> T     0\n",
       "1    A -> G     1\n",
       "2    A -> C     1\n",
       "3    T -> A     0\n",
       "4    T -> G     0\n",
       "5    T -> C     0\n",
       "6    G -> A     0\n",
       "7    G -> T     1\n",
       "8    G -> C     2\n",
       "9    C -> A     1\n",
       "10   C -> T     0\n",
       "11   C -> G     1"
      ]
     },
     "execution_count": 11,
     "metadata": {},
     "output_type": "execute_result"
    }
   ],
   "source": [
    "bases = [\"A\", \"T\", \"G\", \"C\"]\n",
    "\n",
    "df_compare = pd.DataFrame(columns = ['Mutation', \"Total\"])\n",
    "\n",
    "for i in bases: \n",
    "    for j in bases: \n",
    "        if i != j:   # this ignore the addition of A->A rows\n",
    "            df_compare = df_compare.append({'Mutation': i + ' -> ' + j, \n",
    "                                           \"Total\": int(len(df[ (df[\"Difference\"]==\"Yes\") & (df[\"Strand1_Base\"] == i) & (df[\"Strand2_Base\"] == j)]))}, \n",
    "                                          ignore_index=True)\n",
    "df_compare"
   ]
  },
  {
   "cell_type": "code",
   "execution_count": 12,
   "metadata": {},
   "outputs": [
    {
     "data": {
      "image/png": "[encoded data removed]",
      "text/plain": [
       "<Figure size 720x360 with 1 Axes>"
      ]
     },
     "metadata": {
      "needs_background": "light"
     },
     "output_type": "display_data"
    }
   ],
   "source": [
    "import matplotlib.pyplot as plt\n",
    "\n",
    "plt.figure(figsize=(10, 5))\n",
    "\n",
    "plt.bar(df_compare['Mutation'], df_compare['Total'], align='edge', width=0.3, color = ['red', 'red','red', 'red',\n",
    "                                                                                      'blue', 'blue','blue', 'blue',\n",
    "                                                                                      'black', 'black','black', 'black',\n",
    "                                                                                      'green', 'green','green', 'green'])\n",
    "plt.xlabel('Nucelotides')\n",
    "plt.ylabel('No. of Nucleotides')\n",
    "\n",
    "for x,y in zip(df_compare['Mutation'], df_compare['Total']):\n",
    "\n",
    "    label = \"{:.2f}\".format(y)\n",
    "\n",
    "    plt.annotate(label, # this is the text\n",
    "                 (x,y), # this is the point to label\n",
    "                 textcoords=\"offset points\", # how to position the text\n",
    "                 xytext=(0,10), # distance from text to points (x,y)\n",
    "                 ha='center') # horizontal alignment can be left, right or center\n",
    "\n",
    "plt.xticks(rotation=45)\n",
    "\n",
    "plt.savefig(\"Visualization/SamplePlot.png\")\n"
   ]
  },
  {
   "cell_type": "markdown",
   "metadata": {},
   "source": [
    "Now lets filter for the mutated bases"
   ]
  },
  {
   "cell_type": "code",
   "execution_count": null,
   "metadata": {},
   "outputs": [],
   "source": []
  },
  {
   "cell_type": "markdown",
   "metadata": {},
   "source": [
    "***\n",
    "***\n",
    "## Lets try using plotly to make a Sankey plot:\n",
    "\n",
    "for this you need the library called plotly, follow the instrution on how to install new libraries and install plolty on your conda envirnoment and then run these code:\n",
    "\n",
    "The link that I followed to get the code for this is : https://medium.com/kenlok/how-to-create-sankey-diagrams-from-dataframes-in-python-e221c1b4d6b0\n",
    "\n"
   ]
  },
  {
   "cell_type": "code",
   "execution_count": 20,
   "metadata": {},
   "outputs": [
    {
     "data": {
      "text/html": [
       "<div>\n",
       "<style scoped>\n",
       "    .dataframe tbody tr th:only-of-type {\n",
       "        vertical-align: middle;\n",
       "    }\n",
       "\n",
       "    .dataframe tbody tr th {\n",
       "        vertical-align: top;\n",
       "    }\n",
       "\n",
       "    .dataframe thead th {\n",
       "        text-align: right;\n",
       "    }\n",
       "</style>\n",
       "<table border=\"1\" class=\"dataframe\">\n",
       "  <thead>\n",
       "    <tr style=\"text-align: right;\">\n",
       "      <th></th>\n",
       "      <th>Base1</th>\n",
       "      <th>Base2</th>\n",
       "      <th>Mutated</th>\n",
       "      <th>Base_Mutated</th>\n",
       "      <th>Total</th>\n",
       "    </tr>\n",
       "  </thead>\n",
       "  <tbody>\n",
       "    <tr>\n",
       "      <th>0</th>\n",
       "      <td>A</td>\n",
       "      <td>AA</td>\n",
       "      <td>No</td>\n",
       "      <td>NaN</td>\n",
       "      <td>3</td>\n",
       "    </tr>\n",
       "    <tr>\n",
       "      <th>1</th>\n",
       "      <td>A</td>\n",
       "      <td>AT</td>\n",
       "      <td>Yes</td>\n",
       "      <td>A_Mutated</td>\n",
       "      <td>0</td>\n",
       "    </tr>\n",
       "    <tr>\n",
       "      <th>2</th>\n",
       "      <td>A</td>\n",
       "      <td>AG</td>\n",
       "      <td>Yes</td>\n",
       "      <td>A_Mutated</td>\n",
       "      <td>1</td>\n",
       "    </tr>\n",
       "    <tr>\n",
       "      <th>3</th>\n",
       "      <td>A</td>\n",
       "      <td>AC</td>\n",
       "      <td>Yes</td>\n",
       "      <td>A_Mutated</td>\n",
       "      <td>1</td>\n",
       "    </tr>\n",
       "    <tr>\n",
       "      <th>4</th>\n",
       "      <td>T</td>\n",
       "      <td>TA</td>\n",
       "      <td>Yes</td>\n",
       "      <td>T_Mutated</td>\n",
       "      <td>0</td>\n",
       "    </tr>\n",
       "    <tr>\n",
       "      <th>5</th>\n",
       "      <td>T</td>\n",
       "      <td>TT</td>\n",
       "      <td>No</td>\n",
       "      <td>NaN</td>\n",
       "      <td>3</td>\n",
       "    </tr>\n",
       "    <tr>\n",
       "      <th>6</th>\n",
       "      <td>T</td>\n",
       "      <td>TG</td>\n",
       "      <td>Yes</td>\n",
       "      <td>T_Mutated</td>\n",
       "      <td>0</td>\n",
       "    </tr>\n",
       "    <tr>\n",
       "      <th>7</th>\n",
       "      <td>T</td>\n",
       "      <td>TC</td>\n",
       "      <td>Yes</td>\n",
       "      <td>T_Mutated</td>\n",
       "      <td>0</td>\n",
       "    </tr>\n",
       "    <tr>\n",
       "      <th>8</th>\n",
       "      <td>G</td>\n",
       "      <td>GA</td>\n",
       "      <td>Yes</td>\n",
       "      <td>G_Mutated</td>\n",
       "      <td>0</td>\n",
       "    </tr>\n",
       "    <tr>\n",
       "      <th>9</th>\n",
       "      <td>G</td>\n",
       "      <td>GT</td>\n",
       "      <td>Yes</td>\n",
       "      <td>G_Mutated</td>\n",
       "      <td>1</td>\n",
       "    </tr>\n",
       "    <tr>\n",
       "      <th>10</th>\n",
       "      <td>G</td>\n",
       "      <td>GG</td>\n",
       "      <td>No</td>\n",
       "      <td>NaN</td>\n",
       "      <td>2</td>\n",
       "    </tr>\n",
       "    <tr>\n",
       "      <th>11</th>\n",
       "      <td>G</td>\n",
       "      <td>GC</td>\n",
       "      <td>Yes</td>\n",
       "      <td>G_Mutated</td>\n",
       "      <td>2</td>\n",
       "    </tr>\n",
       "    <tr>\n",
       "      <th>12</th>\n",
       "      <td>C</td>\n",
       "      <td>CA</td>\n",
       "      <td>Yes</td>\n",
       "      <td>C_Mutated</td>\n",
       "      <td>1</td>\n",
       "    </tr>\n",
       "    <tr>\n",
       "      <th>13</th>\n",
       "      <td>C</td>\n",
       "      <td>CT</td>\n",
       "      <td>Yes</td>\n",
       "      <td>C_Mutated</td>\n",
       "      <td>0</td>\n",
       "    </tr>\n",
       "    <tr>\n",
       "      <th>14</th>\n",
       "      <td>C</td>\n",
       "      <td>CG</td>\n",
       "      <td>Yes</td>\n",
       "      <td>C_Mutated</td>\n",
       "      <td>1</td>\n",
       "    </tr>\n",
       "    <tr>\n",
       "      <th>15</th>\n",
       "      <td>C</td>\n",
       "      <td>CC</td>\n",
       "      <td>No</td>\n",
       "      <td>NaN</td>\n",
       "      <td>2</td>\n",
       "    </tr>\n",
       "  </tbody>\n",
       "</table>\n",
       "</div>"
      ],
      "text/plain": [
       "   Base1 Base2 Mutated Base_Mutated Total\n",
       "0      A    AA      No          NaN     3\n",
       "1      A    AT     Yes    A_Mutated     0\n",
       "2      A    AG     Yes    A_Mutated     1\n",
       "3      A    AC     Yes    A_Mutated     1\n",
       "4      T    TA     Yes    T_Mutated     0\n",
       "5      T    TT      No          NaN     3\n",
       "6      T    TG     Yes    T_Mutated     0\n",
       "7      T    TC     Yes    T_Mutated     0\n",
       "8      G    GA     Yes    G_Mutated     0\n",
       "9      G    GT     Yes    G_Mutated     1\n",
       "10     G    GG      No          NaN     2\n",
       "11     G    GC     Yes    G_Mutated     2\n",
       "12     C    CA     Yes    C_Mutated     1\n",
       "13     C    CT     Yes    C_Mutated     0\n",
       "14     C    CG     Yes    C_Mutated     1\n",
       "15     C    CC      No          NaN     2"
      ]
     },
     "execution_count": 20,
     "metadata": {},
     "output_type": "execute_result"
    }
   ],
   "source": [
    "bases = [\"A\", \"T\", \"G\", \"C\"]\n",
    "\n",
    "df_compare_all = pd.DataFrame(columns = ['Base1', 'Base2', 'Mutated', 'Base_Mutated',\"Total\"])\n",
    "\n",
    "for i in bases: \n",
    "    for j in bases: \n",
    "        if i==j: \n",
    "            df_compare_all = df_compare_all.append({'Base1': i,\n",
    "                                                    'Base2': i+j,\n",
    "                                                    'Mutated': 'No',\n",
    "                                                   \"Total\": int(len(df[ (df[\"Strand1_Base\"] == i) & (df[\"Strand2_Base\"] == j)]))}, \n",
    "                                                  ignore_index=True)\n",
    "        else: \n",
    "            df_compare_all = df_compare_all.append({'Base1': i,\n",
    "                                                    'Base2': i+j,\n",
    "                                                    'Mutated': 'Yes',\n",
    "                                                    'Base_Mutated': i+'_Mutated',\n",
    "                                                   \"Total\": int(len(df[ (df[\"Strand1_Base\"] == i) & (df[\"Strand2_Base\"] == j)]))}, \n",
    "                                                  ignore_index=True)\n",
    "df_compare_all"
   ]
  },
  {
   "cell_type": "code",
   "execution_count": 21,
   "metadata": {},
   "outputs": [],
   "source": [
    "def genSankey(df,cat_cols=[],value_cols='',title='Sankey Diagram'):\n",
    "    # maximum of 6 value cols -> 6 colors\n",
    "    colorPalette = ['#4B8BBE','#306998','#FFE873','#FFD43B','#646464']\n",
    "    labelList = []\n",
    "    colorNumList = []\n",
    "    for catCol in cat_cols:\n",
    "        labelListTemp =  list(set(df[catCol].values))\n",
    "        colorNumList.append(len(labelListTemp))\n",
    "        labelList = labelList + labelListTemp\n",
    "        \n",
    "    # remove duplicates from labelList\n",
    "    labelList = list(dict.fromkeys(labelList))\n",
    "    \n",
    "    # define colors based on number of levels\n",
    "    colorList = []\n",
    "    for idx, colorNum in enumerate(colorNumList):\n",
    "        colorList = colorList + [colorPalette[idx]]*colorNum\n",
    "        \n",
    "    # transform df into a source-target pair\n",
    "    for i in range(len(cat_cols)-1):\n",
    "        if i==0:\n",
    "            sourceTargetDf = df[[cat_cols[i],cat_cols[i+1],value_cols]]\n",
    "            sourceTargetDf.columns = ['source','target','count']\n",
    "        else:\n",
    "            tempDf = df[[cat_cols[i],cat_cols[i+1],value_cols]]\n",
    "            tempDf.columns = ['source','target','count']\n",
    "            sourceTargetDf = pd.concat([sourceTargetDf,tempDf])\n",
    "        sourceTargetDf = sourceTargetDf.groupby(['source','target']).agg({'count':'sum'}).reset_index()\n",
    "        \n",
    "    # add index for source-target pair\n",
    "    sourceTargetDf['sourceID'] = sourceTargetDf['source'].apply(lambda x: labelList.index(x))\n",
    "    sourceTargetDf['targetID'] = sourceTargetDf['target'].apply(lambda x: labelList.index(x))\n",
    "    \n",
    "    # creating the sankey diagram\n",
    "    data = dict(\n",
    "        type='sankey',\n",
    "        node = dict(\n",
    "          pad = 15,\n",
    "          thickness = 20,\n",
    "          line = dict(\n",
    "            color = \"black\",\n",
    "            width = 0.5\n",
    "          ),\n",
    "          label = labelList,\n",
    "          color = colorList\n",
    "        ),\n",
    "        link = dict(\n",
    "          source = sourceTargetDf['sourceID'],\n",
    "          target = sourceTargetDf['targetID'],\n",
    "          value = sourceTargetDf['count']\n",
    "        )\n",
    "      )\n",
    "    \n",
    "    layout =  dict(\n",
    "        title = title,\n",
    "        font = dict(\n",
    "          size = 20\n",
    "        )\n",
    "    )\n",
    "       \n",
    "    fig = dict(data=[data], layout=layout)\n",
    "    return fig"
   ]
  },
  {
   "cell_type": "code",
   "execution_count": 23,
   "metadata": {},
   "outputs": [
    {
     "data": {
      "text/plain": [
       "'temp-plot.html'"
      ]
     },
     "execution_count": 23,
     "metadata": {},
     "output_type": "execute_result"
    }
   ],
   "source": [
    "\n",
    "import pandas as pd\n",
    "import plotly as py\n",
    "\n",
    "fig = genSankey(df_compare_all,cat_cols=['Mutated','Base1', 'Base_Mutated','Base2'],value_cols='Total',title='Sankey Diagram')\n",
    "py.offline.plot(fig, validate=False)"
   ]
  },
  {
   "cell_type": "code",
   "execution_count": null,
   "metadata": {},
   "outputs": [],
   "source": []
  }
 ],
 "metadata": {
  "kernelspec": {
   "display_name": "Python 3",
   "language": "python",
   "name": "python3"
  },
  "language_info": {
   "codemirror_mode": {
    "name": "ipython",
    "version": 3
   },
   "file_extension": ".py",
   "mimetype": "text/x-python",
   "name": "python",
   "nbconvert_exporter": "python",
   "pygments_lexer": "ipython3",
   "version": "3.7.6"
  }
 },
 "nbformat": 4,
 "nbformat_minor": 4
}
