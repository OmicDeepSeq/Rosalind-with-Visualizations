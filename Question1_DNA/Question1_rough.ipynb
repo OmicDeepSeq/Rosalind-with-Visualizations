{
 "cells": [
  {
   "cell_type": "markdown",
   "metadata": {},
   "source": [
    "# Question1: Counting DNA Nucleotides"
   ]
  },
  {
   "cell_type": "markdown",
   "metadata": {},
   "source": [
    "## Data Import: "
   ]
  },
  {
   "cell_type": "markdown",
   "metadata": {},
   "source": []
  },
  {
   "cell_type": "markdown",
   "metadata": {},
   "source": [
    "Info on data import: https://www.pythonforbeginners.com/files/reading-and-writing-files-in-python\n",
    "\n",
    "We are going to use the inbuilt data import function in python itself for this. This occurs in two steps: \n",
    "- open the file using \"open(\"path\")\" command, then \n",
    "- read the info in the file using \"variable.read()\" command\n",
    "\n",
    "We have to import the data from the SampleData.txt file inside the Input_Data folder. Since the perspective of view in this notebook is from where is it located in the folders, which is from the \"Question1_DNA\" folder, we have to tell the \"open\" command to first look into Input_Data folder and then SampleData.txt file (\"Input_Data/SampleData.txt\")"
   ]
  },
  {
   "cell_type": "code",
   "execution_count": 1,
   "metadata": {},
   "outputs": [
    {
     "data": {
      "text/plain": [
       "'AGCTTTTCATTCTGACTGCAACGGGCAATATGTCTCTGTGTGGATTAAAAAAAGAGTGTCTGATAGCAGC'"
      ]
     },
     "execution_count": 1,
     "metadata": {},
     "output_type": "execute_result"
    }
   ],
   "source": [
    "DNAfile = open(\"Input_Data/SampleData.txt\")\n",
    "DNAstrand = DNAfile.read()\n",
    "DNAstrand"
   ]
  },
  {
   "cell_type": "code",
   "execution_count": 2,
   "metadata": {},
   "outputs": [
    {
     "name": "stdout",
     "output_type": "stream",
     "text": [
      "AGCTTTTCATTCTGACTGCAACGGGCAATATGTCTCTGTGTGGATTAAAAAAAGAGTGTCTGATAGCAGC\n"
     ]
    },
    {
     "data": {
      "text/plain": [
       "'AGCTTTTCATTCTGACTGCAACGGGCAATATGTCTCTGTGTGGATTAAAAAAAGAGTGTCTGATAGCAGC'"
      ]
     },
     "execution_count": 2,
     "metadata": {},
     "output_type": "execute_result"
    }
   ],
   "source": [
    "# to comment lines inside a \"code\" cell, use '#' in front of them\n",
    "\n",
    "# note: \n",
    "# to print the values of a variable, you can place it at the very end of a cell as it is like in the above cell or\n",
    "# you can mention it in a print statement like below.\n",
    "\n",
    "print(DNAstrand)\n",
    "DNAstrand"
   ]
  },
  {
   "cell_type": "markdown",
   "metadata": {},
   "source": [
    "## Analysis"
   ]
  },
  {
   "cell_type": "markdown",
   "metadata": {},
   "source": [
    "Now that we have the DNA strand read from the file and assigned to a variable we can count the number of nuleotides in them by using a simple character search in a string method which is built in python itself. \n",
    "\n",
    "link to counting characters in different ways: https://www.geeksforgeeks.org/python-count-occurrences-of-a-character-in-string/"
   ]
  },
  {
   "cell_type": "code",
   "execution_count": 3,
   "metadata": {},
   "outputs": [
    {
     "data": {
      "text/plain": [
       "20"
      ]
     },
     "execution_count": 3,
     "metadata": {},
     "output_type": "execute_result"
    }
   ],
   "source": [
    "# for example if you want to count the no. of As then just type the following \n",
    "DNAstrand.count('A')"
   ]
  },
  {
   "cell_type": "code",
   "execution_count": 4,
   "metadata": {},
   "outputs": [
    {
     "data": {
      "text/plain": [
       "5"
      ]
     },
     "execution_count": 4,
     "metadata": {},
     "output_type": "execute_result"
    }
   ],
   "source": [
    "# if you want to search for a comibination of letters or words in a para then \n",
    "DNAstrand.count('AT')"
   ]
  },
  {
   "cell_type": "markdown",
   "metadata": {},
   "source": [
    "Here we have 20 individual A nucleotides and 5 of them are followed up by a T nucleotide. \n",
    "\n",
    "Now lets get the answer for the question. The answer needs to be in this format for it to be correct: A C G T "
   ]
  },
  {
   "cell_type": "code",
   "execution_count": 5,
   "metadata": {},
   "outputs": [
    {
     "name": "stdout",
     "output_type": "stream",
     "text": [
      "20 12 17 21\n"
     ]
    }
   ],
   "source": [
    "nA = DNAstrand.count('A')\n",
    "nC = DNAstrand.count('C')\n",
    "nG = DNAstrand.count('G')\n",
    "nT = DNAstrand.count('T')\n",
    "\n",
    "print(nA, nC, nG, nT)"
   ]
  },
  {
   "cell_type": "markdown",
   "metadata": {},
   "source": [
    "## Data Output: "
   ]
  },
  {
   "cell_type": "markdown",
   "metadata": {},
   "source": [
    "Link to File creation, reading, writing, etc = https://www.digitalocean.com/community/tutorials/how-to-handle-plain-text-files-in-python-3 \n",
    "\n",
    "Link to converting int to string: https://pythonprinciples.com/blog/converting-integer-to-string-in-python/\n",
    "\n",
    "Since to \"write\" into a txt file, we need a string format and not an int format, we need to change the frequency values to str and combine them into a one result string with spaces between them. "
   ]
  },
  {
   "cell_type": "code",
   "execution_count": 6,
   "metadata": {},
   "outputs": [
    {
     "data": {
      "text/plain": [
       "'20 12 17 21'"
      ]
     },
     "execution_count": 6,
     "metadata": {},
     "output_type": "execute_result"
    }
   ],
   "source": [
    "result = str(nA) + ' ' + str(nC) + ' ' + str(nG) + ' ' + str(nT)\n",
    "result"
   ]
  },
  {
   "cell_type": "code",
   "execution_count": 7,
   "metadata": {},
   "outputs": [],
   "source": [
    "DNAOutput = open(\"Output_Data/SampleOutput.txt\", \"w\")\n",
    "DNAOutput.write(result)\n",
    "DNAOutput.close()"
   ]
  },
  {
   "cell_type": "markdown",
   "metadata": {},
   "source": [
    "## Data Visulization: "
   ]
  },
  {
   "cell_type": "markdown",
   "metadata": {},
   "source": [
    "https://matplotlib.org/gallery/index.html"
   ]
  },
  {
   "cell_type": "code",
   "execution_count": 8,
   "metadata": {},
   "outputs": [
    {
     "data": {
      "image/png": "[encoded data removed]",
      "text/plain": [
       "<Figure size 432x288 with 1 Axes>"
      ]
     },
     "metadata": {
      "needs_background": "light"
     },
     "output_type": "display_data"
    }
   ],
   "source": [
    "Nucleotides = [\"A\", \"C\", \"G\", \"T\"]\n",
    "CountValue = [nA, nC, nG, nT]\n",
    "\n",
    "import matplotlib.pyplot as plt\n",
    "plt.bar(Nucleotides, CountValue, color = ['red', 'blue', 'black', 'green'])\n",
    "plt.xlabel('Nucelotides')\n",
    "plt.ylabel('No. of Nucleotides')\n",
    "plt.savefig(\"Visualization/SampleData.png\")"
   ]
  },
  {
   "cell_type": "code",
   "execution_count": null,
   "metadata": {},
   "outputs": [],
   "source": []
  }
 ],
 "metadata": {
  "kernelspec": {
   "display_name": "Python 3",
   "language": "python",
   "name": "python3"
  },
  "language_info": {
   "codemirror_mode": {
    "name": "ipython",
    "version": 3
   },
   "file_extension": ".py",
   "mimetype": "text/x-python",
   "name": "python",
   "nbconvert_exporter": "python",
   "pygments_lexer": "ipython3",
   "version": "3.13.5"
  }
 },
 "nbformat": 4,
 "nbformat_minor": 4
}
