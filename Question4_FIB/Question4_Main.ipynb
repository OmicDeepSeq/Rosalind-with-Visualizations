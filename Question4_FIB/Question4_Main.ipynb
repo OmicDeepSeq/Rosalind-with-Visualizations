{
 "cells": [
  {
   "cell_type": "markdown",
   "metadata": {},
   "source": [
    "# Question 4 : Rabbits and Recurrence Relations\n",
    "***"
   ]
  },
  {
   "cell_type": "code",
   "execution_count": 6,
   "metadata": {},
   "outputs": [],
   "source": [
    "import pandas as pd\n",
    "\n",
    "Samplefile = open(\"Input_Data/Attempt2.txt\")\n",
    "Samplefile = Samplefile.read()\n",
    "\n",
    "variables = Samplefile.split(' ')\n",
    "\n",
    "n = int(variables[0])      # No. of Years\n",
    "k = int(variables[1])      # No. of babies each rabbit pair can have per year.\n",
    "\n",
    "Young_rabbit = 1\n",
    "One_month_rabbit = 0\n",
    "Adult_rabbit = 0\n",
    "\n",
    "track_df = pd.DataFrame(columns = ['Month', 'Young_rabbit', 'One_month_rabbit', 'Adult_rabbit'])\n",
    "\n",
    "track_df = track_df.append({'Month' : 1 ,\n",
    "                 'Young_rabbit' : Young_rabbit, \n",
    "                 'One_month_rabbit' : One_month_rabbit, \n",
    "                 'Adult_rabbit' : Adult_rabbit, \n",
    "                 'Total_rabbit': 0 } , ignore_index=True)\n",
    "\n",
    "for i in range(1, n):\n",
    "    \n",
    "    # The young rabbits will turn to one month old rabbits\n",
    "    New_one_month = Young_rabbit\n",
    "    \n",
    "    Young_rabbit = 0\n",
    "    \n",
    "    # now when ever month turns, the total rabbits will be the previous one month old rabbits + adult rabbit\n",
    "    Adult_rabbit += One_month_rabbit\n",
    "    \n",
    "    # young rabbits now will be previous month adult rabbits * no. of pairs they can produce\n",
    "    Young_rabbit = Adult_rabbit * k \n",
    "    \n",
    "    One_month_rabbit = New_one_month\n",
    "    \n",
    "    Total_rabbit = Young_rabbit + One_month_rabbit + Adult_rabbit\n",
    "    \n",
    "    track_df = track_df.append({'Month' : i+1 ,\n",
    "                 'Young_rabbit' : Young_rabbit, \n",
    "                 'One_month_rabbit' : One_month_rabbit, \n",
    "                 'Adult_rabbit' : Adult_rabbit, \n",
    "                 'Total_rabbit': Total_rabbit} , ignore_index=True)\n",
    "    \n",
    "    \n",
    "# Data Output: \n",
    "DNAOutput = open(\"Output_Data/OutputAttempt2.txt\", \"w\")\n",
    "DNAOutput.write(str(Total_rabbit))\n",
    "DNAOutput.close()\n",
    "\n",
    "\n",
    "track_df.to_csv(\"Visualization/Attempt2.csv\")"
   ]
  },
  {
   "cell_type": "code",
   "execution_count": null,
   "metadata": {},
   "outputs": [],
   "source": []
  }
 ],
 "metadata": {
  "kernelspec": {
   "display_name": "Python 3",
   "language": "python",
   "name": "python3"
  },
  "language_info": {
   "codemirror_mode": {
    "name": "ipython",
    "version": 3
   },
   "file_extension": ".py",
   "mimetype": "text/x-python",
   "name": "python",
   "nbconvert_exporter": "python",
   "pygments_lexer": "ipython3",
   "version": "3.7.6"
  }
 },
 "nbformat": 4,
 "nbformat_minor": 4
}
