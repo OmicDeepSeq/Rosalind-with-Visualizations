{
 "cells": [
  {
   "cell_type": "markdown",
   "metadata": {},
   "source": [
    "# Question 4: Rabbits and Recurrence Relations\n",
    "***\n",
    "## Data Import: "
   ]
  },
  {
   "cell_type": "code",
   "execution_count": 1,
   "metadata": {},
   "outputs": [
    {
     "data": {
      "text/plain": [
       "'5 3'"
      ]
     },
     "execution_count": 1,
     "metadata": {},
     "output_type": "execute_result"
    }
   ],
   "source": [
    "Samplefile = open(\"Input_Data/SampleData.txt\")\n",
    "Samplefile = Samplefile.read()\n",
    "Samplefile"
   ]
  },
  {
   "cell_type": "markdown",
   "metadata": {},
   "source": [
    "Here the first number represents the = No. of months (n)\n",
    "\n",
    "and the second number represents the = No. of rabbit pairs (k)\n",
    "\n",
    "Now lets extract the numbers by splitting the string and converting them both from string to int. "
   ]
  },
  {
   "cell_type": "code",
   "execution_count": 2,
   "metadata": {},
   "outputs": [
    {
     "data": {
      "text/plain": [
       "['5', '3']"
      ]
     },
     "execution_count": 2,
     "metadata": {},
     "output_type": "execute_result"
    }
   ],
   "source": [
    "variables = Samplefile.split(' ')\n",
    "variables"
   ]
  },
  {
   "cell_type": "code",
   "execution_count": 3,
   "metadata": {},
   "outputs": [
    {
     "name": "stdout",
     "output_type": "stream",
     "text": [
      "5 3\n"
     ]
    }
   ],
   "source": [
    "n = int(variables[0])      # No. of Months\n",
    "k = int(variables[1])      # No. of babies each rabbit pair can have per year.\n",
    "\n",
    "print(n, k)"
   ]
  },
  {
   "cell_type": "markdown",
   "metadata": {},
   "source": [
    "Now that we have the two variables saved and ready to go, lets start the analysis:"
   ]
  },
  {
   "cell_type": "markdown",
   "metadata": {},
   "source": [
    "*** \n",
    "## Analysis"
   ]
  },
  {
   "cell_type": "markdown",
   "metadata": {},
   "source": [
    "The trick over here is to read the additional info in the \"click to Expand\" under the heading on the rosalind page. It gives you the\n",
    "conditions for solving the problem. \n",
    "\n",
    "The conditions are: \n",
    "- The population begins in the first month with a pair of newborn rabbits.\n",
    "- Rabbits reach reproductive age after one month.\n",
    "- In any given month, every rabbit of reproductive age mates with another rabbit of reproductive age.\n",
    "- Exactly one month after two rabbits mate, they produce one male and one female rabbit.\n",
    "- Rabbits never die or stop reproducing.\n",
    "\n",
    "Lets start with three variables for Young rabbits, one month old rabbits and Adult rabbits. "
   ]
  },
  {
   "cell_type": "code",
   "execution_count": 4,
   "metadata": {},
   "outputs": [],
   "source": [
    "# In the first year, we start with one pair of young rabbits.\n",
    "\n",
    "Young_rabbit = 1\n",
    "One_month_rabbit = 0\n",
    "Adult_rabbit = 0"
   ]
  },
  {
   "cell_type": "markdown",
   "metadata": {},
   "source": [
    "Link to create DFs = Link to creating DFs = https://www.datacamp.com/community/blog/python-pandas-cheat-sheet?utm_source=adwords_ppc&utm_campaignid=1565261270&utm_adgroupid=67750485268&utm_device=c&utm_keyword=&utm_matchtype=b&utm_network=g&utm_adpostion=&utm_creative=295208661502&utm_targetid=aud-299261629574:dsa-473406587915&utm_loc_interest_ms=&utm_loc_physical_ms=9061191&gclid=Cj0KCQjwmpb0BRCBARIsAG7y4zYE8nd5GclnMKwJIh6i2iJmv2iqevHMrC5DSMbNioMm6MZ0Ev7inKEaAgTLEALw_wcB\n"
   ]
  },
  {
   "cell_type": "code",
   "execution_count": 5,
   "metadata": {},
   "outputs": [
    {
     "data": {
      "text/html": [
       "<div>\n",
       "<style scoped>\n",
       "    .dataframe tbody tr th:only-of-type {\n",
       "        vertical-align: middle;\n",
       "    }\n",
       "\n",
       "    .dataframe tbody tr th {\n",
       "        vertical-align: top;\n",
       "    }\n",
       "\n",
       "    .dataframe thead th {\n",
       "        text-align: right;\n",
       "    }\n",
       "</style>\n",
       "<table border=\"1\" class=\"dataframe\">\n",
       "  <thead>\n",
       "    <tr style=\"text-align: right;\">\n",
       "      <th></th>\n",
       "      <th>Month</th>\n",
       "      <th>Young_rabbit</th>\n",
       "      <th>One_month_rabbit</th>\n",
       "      <th>Adult_rabbit</th>\n",
       "    </tr>\n",
       "  </thead>\n",
       "  <tbody>\n",
       "  </tbody>\n",
       "</table>\n",
       "</div>"
      ],
      "text/plain": [
       "Empty DataFrame\n",
       "Columns: [Month, Young_rabbit, One_month_rabbit, Adult_rabbit]\n",
       "Index: []"
      ]
     },
     "execution_count": 5,
     "metadata": {},
     "output_type": "execute_result"
    }
   ],
   "source": [
    "# lets start a dataframe to track how the numbers chnage as we go from month to month: \n",
    "import pandas as pd\n",
    "\n",
    "track_df = pd.DataFrame(columns = ['Month', 'Young_rabbit', 'One_month_rabbit', 'Adult_rabbit'])\n",
    "track_df"
   ]
  },
  {
   "cell_type": "code",
   "execution_count": 6,
   "metadata": {},
   "outputs": [
    {
     "data": {
      "text/html": [
       "<div>\n",
       "<style scoped>\n",
       "    .dataframe tbody tr th:only-of-type {\n",
       "        vertical-align: middle;\n",
       "    }\n",
       "\n",
       "    .dataframe tbody tr th {\n",
       "        vertical-align: top;\n",
       "    }\n",
       "\n",
       "    .dataframe thead th {\n",
       "        text-align: right;\n",
       "    }\n",
       "</style>\n",
       "<table border=\"1\" class=\"dataframe\">\n",
       "  <thead>\n",
       "    <tr style=\"text-align: right;\">\n",
       "      <th></th>\n",
       "      <th>Month</th>\n",
       "      <th>Young_rabbit</th>\n",
       "      <th>One_month_rabbit</th>\n",
       "      <th>Adult_rabbit</th>\n",
       "      <th>Total_rabbit</th>\n",
       "    </tr>\n",
       "  </thead>\n",
       "  <tbody>\n",
       "    <tr>\n",
       "      <th>0</th>\n",
       "      <td>1</td>\n",
       "      <td>1</td>\n",
       "      <td>0</td>\n",
       "      <td>0</td>\n",
       "      <td>0.0</td>\n",
       "    </tr>\n",
       "  </tbody>\n",
       "</table>\n",
       "</div>"
      ],
      "text/plain": [
       "  Month Young_rabbit One_month_rabbit Adult_rabbit  Total_rabbit\n",
       "0     1            1                0            0           0.0"
      ]
     },
     "execution_count": 6,
     "metadata": {},
     "output_type": "execute_result"
    }
   ],
   "source": [
    "# lets input the numbers for the first month: \n",
    "\n",
    "track_df = track_df.append({'Month' : 1 ,\n",
    "                 'Young_rabbit' : Young_rabbit, \n",
    "                 'One_month_rabbit' : One_month_rabbit, \n",
    "                 'Adult_rabbit' : Adult_rabbit, \n",
    "                 'Total_rabbit': 0 } , ignore_index=True)\n",
    "\n",
    "track_df"
   ]
  },
  {
   "cell_type": "markdown",
   "metadata": {},
   "source": [
    "Now lets start a for loop that starts with month 2"
   ]
  },
  {
   "cell_type": "code",
   "execution_count": 7,
   "metadata": {},
   "outputs": [],
   "source": [
    "for i in range(1, n):\n",
    "    \n",
    "    # The young rabbits will turn to one month old rabbits\n",
    "    New_one_month = Young_rabbit\n",
    "    \n",
    "    Young_rabbit = 0\n",
    "    \n",
    "    # now when ever month turns, the total rabbits will be the previous one month old rabbits + adult rabbit\n",
    "    Adult_rabbit += One_month_rabbit\n",
    "    \n",
    "    # young rabbits now will be previous month adult rabbits * no. of pairs they can produce\n",
    "    Young_rabbit = Adult_rabbit * k \n",
    "    \n",
    "    One_month_rabbit = New_one_month\n",
    "    \n",
    "    Total_rabbit = Young_rabbit + One_month_rabbit + Adult_rabbit\n",
    "    \n",
    "    track_df = track_df.append({'Month' : i+1 ,\n",
    "                 'Young_rabbit' : Young_rabbit, \n",
    "                 'One_month_rabbit' : One_month_rabbit, \n",
    "                 'Adult_rabbit' : Adult_rabbit, \n",
    "                 'Total_rabbit': Total_rabbit} , ignore_index=True)\n",
    "    \n",
    "    \n",
    "    "
   ]
  },
  {
   "cell_type": "code",
   "execution_count": 8,
   "metadata": {},
   "outputs": [
    {
     "data": {
      "text/html": [
       "<div>\n",
       "<style scoped>\n",
       "    .dataframe tbody tr th:only-of-type {\n",
       "        vertical-align: middle;\n",
       "    }\n",
       "\n",
       "    .dataframe tbody tr th {\n",
       "        vertical-align: top;\n",
       "    }\n",
       "\n",
       "    .dataframe thead th {\n",
       "        text-align: right;\n",
       "    }\n",
       "</style>\n",
       "<table border=\"1\" class=\"dataframe\">\n",
       "  <thead>\n",
       "    <tr style=\"text-align: right;\">\n",
       "      <th></th>\n",
       "      <th>Month</th>\n",
       "      <th>Young_rabbit</th>\n",
       "      <th>One_month_rabbit</th>\n",
       "      <th>Adult_rabbit</th>\n",
       "      <th>Total_rabbit</th>\n",
       "    </tr>\n",
       "  </thead>\n",
       "  <tbody>\n",
       "    <tr>\n",
       "      <th>0</th>\n",
       "      <td>1</td>\n",
       "      <td>1</td>\n",
       "      <td>0</td>\n",
       "      <td>0</td>\n",
       "      <td>0.0</td>\n",
       "    </tr>\n",
       "    <tr>\n",
       "      <th>1</th>\n",
       "      <td>2</td>\n",
       "      <td>0</td>\n",
       "      <td>1</td>\n",
       "      <td>0</td>\n",
       "      <td>1.0</td>\n",
       "    </tr>\n",
       "    <tr>\n",
       "      <th>2</th>\n",
       "      <td>3</td>\n",
       "      <td>3</td>\n",
       "      <td>0</td>\n",
       "      <td>1</td>\n",
       "      <td>4.0</td>\n",
       "    </tr>\n",
       "    <tr>\n",
       "      <th>3</th>\n",
       "      <td>4</td>\n",
       "      <td>3</td>\n",
       "      <td>3</td>\n",
       "      <td>1</td>\n",
       "      <td>7.0</td>\n",
       "    </tr>\n",
       "    <tr>\n",
       "      <th>4</th>\n",
       "      <td>5</td>\n",
       "      <td>12</td>\n",
       "      <td>3</td>\n",
       "      <td>4</td>\n",
       "      <td>19.0</td>\n",
       "    </tr>\n",
       "  </tbody>\n",
       "</table>\n",
       "</div>"
      ],
      "text/plain": [
       "  Month Young_rabbit One_month_rabbit Adult_rabbit  Total_rabbit\n",
       "0     1            1                0            0           0.0\n",
       "1     2            0                1            0           1.0\n",
       "2     3            3                0            1           4.0\n",
       "3     4            3                3            1           7.0\n",
       "4     5           12                3            4          19.0"
      ]
     },
     "execution_count": 8,
     "metadata": {},
     "output_type": "execute_result"
    }
   ],
   "source": [
    "track_df"
   ]
  },
  {
   "cell_type": "code",
   "execution_count": null,
   "metadata": {},
   "outputs": [],
   "source": []
  },
  {
   "cell_type": "markdown",
   "metadata": {},
   "source": [
    "Here we can see that in\n",
    "- month 1: there is one Young rabbit pair \n",
    "- month 2: the one young pair became one month old rabbit \n",
    "- month 3: When the one month old rabbit pair reach month 3, they produce an offspring pair. \n",
    "- month 4: "
   ]
  },
  {
   "cell_type": "markdown",
   "metadata": {},
   "source": [
    "## Visualization: "
   ]
  },
  {
   "cell_type": "code",
   "execution_count": null,
   "metadata": {},
   "outputs": [],
   "source": []
  }
 ],
 "metadata": {
  "kernelspec": {
   "display_name": "Python 3",
   "language": "python",
   "name": "python3"
  },
  "language_info": {
   "codemirror_mode": {
    "name": "ipython",
    "version": 3
   },
   "file_extension": ".py",
   "mimetype": "text/x-python",
   "name": "python",
   "nbconvert_exporter": "python",
   "pygments_lexer": "ipython3",
   "version": "3.7.6"
  }
 },
 "nbformat": 4,
 "nbformat_minor": 4
}
