{
 "cells": [
  {
   "cell_type": "code",
   "execution_count": 1,
   "metadata": {},
   "outputs": [],
   "source": [
    "n = 5 \n",
    "k = 3 "
   ]
  },
  {
   "cell_type": "code",
   "execution_count": 8,
   "metadata": {},
   "outputs": [
    {
     "name": "stdout",
     "output_type": "stream",
     "text": [
      "1 0 1 0\n",
      "2 3 0 1\n",
      "3 3 3 1\n",
      "4 12 3 4\n"
     ]
    },
    {
     "data": {
      "text/plain": [
       "19"
      ]
     },
     "execution_count": 8,
     "metadata": {},
     "output_type": "execute_result"
    }
   ],
   "source": [
    "Young_Rabbit = 1 \n",
    "Adult_Rabbit = 0 \n",
    "One_month_rabbit = 0 \n",
    "\n",
    "for i in range(1, 5): \n",
    "\n",
    "    New_one_month = Young_Rabbit\n",
    "    Young_Rabbit = 0 \n",
    "    Total_Adult_rabbit = One_month_rabbit + Adult_Rabbit\n",
    "    Young_Rabbit = Total_Adult_rabbit*3 \n",
    "    Adult_Rabbit = Total_Adult_rabbit\n",
    "    One_month_rabbit = New_one_month\n",
    "    \n",
    "    print(i, Young_Rabbit, One_month_rabbit, Adult_Rabbit)\n",
    "    \n",
    "Raddits =   Young_Rabbit + One_month_rabbit + Adult_Rabbit\n",
    "Raddits\n"
   ]
  },
  {
   "cell_type": "code",
   "execution_count": 11,
   "metadata": {},
   "outputs": [],
   "source": [
    "file = open(\"Input_Data/rosalind_fib.txt\")\n",
    "file = file.read()"
   ]
  },
  {
   "cell_type": "code",
   "execution_count": 12,
   "metadata": {},
   "outputs": [
    {
     "data": {
      "text/plain": [
       "'29 3\\n'"
      ]
     },
     "execution_count": 12,
     "metadata": {},
     "output_type": "execute_result"
    }
   ],
   "source": [
    "file"
   ]
  },
  {
   "cell_type": "code",
   "execution_count": 21,
   "metadata": {},
   "outputs": [
    {
     "data": {
      "text/plain": [
       "3"
      ]
     },
     "execution_count": 21,
     "metadata": {},
     "output_type": "execute_result"
    }
   ],
   "source": [
    "int(file.split()[1])"
   ]
  },
  {
   "cell_type": "code",
   "execution_count": null,
   "metadata": {},
   "outputs": [],
   "source": []
  }
 ],
 "metadata": {
  "kernelspec": {
   "display_name": "Python 3",
   "language": "python",
   "name": "python3"
  },
  "language_info": {
   "codemirror_mode": {
    "name": "ipython",
    "version": 3
   },
   "file_extension": ".py",
   "mimetype": "text/x-python",
   "name": "python",
   "nbconvert_exporter": "python",
   "pygments_lexer": "ipython3",
   "version": "3.7.4"
  }
 },
 "nbformat": 4,
 "nbformat_minor": 4
}
