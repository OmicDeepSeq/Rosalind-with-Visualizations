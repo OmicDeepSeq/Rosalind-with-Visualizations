{
 "cells": [
  {
   "cell_type": "markdown",
   "metadata": {},
   "source": [
    "# Question 9: Finding a Motif in DNA\n",
    "***"
   ]
  },
  {
   "cell_type": "code",
   "execution_count": 8,
   "metadata": {},
   "outputs": [
    {
     "name": "stdout",
     "output_type": "stream",
     "text": [
      "17 4\n"
     ]
    }
   ],
   "source": [
    "Main_st = \"GATATATGCATATACTT\"\n",
    "sub_st=\"ATAT\"\n",
    "Main = len(Main_st)\n",
    "sub = len(sub_st)\n",
    "print(Main, sub)"
   ]
  },
  {
   "cell_type": "code",
   "execution_count": 10,
   "metadata": {},
   "outputs": [
    {
     "name": "stdout",
     "output_type": "stream",
     "text": [
      "0 G GATA\n",
      "1 A ATAT\n",
      "2 T TATA\n",
      "3 A ATAT\n",
      "4 T TATG\n",
      "5 A ATGC\n",
      "6 T TGCA\n",
      "7 G GCAT\n",
      "8 C CATA\n",
      "9 A ATAT\n",
      "10 T TATA\n",
      "11 A ATAC\n",
      "12 T TACT\n",
      "13 A ACTT\n",
      "14 C CTT\n",
      "15 T TT\n",
      "16 T T\n"
     ]
    }
   ],
   "source": [
    "NoList = []\n",
    "\n",
    "for i in range(Main):\n",
    "    print(i, Main_st[i], Main_st[i: i+sub])\n",
    "    if Main_st[i: i+sub] == sub_st: \n",
    "        NoList.append(i+1)\n",
    "        "
   ]
  },
  {
   "cell_type": "code",
   "execution_count": 11,
   "metadata": {},
   "outputs": [
    {
     "data": {
      "text/plain": [
       "[2, 4, 10]"
      ]
     },
     "execution_count": 11,
     "metadata": {},
     "output_type": "execute_result"
    }
   ],
   "source": [
    "NoList"
   ]
  },
  {
   "cell_type": "code",
   "execution_count": null,
   "metadata": {},
   "outputs": [],
   "source": []
  }
 ],
 "metadata": {
  "kernelspec": {
   "display_name": "Python 3",
   "language": "python",
   "name": "python3"
  },
  "language_info": {
   "codemirror_mode": {
    "name": "ipython",
    "version": 3
   },
   "file_extension": ".py",
   "mimetype": "text/x-python",
   "name": "python",
   "nbconvert_exporter": "python",
   "pygments_lexer": "ipython3",
   "version": "3.7.3"
  }
 },
 "nbformat": 4,
 "nbformat_minor": 4
}
