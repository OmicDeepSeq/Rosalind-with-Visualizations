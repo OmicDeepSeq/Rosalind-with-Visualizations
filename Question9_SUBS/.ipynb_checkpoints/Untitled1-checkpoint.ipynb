{
 "cells": [
  {
   "cell_type": "code",
   "execution_count": 12,
   "metadata": {},
   "outputs": [
    {
     "name": "stdout",
     "output_type": "stream",
     "text": [
      "821 9\n",
      "GATCAGTTTATCAGTTTCATCAGTTCGACATCAGTTAATCAGTTATCAGTTGTATGACGCAATCAGTTTATCAGTTATCAGTTGAATCAGTTAATCAGTTGTCATCAGTTAATCAGTTATCAGTTCCAATCAGTTAATCAGTTATCAGTTGGCATCAGTTCCTCATCAGTTGTATCAGTTAATCAGTTATCAGTTCATCAGTTATCAGTTCCATCAGTTATCAGTTATCAGTTTCAGGTATCAGTTATCAGTTATCAGTTTTGTCATCAGTTTCATCAGTTCTGCTAATCAGTTCATCAGTTGATCAGTTATCAGTTGTATCAGTTTATCAGTTGATCAGTTATAAATCAGTTGAAGATCAGTTGAACCGAGATCAGTTAATCAGTTATTGGGCTAAATCAGTTATCAGTTATCAGTTCCGGAATCAGTTCTTCATCAGTTCATCAGTTCCATCAGTTATCAGTTCATCAGTTTATCAGTTACGATCAGTTCCTAATCAGTTATCAGTTTACCTATCAGTTGTATCAGTTATCAGTTATCAGTTCCAATCAGTTTCGTTATCAGTTAATCAGTTTCTTGCGATCAGTTATCAGTTCTTATCAGTTCATCAGTTATCAGTTGCATCAGTTTCAATCAGTTTGAATCAGTTAATCAGTTCTTATCCATCAGTTTATCAGTTTCGACAATCAGTTCATCAGTTTCAATCAGTTATCAGTTATCAGTTATCAGTTCAGAGATCAGTTATCAGTTGTCGCAATATCAGTTGAATCAGTTATAATCAGTTTATCAGTTTACATCAGTTATCAGTTTCGATCAGTTAG\n",
      "ATCAGTTAT\n",
      "[38, 70, 112, 137, 182, 197, 213, 220, 240, 247, 304, 336, 381, 398, 405, 452, 496, 524, 531, 582, 607, 704, 711, 718, 737, 768, 796]\n"
     ]
    },
    {
     "data": {
      "text/plain": [
       "'ATCAGTTAT'"
      ]
     },
     "execution_count": 12,
     "metadata": {},
     "output_type": "execute_result"
    }
   ],
   "source": [
    "# Data Import\n",
    "with open(\"Input_Data/Attempt2.txt\") as f: \n",
    "    dna = [line.rstrip() for line in f]\n",
    "\n",
    "# funtions: \n",
    "Main_st = dna[0]\n",
    "sub_st = dna[1]\n",
    "Main = len(Main_st)\n",
    "sub = len(sub_st)\n",
    "print(Main, sub)\n",
    "\n",
    "outputString = Main_st\n",
    "\n",
    "NoList = []\n",
    "\n",
    "for i in range(Main):\n",
    "    #print(i, Main_st[i], Main_st[i: i+sub])\n",
    "    if Main_st[i: i+sub] == sub_st: \n",
    "        NoList.append(i+1)\n",
    "        \n",
    "\n",
    "print(outputString)\n",
    "print(sub_st)\n",
    "print(NoList)\n",
    "\n",
    "outputString[NoList[0]-1: NoList[0]+sub-1]\n",
    "\n",
    "\n",
    "# Data ouptut: \n",
    "#Output = open(\"Output_Data/OutputAttemp2.txt\", \"w\")\n",
    "#Output.write(String)\n",
    "#Output.close()"
   ]
  },
  {
   "cell_type": "code",
   "execution_count": 13,
   "metadata": {},
   "outputs": [
    {
     "data": {
      "text/plain": [
       "[38,\n",
       " 70,\n",
       " 112,\n",
       " 137,\n",
       " 182,\n",
       " 197,\n",
       " 213,\n",
       " 220,\n",
       " 240,\n",
       " 247,\n",
       " 304,\n",
       " 336,\n",
       " 381,\n",
       " 398,\n",
       " 405,\n",
       " 452,\n",
       " 496,\n",
       " 524,\n",
       " 531,\n",
       " 582,\n",
       " 607,\n",
       " 704,\n",
       " 711,\n",
       " 718,\n",
       " 737,\n",
       " 768,\n",
       " 796]"
      ]
     },
     "execution_count": 13,
     "metadata": {},
     "output_type": "execute_result"
    }
   ],
   "source": [
    "NoList"
   ]
  },
  {
   "cell_type": "code",
   "execution_count": 22,
   "metadata": {},
   "outputs": [],
   "source": [
    "string=''\n",
    "for k in NoList: \n",
    "    string = string+ str(k)+' '"
   ]
  },
  {
   "cell_type": "code",
   "execution_count": 23,
   "metadata": {},
   "outputs": [
    {
     "data": {
      "text/plain": [
       "'38 70 112 137 182 197 213 220 240 247 304 336 381 398 405 452 496 524 531 582 607 704 711 718 737 768 796 '"
      ]
     },
     "execution_count": 23,
     "metadata": {},
     "output_type": "execute_result"
    }
   ],
   "source": [
    "string\n"
   ]
  },
  {
   "cell_type": "code",
   "execution_count": 25,
   "metadata": {},
   "outputs": [],
   "source": [
    "Output = open(\"Output_Data/OutputAttemp2.txt\", \"w\")\n",
    "Output.write(string)\n",
    "Output.close()"
   ]
  },
  {
   "cell_type": "code",
   "execution_count": null,
   "metadata": {},
   "outputs": [],
   "source": []
  },
  {
   "cell_type": "code",
   "execution_count": 5,
   "metadata": {},
   "outputs": [
    {
     "name": "stdout",
     "output_type": "stream",
     "text": [
      "\u001b[1;43mATCAGTTAT\u001b[1;m\n"
     ]
    }
   ],
   "source": [
    "print(\"\\033[1;43m\" + str(sub_st) + \"\\033[1;m\")"
   ]
  },
  {
   "cell_type": "code",
   "execution_count": null,
   "metadata": {},
   "outputs": [],
   "source": []
  }
 ],
 "metadata": {
  "kernelspec": {
   "display_name": "Python 3",
   "language": "python",
   "name": "python3"
  },
  "language_info": {
   "codemirror_mode": {
    "name": "ipython",
    "version": 3
   },
   "file_extension": ".py",
   "mimetype": "text/x-python",
   "name": "python",
   "nbconvert_exporter": "python",
   "pygments_lexer": "ipython3",
   "version": "3.7.3"
  }
 },
 "nbformat": 4,
 "nbformat_minor": 4
}
