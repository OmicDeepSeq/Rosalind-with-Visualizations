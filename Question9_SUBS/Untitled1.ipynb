{
 "cells": [
  {
   "cell_type": "code",
   "execution_count": 12,
   "metadata": {},
   "outputs": [
    {
     "name": "stdout",
     "output_type": "stream",
     "text": [
      "821 9\n",
      "GATCAGTTTATCAGTTTCATCAGTTCGACATCAGTTAATCAGTTATCAGTTGTATGACGCAATCAGTTTATCAGTTATCAGTTGAATCAGTTAATCAGTTGTCATCAGTTAATCAGTTATCAGTTCCAATCAGTTAATCAGTTATCAGTTGGCATCAGTTCCTCATCAGTTGTATCAGTTAATCAGTTATCAGTTCATCAGTTATCAGTTCCATCAGTTATCAGTTATCAGTTTCAGGTATCAGTTATCAGTTATCAGTTTTGTCATCAGTTTCATCAGTTCTGCTAATCAGTTCATCAGTTGATCAGTTATCAGTTGTATCAGTTTATCAGTTGATCAGTTATAAATCAGTTGAAGATCAGTTGAACCGAGATCAGTTAATCAGTTATTGGGCTAAATCAGTTATCAGTTATCAGTTCCGGAATCAGTTCTTCATCAGTTCATCAGTTCCATCAGTTATCAGTTCATCAGTTTATCAGTTACGATCAGTTCCTAATCAGTTATCAGTTTACCTATCAGTTGTATCAGTTATCAGTTATCAGTTCCAATCAGTTTCGTTATCAGTTAATCAGTTTCTTGCGATCAGTTATCAGTTCTTATCAGTTCATCAGTTATCAGTTGCATCAGTTTCAATCAGTTTGAATCAGTTAATCAGTTCTTATCCATCAGTTTATCAGTTTCGACAATCAGTTCATCAGTTTCAATCAGTTATCAGTTATCAGTTATCAGTTCAGAGATCAGTTATCAGTTGTCGCAATATCAGTTGAATCAGTTATAATCAGTTTATCAGTTTACATCAGTTATCAGTTTCGATCAGTTAG\n",
      "ATCAGTTAT\n",
      "[38, 70, 112, 137, 182, 197, 213, 220, 240, 247, 304, 336, 381, 398, 405, 452, 496, 524, 531, 582, 607, 704, 711, 718, 737, 768, 796]\n"
     ]
    },
    {
     "data": {
      "text/plain": [
       "'ATCAGTTAT'"
      ]
     },
     "execution_count": 12,
     "metadata": {},
     "output_type": "execute_result"
    }
   ],
   "source": [
    "# Data Import\n",
    "with open(\"Input_Data/Attempt2.txt\") as f: \n",
    "    dna = [line.rstrip() for line in f]\n",
    "\n",
    "# funtions: \n",
    "Main_st = dna[0]\n",
    "sub_st = dna[1]\n",
    "Main = len(Main_st)\n",
    "sub = len(sub_st)\n",
    "print(Main, sub)\n",
    "\n",
    "outputString = Main_st\n",
    "\n",
    "NoList = []\n",
    "\n",
    "for i in range(Main):\n",
    "    #print(i, Main_st[i], Main_st[i: i+sub])\n",
    "    if Main_st[i: i+sub] == sub_st: \n",
    "        NoList.append(i+1)\n",
    "        \n",
    "\n",
    "print(outputString)\n",
    "print(sub_st)\n",
    "print(NoList)\n",
    "\n",
    "outputString[NoList[0]-1: NoList[0]+sub-1]\n",
    "\n",
    "\n",
    "# Data ouptut: \n",
    "#Output = open(\"Output_Data/OutputAttemp2.txt\", \"w\")\n",
    "#Output.write(String)\n",
    "#Output.close()"
   ]
  },
  {
   "cell_type": "code",
   "execution_count": 13,
   "metadata": {},
   "outputs": [
    {
     "data": {
      "text/plain": [
       "[38,\n",
       " 70,\n",
       " 112,\n",
       " 137,\n",
       " 182,\n",
       " 197,\n",
       " 213,\n",
       " 220,\n",
       " 240,\n",
       " 247,\n",
       " 304,\n",
       " 336,\n",
       " 381,\n",
       " 398,\n",
       " 405,\n",
       " 452,\n",
       " 496,\n",
       " 524,\n",
       " 531,\n",
       " 582,\n",
       " 607,\n",
       " 704,\n",
       " 711,\n",
       " 718,\n",
       " 737,\n",
       " 768,\n",
       " 796]"
      ]
     },
     "execution_count": 13,
     "metadata": {},
     "output_type": "execute_result"
    }
   ],
   "source": [
    "NoList"
   ]
  },
  {
   "cell_type": "code",
   "execution_count": 50,
   "metadata": {},
   "outputs": [
    {
     "name": "stdout",
     "output_type": "stream",
     "text": [
      "38 0 37 821\n",
      "ATCAGTTAT\n",
      "821 833 12 \n",
      "\n",
      "70 12 69 833\n",
      "CGCAATCAG\n",
      "833 845 12 \n",
      "\n",
      "112 12 111 845\n",
      "CAGTTAATC\n",
      "845 857 12 \n",
      "\n",
      "137 12 136 857\n",
      "GTCATCAGT\n",
      "857 869 12 \n",
      "\n",
      "182 12 181 869\n",
      "TTAATCAGT\n",
      "869 881 12 \n",
      "\n",
      "197 12 196 881\n",
      "T\u001b[1;mTAT\n",
      "881 893 12 \n",
      "\n",
      "213 12 212 893\n",
      "\u001b[1;mCAGT\n",
      "893 905 12 \n",
      "\n",
      "220 12 219 905\n",
      "\u001b[1;mCAGT\n",
      "905 917 12 \n",
      "\n",
      "240 12 239 917\n",
      "m\u001b[1;mTGG\n",
      "917 929 12 \n",
      "\n",
      "247 12 246 929\n",
      "m\u001b[1;mTGG\n",
      "929 941 12 \n",
      "\n",
      "304 12 303 941\n",
      "CAGTTATCA\n",
      "941 953 12 \n",
      "\n",
      "336 12 335 953\n",
      "ATCAGTTCC\n",
      "953 965 12 \n",
      "\n",
      "381 12 380 965\n",
      "GGTATCAGT\n",
      "965 977 12 \n",
      "\n",
      "398 12 397 977\n",
      "[1;mTATCA\n",
      "977 989 12 \n",
      "\n",
      "405 12 404 989\n",
      "[1;mTATCA\n",
      "989 1001 12 \n",
      "\n",
      "452 12 451 1001\n",
      "TTCATCAGT\n",
      "1001 1013 12 \n",
      "\n",
      "496 12 495 1013\n",
      "ATCAGTTAT\n",
      "1013 1025 12 \n",
      "\n",
      "524 12 523 1025\n",
      "ATCAGTTTA\n",
      "1025 1037 12 \n",
      "\n",
      "531 12 530 1037\n",
      "ATCAGTTTA\n",
      "1037 1049 12 \n",
      "\n",
      "582 12 581 1049\n",
      "GAAGATCAG\n",
      "1049 1061 12 \n",
      "\n",
      "607 12 606 1061\n",
      "ACCGAGATC\n",
      "1061 1073 12 \n",
      "\n",
      "704 12 703 1073\n",
      "ATCAGTTAT\n",
      "1073 1085 12 \n",
      "\n",
      "711 12 710 1085\n",
      "ATCAGTTAT\n",
      "1085 1097 12 \n",
      "\n",
      "718 12 717 1097\n",
      "ATCAGTTAT\n",
      "1097 1109 12 \n",
      "\n",
      "737 12 736 1109\n",
      ";m\u001b[1;m\u001b[\n",
      "1109 1121 12 \n",
      "\n",
      "768 12 767 1121\n",
      "TCAGTTTAT\n",
      "1121 1133 12 \n",
      "\n",
      "796 12 795 1133\n",
      "GATCAGTTC\n",
      "1133 1145 12 \n",
      "\n",
      "GATCAGTTTATCAGTTTCATCAGTTCGACATCAGTTA\u001b[1;43mATCAGTTAT\u001b[1;mCAGTTGTATGA\u001b[1;43mCGCAATCAG\u001b[1;mTTTATCAGTTATCAGTTGAAT\u001b[1;43mCAGTTAATC\u001b[1;mAGTT\u001b[1;43mGTCATCAGT\u001b[1;mTAATCAGTTATCAGTTCCAATCAG\u001b[1;43mTTAATCAG\u001b[1;43mT\u001b[1;mTAT\u001b[1;43m\u001b[1;43m\u001b[1;mCAGT\u001b[1;\u001b[1;43m\u001b[1;43mm\u001b[1;mTGG\u001b[1;m\u001b[1;mCATCAGTTCCTCATCAGTTGTATCAGTTAAT\u001b[1;43mCAGTTATCA\u001b[1;mGTTCATCAGTT\u001b[1;43mATCAGTTCC\u001b[1;mATCAGTTATCAGTTATCAGTTTCA\u001b[1;43mGGTATCAGT\u001b\u001b[1;43m\u001b[1;43m[1;mTATCA\u001b[1;m\u001b[1;mGTTATCAGTTTTGTCATCAGT\u001b[1;43mTTCATCAGT\u001b[1;mTCTGCTAATCAGTTCATCAGTTG\u001b[1;43mATCAGTTAT\u001b[1;mCAGTTGT\u001b[1;43m\u001b[1;43mATCAGTTTA\u001b[1;m\u001b[1;mTCAGTTGATCAGTTATAAATCAGTT\u001b[1;43mGAAGATCAG\u001b[1;mTTGA\u001b[1;43mACCGAGATC\u001b[1;mAGTTAATCAGTTATTGGGCTAAATCAGTTATCAGTTATCAGTTCCGGAATCAGTTCTTCATCAGTTCATCAGTTCC\u001b[1;43m\u001b[1;43m\u001b[1;43mATCAGTTAT\u001b[1\u001b[1;43m;m\u001b[1;m\u001b[\u001b[1;m1;mCAGTTCA\u001b[1;43mTCAGTTTAT\u001b[1;mCAGTTAC\u001b[1;43mGATCAGTTC\u001b[1;mCTAATCAGTTATCAGTTTACCTATCAGTTGTATCAGTTATCAGTTATCAGTTCCAATCAGTTTCGTTATCAGTTAATCAGTTTCTTGCGATCAGTTATCAGTTCTTATCAGTTCATCAGTTATCAGTTGCATCAGTTTCAATCAGTTTGAATCAGTTAATCAGTTCTTATCCATCAGTTTATCAGTTTCGACAATCAGTTCATCAGTTTCAATCAGTTATCAGTTATCAGTTATCAGTTCAGAGATCAGTTATCAGTTGTCGCAATATCAGTTGAATCAGTTATAATCAGTTTATCAGTTTACATCAGTTATCAGTTTCGATCAGTTAG\n"
     ]
    }
   ],
   "source": [
    "string=Main_st\n",
    "startst = \"\\033[1;43m\" \n",
    "finishst = \"\\033[1;m\"\n",
    "add = 0 \n",
    "for k in NoList: \n",
    "    i = k \n",
    "    k=k-1\n",
    "    orig = len(string)\n",
    "    \n",
    "    print(i, add, k, len(string))\n",
    "    print(string[k: k+sub])\n",
    "    string = string[:k]+startst+string[k: k+sub]+finishst+string[k+sub:]\n",
    "    print(orig, len(string), len(string)-orig, \"\\n\")\n",
    "    add =+ 12\n",
    "print(string)"
   ]
  },
  {
   "cell_type": "code",
   "execution_count": 28,
   "metadata": {},
   "outputs": [
    {
     "data": {
      "text/plain": [
       "'GATCAGTTTATCAGTTTCATCAGTTCGACATCAGTTA\\x1b[1;43mATCAGTTAT\\x1b[1;mCAGTTGTATGACGCAATCAGTTT\\x1b[1;43mATCAGTTAT\\x1b[1;mCAGTTGAATCAGTTAATCAGT\\x1b[1;43mTGTCATCAG\\x1b[1;mTTAA\\x1b[1;43mTCAGTTATC\\x1b[1;mAGTTCCAATCAGTTAATCAGTTAT\\x1b[1;43mCAGTTGGC\\x1b[1;43mA\\x1b[1;mTCA\\x1b[1;43m\\x1b[1;43m\\x1b[1;mGTTC\\x1b[1;\\x1b[1;43m\\x1b[1;43mm\\x1b[1;mCTC\\x1b[1;m\\x1b[1;mATCAGTTGTATCAGTTAATCAGTTATCAGTT\\x1b[1;43mCATCAGTTA\\x1b[1;mTCAGTTCCATC\\x1b[1;43mAGTTATCAG\\x1b[1;mTTATCAGTTTCAGGTATCAGTTAT\\x1b[1;43mCAGTTATCA\\x1b\\x1b[1;43m\\x1b[1;43m[1;mGTTTT\\x1b[1;m\\x1b[1;mGTCATCAGTTTCATCAGTTCT\\x1b[1;43mGCTAATCAG\\x1b[1;mTTCATCAGTTGATCAGTTATCAG\\x1b[1;43mTTGTATCAG\\x1b[1;mTTTATCA\\x1b[1;43m\\x1b[1;43mGTTGATCAG\\x1b[1;m\\x1b[1;mTTATAAATCAGTTGAAGATCAGTTG\\x1b[1;43mAACCGAGAT\\x1b[1;mCAGT\\x1b[1;43mTAATCAGTT\\x1b[1;mATTGGGCTAAATCAGTTATCAGTTATCAGTTCCGGAATCAGTTCTTCATCAGTTCATCAGTTCCATCAGTTATCAG\\x1b[1;43m\\x1b[1;43m\\x1b[1;43mTTCATCAGT\\x1b[1\\x1b[1;43m;m\\x1b[1;m\\x1b[\\x1b[1;m1;mTTATCAG\\x1b[1;43mTTACGATCA\\x1b[1;mGTTCCTA\\x1b[1;43mATCAGTTAT\\x1b[1;mCAGTTTACCTATCAGTTGTATCAGTTATCAGTTATCAGTTCCAATCAGTTTCGTTATCAGTTAATCAGTTTCTTGCGATCAGTTATCAGTTCTTATCAGTTCATCAGTTATCAGTTGCATCAGTTTCAATCAGTTTGAATCAGTTAATCAGTTCTTATCCATCAGTTTATCAGTTTCGACAATCAGTTCATCAGTTTCAATCAGTTATCAGTTATCAGTTATCAGTTCAGAGATCAGTTATCAGTTGTCGCAATATCAGTTGAATCAGTTATAATCAGTTTATCAGTTTACATCAGTTATCAGTTTCGATCAGTTAG'"
      ]
     },
     "execution_count": 28,
     "metadata": {},
     "output_type": "execute_result"
    }
   ],
   "source": [
    "string"
   ]
  },
  {
   "cell_type": "code",
   "execution_count": 49,
   "metadata": {},
   "outputs": [
    {
     "name": "stdout",
     "output_type": "stream",
     "text": [
      "GATCAGTTTATCAGTTTCATCAGTTCGACATCAGTTA\u001b[1;43mATCAGTTAT\u001b[1;mCAGTTGTATGACGCAATCAGTTTATCAGTTATCAGTTGAATCAGTTAATCAGTTGTCATCAGTTAATCAGTTATCAGTTCCAATCAGTTAATCAGTTATCAGTTGGCATCAGTTCCTCATCAGTTGTATCAGTTAATCAGTTATCAGTTCATCAGTTATCAGTTCCATCAGTTATCAGTTATCAGTTTCAGGTATCAGTTATCAGTTATCAGTTTTGTCATCAGTTTCATCAGTTCTGCTAATCAGTTCATCAGTTGATCAGTTATCAGTTGTATCAGTTTATCAGTTGATCAGTTATAAATCAGTTGAAGATCAGTTGAACCGAGATCAGTTAATCAGTTATTGGGCTAAATCAGTTATCAGTTATCAGTTCCGGAATCAGTTCTTCATCAGTTCATCAGTTCCATCAGTTATCAGTTCATCAGTTTATCAGTTACGATCAGTTCCTAATCAGTTATCAGTTTACCTATCAGTTGTATCAGTTATCAGTTATCAGTTCCAATCAGTTTCGTTATCAGTTAATCAGTTTCTTGCGATCAGTTATCAGTTCTTATCAGTTCATCAGTTATCAGTTGCATCAGTTTCAATCAGTTTGAATCAGTTAATCAGTTCTTATCCATCAGTTTATCAGTTTCGACAATCAGTTCATCAGTTTCAATCAGTTATCAGTTATCAGTTATCAGTTCAGAGATCAGTTATCAGTTGTCGCAATATCAGTTGAATCAGTTATAATCAGTTTATCAGTTTACATCAGTTATCAGTTTCGATCAGTTAG \n",
      "\n",
      "GATCAGTTTATCAGTTTCATCAGTTCGACATCAGTTAATCAGTTATCAGTTGTATGACGCAATCAGTTT\u001b[1;43mATCAGTTAT\u001b[1;mCAGTTGAATCAGTTAATCAGTTGTCATCAGTTAATCAGTTATCAGTTCCAATCAGTTAATCAGTTATCAGTTGGCATCAGTTCCTCATCAGTTGTATCAGTTAATCAGTTATCAGTTCATCAGTTATCAGTTCCATCAGTTATCAGTTATCAGTTTCAGGTATCAGTTATCAGTTATCAGTTTTGTCATCAGTTTCATCAGTTCTGCTAATCAGTTCATCAGTTGATCAGTTATCAGTTGTATCAGTTTATCAGTTGATCAGTTATAAATCAGTTGAAGATCAGTTGAACCGAGATCAGTTAATCAGTTATTGGGCTAAATCAGTTATCAGTTATCAGTTCCGGAATCAGTTCTTCATCAGTTCATCAGTTCCATCAGTTATCAGTTCATCAGTTTATCAGTTACGATCAGTTCCTAATCAGTTATCAGTTTACCTATCAGTTGTATCAGTTATCAGTTATCAGTTCCAATCAGTTTCGTTATCAGTTAATCAGTTTCTTGCGATCAGTTATCAGTTCTTATCAGTTCATCAGTTATCAGTTGCATCAGTTTCAATCAGTTTGAATCAGTTAATCAGTTCTTATCCATCAGTTTATCAGTTTCGACAATCAGTTCATCAGTTTCAATCAGTTATCAGTTATCAGTTATCAGTTCAGAGATCAGTTATCAGTTGTCGCAATATCAGTTGAATCAGTTATAATCAGTTTATCAGTTTACATCAGTTATCAGTTTCGATCAGTTAG \n",
      "\n",
      "GATCAGTTTATCAGTTTCATCAGTTCGACATCAGTTAATCAGTTATCAGTTGTATGACGCAATCAGTTTATCAGTTATCAGTTGAATCAGTTAATCAGTTGTCATCAGTTA\u001b[1;43mATCAGTTAT\u001b[1;mCAGTTCCAATCAGTTAATCAGTTATCAGTTGGCATCAGTTCCTCATCAGTTGTATCAGTTAATCAGTTATCAGTTCATCAGTTATCAGTTCCATCAGTTATCAGTTATCAGTTTCAGGTATCAGTTATCAGTTATCAGTTTTGTCATCAGTTTCATCAGTTCTGCTAATCAGTTCATCAGTTGATCAGTTATCAGTTGTATCAGTTTATCAGTTGATCAGTTATAAATCAGTTGAAGATCAGTTGAACCGAGATCAGTTAATCAGTTATTGGGCTAAATCAGTTATCAGTTATCAGTTCCGGAATCAGTTCTTCATCAGTTCATCAGTTCCATCAGTTATCAGTTCATCAGTTTATCAGTTACGATCAGTTCCTAATCAGTTATCAGTTTACCTATCAGTTGTATCAGTTATCAGTTATCAGTTCCAATCAGTTTCGTTATCAGTTAATCAGTTTCTTGCGATCAGTTATCAGTTCTTATCAGTTCATCAGTTATCAGTTGCATCAGTTTCAATCAGTTTGAATCAGTTAATCAGTTCTTATCCATCAGTTTATCAGTTTCGACAATCAGTTCATCAGTTTCAATCAGTTATCAGTTATCAGTTATCAGTTCAGAGATCAGTTATCAGTTGTCGCAATATCAGTTGAATCAGTTATAATCAGTTTATCAGTTTACATCAGTTATCAGTTTCGATCAGTTAG \n",
      "\n",
      "GATCAGTTTATCAGTTTCATCAGTTCGACATCAGTTA\u001b[1;43mATCAGTTAT\u001b[1;mCAGTTGTATGACGCAATCAGTTT\u001b[1;43mATCAGTTAT\u001b[1;mCAGTTGAATCAGTTAATCAGTTGTCATCAGTTAATCAGTTATCAGTTCCAATCAGTTAATCAGTTATCAGTTGGCATCAGTTCCTCATCAGTTGTATCAGTTAATCAGTTATCAGTTCATCAGTTATCAGTTCCATCAGTTATCAGTTATCAGTTTCAGGTATCAGTTATCAGTTATCAGTTTTGTCATCAGTTTCATCAGTTCTGCTAATCAGTTCATCAGTTGATCAGTTATCAGTTGTATCAGTTTATCAGTTGATCAGTTATAAATCAGTTGAAGATCAGTTGAACCGAGATCAGTTAATCAGTTATTGGGCTAAATCAGTTATCAGTTATCAGTTCCGGAATCAGTTCTTCATCAGTTCATCAGTTCCATCAGTTATCAGTTCATCAGTTTATCAGTTACGATCAGTTCCTAATCAGTTATCAGTTTACCTATCAGTTGTATCAGTTATCAGTTATCAGTTCCAATCAGTTTCGTTATCAGTTAATCAGTTTCTTGCGATCAGTTATCAGTTCTTATCAGTTCATCAGTTATCAGTTGCATCAGTTTCAATCAGTTTGAATCAGTTAATCAGTTCTTATCCATCAGTTTATCAGTTTCGACAATCAGTTCATCAGTTTCAATCAGTTATCAGTTATCAGTTATCAGTTCAGAGATCAGTTATCAGTTGTCGCAATATCAGTTGAATCAGTTATAATCAGTTTATCAGTTTACATCAGTTATCAGTTTCGATCAGTTAG \n",
      "\n",
      "GATCAGTTTATCAGTTTCATCAGTTCGACATCAGTTA\u001b[1;43mATCAGTTAT\u001b[1;mCAGTTGTATGACGCAATCAGTTT\u001b[1;43mATCAGTTAT\u001b[1;mCAGTTGAATCAGTTAATCAGTTGTCATCAGTTA\u001b[1;43mATCAGTTAT\u001b[1;mCAGTTCCAATCAGTTAATCAGTTATCAGTTGGCATCAGTTCCTCATCAGTTGTATCAGTTAATCAGTTATCAGTTCATCAGTTATCAGTTCCATCAGTTATCAGTTATCAGTTTCAGGTATCAGTTATCAGTTATCAGTTTTGTCATCAGTTTCATCAGTTCTGCTAATCAGTTCATCAGTTGATCAGTTATCAGTTGTATCAGTTTATCAGTTGATCAGTTATAAATCAGTTGAAGATCAGTTGAACCGAGATCAGTTAATCAGTTATTGGGCTAAATCAGTTATCAGTTATCAGTTCCGGAATCAGTTCTTCATCAGTTCATCAGTTCCATCAGTTATCAGTTCATCAGTTTATCAGTTACGATCAGTTCCTAATCAGTTATCAGTTTACCTATCAGTTGTATCAGTTATCAGTTATCAGTTCCAATCAGTTTCGTTATCAGTTAATCAGTTTCTTGCGATCAGTTATCAGTTCTTATCAGTTCATCAGTTATCAGTTGCATCAGTTTCAATCAGTTTGAATCAGTTAATCAGTTCTTATCCATCAGTTTATCAGTTTCGACAATCAGTTCATCAGTTTCAATCAGTTATCAGTTATCAGTTATCAGTTCAGAGATCAGTTATCAGTTGTCGCAATATCAGTTGAATCAGTTATAATCAGTTTATCAGTTTACATCAGTTATCAGTTTCGATCAGTTAG \n",
      "\n"
     ]
    }
   ],
   "source": [
    "startst = \"\\033[1;43m\" \n",
    "finishst = \"\\033[1;m\"\n",
    "k = 37\n",
    "i = 69 \n",
    "j = 111 \n",
    "#print(Main_st[:k], \"\\n\", Main_st[k: k+sub], \"\\n\", Main_st[k+sub:])\n",
    "print(Main_st[:k]+startst+Main_st[k: k+sub]+finishst+Main_st[k+sub:],\"\\n\")\n",
    "print(Main_st[:i]+startst+Main_st[i: i+sub]+finishst+Main_st[i+sub:],\"\\n\")\n",
    "print(Main_st[:j]+startst+Main_st[j: j+sub]+finishst+Main_st[j+sub:],\"\\n\")\n",
    "\n",
    "print(Main_st[:k]+startst+Main_st[k: k+sub]+finishst+Main_st[k+sub:i]+startst+Main_st[i: i+sub]+finishst+Main_st[i+sub:],\"\\n\")\n",
    "\n",
    "print(Main_st[:k]+startst+Main_st[k: k+sub]+finishst+Main_st[k+sub:i]+startst+Main_st[i: i+sub]+finishst+Main_st[i+sub:j]+startst+Main_st[j: j+sub]+finishst+Main_st[j+sub:],\"\\n\")\n",
    "\n",
    "#print(len(Main_st[:k]+startst+Main_st[k: k+sub]+finishst+Main_st[k+sub:]))\n",
    "#print(len(Main_st))"
   ]
  },
  {
   "cell_type": "code",
   "execution_count": 25,
   "metadata": {},
   "outputs": [
    {
     "data": {
      "text/plain": [
       "7"
      ]
     },
     "execution_count": 25,
     "metadata": {},
     "output_type": "execute_result"
    }
   ],
   "source": [
    "len(startst)"
   ]
  },
  {
   "cell_type": "code",
   "execution_count": 26,
   "metadata": {},
   "outputs": [
    {
     "data": {
      "text/plain": [
       "5"
      ]
     },
     "execution_count": 26,
     "metadata": {},
     "output_type": "execute_result"
    }
   ],
   "source": [
    "len(finishst)"
   ]
  },
  {
   "cell_type": "code",
   "execution_count": 25,
   "metadata": {},
   "outputs": [],
   "source": [
    "Output = open(\"Output_Data/OutputAttemp2.txt\", \"w\")\n",
    "Output.write(string)\n",
    "Output.close()"
   ]
  },
  {
   "cell_type": "code",
   "execution_count": null,
   "metadata": {},
   "outputs": [],
   "source": []
  },
  {
   "cell_type": "code",
   "execution_count": 5,
   "metadata": {},
   "outputs": [
    {
     "name": "stdout",
     "output_type": "stream",
     "text": [
      "\u001b[1;43mATCAGTTAT\u001b[1;m\n"
     ]
    }
   ],
   "source": [
    "print(\"\\033[1;43m\" + str(sub_st) + \"\\033[1;m\")"
   ]
  },
  {
   "cell_type": "code",
   "execution_count": null,
   "metadata": {},
   "outputs": [],
   "source": []
  }
 ],
 "metadata": {
  "kernelspec": {
   "display_name": "Python 3",
   "language": "python",
   "name": "python3"
  },
  "language_info": {
   "codemirror_mode": {
    "name": "ipython",
    "version": 3
   },
   "file_extension": ".py",
   "mimetype": "text/x-python",
   "name": "python",
   "nbconvert_exporter": "python",
   "pygments_lexer": "ipython3",
   "version": "3.7.3"
  }
 },
 "nbformat": 4,
 "nbformat_minor": 4
}
