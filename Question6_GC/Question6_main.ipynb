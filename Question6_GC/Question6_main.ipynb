{
 "cells": [
  {
   "cell_type": "markdown",
   "metadata": {},
   "source": [
    "# Question 6: Computing GC Content\n",
    "***"
   ]
  },
  {
   "cell_type": "code",
   "execution_count": 2,
   "metadata": {},
   "outputs": [
    {
     "data": {
      "image/png": "[encoded data removed]",
      "text/plain": [
       "<Figure size 432x288 with 1 Axes>"
      ]
     },
     "metadata": {
      "needs_background": "light"
     },
     "output_type": "display_data"
    }
   ],
   "source": [
    "# Library \n",
    "import pandas as pd\n",
    "import matplotlib.pyplot as plt\n",
    "\n",
    "# Data Import: \n",
    "with open(\"Input_Data/Attempt1.txt\") as f: \n",
    "    file = [line.rstrip() for line in f]\n",
    "\n",
    "# Analysis: \n",
    "df = pd.DataFrame(columns = [\"Cluster\", \"strand\"])\n",
    "\n",
    "index=0\n",
    "\n",
    "for num, i in enumerate(file): \n",
    "    if i[0]=='>':                                                # Look for the line starting with >\n",
    "        df = df.append({\"Cluster\": i[1::]}, ignore_index=True)   # appends the cluster name \n",
    "        strand=''                                                # resets the strand for each cluster \n",
    "        index += 1                                               # Add 1 to index which is used to append the strand for each cluster\n",
    "    else:                                                        # executes every time it doesnt see >, so for all the other lines. \n",
    "        strand += i                                              # adds up the strand until the next cluster is seen \n",
    "        df['strand'][index-1] = strand                           # everytime overrides the strand, until it sees the next cluster name. \n",
    "\n",
    "df['length'] = 0 \n",
    "df['A_count'] = 0 \n",
    "df['T_count'] = 0 \n",
    "df['G_count'] = 0 \n",
    "df['C_count'] = 0 \n",
    "df['GC%'] = 0\n",
    "\n",
    "for index, row in df.iterrows(): \n",
    "    df.loc[index, 'length'] = len(row['strand'])\n",
    "    df.loc[index, 'A_count'] = row['strand'].count('A')\n",
    "    df.loc[index, 'T_count'] = row['strand'].count('T')\n",
    "    df.loc[index, 'G_count'] = row['strand'].count('G')\n",
    "    df.loc[index, 'C_count'] = row['strand'].count('C')\n",
    "    df.loc[index, 'GC%'] = ((row['strand'].count('G') + row['strand'].count('C'))/len(row['strand'])) * 100  #((G+C)/Total)*100\n",
    "\n",
    "\n",
    "df_highest = df.nlargest(1, 'GC%')\n",
    "\n",
    "# Data Output: \n",
    "outF = open(\"Output_Data/OutputAttempt1.txt\", \"w\")\n",
    "for i, row in df_highest.iterrows():\n",
    "    outF.write(row['Cluster'])\n",
    "    outF.write('\\n')\n",
    "    outF.write(str(row['GC%']))\n",
    "outF.close()\n",
    "\n",
    "#--------------------------------------------------------------------\n",
    "\n",
    "# Data Visualization: \n",
    "\n",
    "df = df.sort_values(by=['length'])\n",
    "\n",
    "ax = plt.gca()\n",
    "df.plot(kind='scatter',x='length',y='GC%',color='red', ylim=(0,100), ax=ax)\n",
    "df.plot(kind='line',x='length',y='GC%', ylim=(0,100), ax=ax)\n",
    "\n",
    "for x,y in zip(df['length'], df['GC%']):\n",
    "\n",
    "    label = \"{:.2f}\".format(y)\n",
    "\n",
    "    plt.annotate(label, # this is the text\n",
    "                 (x,y), # this is the point to label\n",
    "                 textcoords=\"offset points\", # how to position the text\n",
    "                 xytext=(0,10), # distance from text to points (x,y)\n",
    "                 ha='center') # horizontal alignment can be left, right or center\n",
    "\n",
    "plt.xlabel('Total No. of Nucleotide')\n",
    "plt.ylabel('GC content %')   \n",
    "    \n",
    "plt.savefig(\"Visualization/Attempt1.png\")\n"
   ]
  },
  {
   "cell_type": "code",
   "execution_count": null,
   "metadata": {},
   "outputs": [],
   "source": []
  }
 ],
 "metadata": {
  "kernelspec": {
   "display_name": "Python 3",
   "language": "python",
   "name": "python3"
  },
  "language_info": {
   "codemirror_mode": {
    "name": "ipython",
    "version": 3
   },
   "file_extension": ".py",
   "mimetype": "text/x-python",
   "name": "python",
   "nbconvert_exporter": "python",
   "pygments_lexer": "ipython3",
   "version": "3.7.3"
  }
 },
 "nbformat": 4,
 "nbformat_minor": 4
}
