{
 "cells": [
  {
   "cell_type": "markdown",
   "metadata": {},
   "source": [
    "# Question 6: Computing GC Content\n",
    "***"
   ]
  },
  {
   "cell_type": "markdown",
   "metadata": {},
   "source": [
    "## Data Import\n",
    "\n",
    "Lets use the with open command to import the data, this output is also easier to use. "
   ]
  },
  {
   "cell_type": "code",
   "execution_count": 2,
   "metadata": {},
   "outputs": [
    {
     "data": {
      "text/plain": [
       "['>Rosalind_6404',\n",
       " 'CCTGCGGAAGATCGGCACTAGAATAGCCAGAACCGTTTCTCTGAGGCTTCCGGCCTTCCC',\n",
       " 'TCCCACTAATAATTCTGAGG',\n",
       " '>Rosalind_5959',\n",
       " 'CCATCGGTAGCGCATCCTTAGTCCAATTAAGTCCCTATCCAGGCGCTCCGCCGAAGGTCT',\n",
       " 'ATATCCATTTGTCAGCAGACACGC',\n",
       " '>Rosalind_0808',\n",
       " 'CCACCCTCGTGGTATGGCTAGGCATTCAGGAACCGGAGAACGCTTCAGACCAGCCCGGAC',\n",
       " 'TGGGAACCTGCGGGCAGTAGGTGGAAT']"
      ]
     },
     "execution_count": 2,
     "metadata": {},
     "output_type": "execute_result"
    }
   ],
   "source": [
    "with open(\"Input_Data/SampleData.txt\") as f: \n",
    "    file = [line.rstrip() for line in f]\n",
    "    \n",
    "file"
   ]
  },
  {
   "cell_type": "markdown",
   "metadata": {},
   "source": [
    "## Analysis: "
   ]
  },
  {
   "cell_type": "markdown",
   "metadata": {},
   "source": [
    "Lets use a Dataframe to organize the data and the perform the analysis on it. \n",
    "\n",
    "Using a for loop to go line by line, we can look for the'>' character to organize the data. "
   ]
  },
  {
   "cell_type": "code",
   "execution_count": 6,
   "metadata": {},
   "outputs": [
    {
     "name": "stdout",
     "output_type": "stream",
     "text": [
      ">Rosalind_6404\n",
      ">\n"
     ]
    }
   ],
   "source": [
    "# we can use the string manipulation to search: \n",
    "print(file[0])\n",
    "print(file[0][0])"
   ]
  },
  {
   "cell_type": "code",
   "execution_count": 7,
   "metadata": {},
   "outputs": [
    {
     "name": "stdout",
     "output_type": "stream",
     "text": [
      ">Rosalind_6404\n",
      ">\n",
      "CCTGCGGAAGATCGGCACTAGAATAGCCAGAACCGTTTCTCTGAGGCTTCCGGCCTTCCC\n",
      "C\n",
      "TCCCACTAATAATTCTGAGG\n",
      "T\n",
      ">Rosalind_5959\n",
      ">\n",
      "CCATCGGTAGCGCATCCTTAGTCCAATTAAGTCCCTATCCAGGCGCTCCGCCGAAGGTCT\n",
      "C\n",
      "ATATCCATTTGTCAGCAGACACGC\n",
      "A\n",
      ">Rosalind_0808\n",
      ">\n",
      "CCACCCTCGTGGTATGGCTAGGCATTCAGGAACCGGAGAACGCTTCAGACCAGCCCGGAC\n",
      "C\n",
      "TGGGAACCTGCGGGCAGTAGGTGGAAT\n",
      "T\n"
     ]
    }
   ],
   "source": [
    "# lets see if it can see the character > first: \n",
    "\n",
    "for i in file: \n",
    "    print(i)\n",
    "    print(i[0])"
   ]
  },
  {
   "cell_type": "markdown",
   "metadata": {},
   "source": [
    "now that we know how to look for the first character in each line, lets built the dataframe: "
   ]
  },
  {
   "cell_type": "code",
   "execution_count": 103,
   "metadata": {},
   "outputs": [],
   "source": [
    "import pandas as pd"
   ]
  },
  {
   "cell_type": "code",
   "execution_count": 104,
   "metadata": {},
   "outputs": [
    {
     "data": {
      "text/html": [
       "<div>\n",
       "<style scoped>\n",
       "    .dataframe tbody tr th:only-of-type {\n",
       "        vertical-align: middle;\n",
       "    }\n",
       "\n",
       "    .dataframe tbody tr th {\n",
       "        vertical-align: top;\n",
       "    }\n",
       "\n",
       "    .dataframe thead th {\n",
       "        text-align: right;\n",
       "    }\n",
       "</style>\n",
       "<table border=\"1\" class=\"dataframe\">\n",
       "  <thead>\n",
       "    <tr style=\"text-align: right;\">\n",
       "      <th></th>\n",
       "      <th>Cluster</th>\n",
       "      <th>strand</th>\n",
       "    </tr>\n",
       "  </thead>\n",
       "  <tbody>\n",
       "  </tbody>\n",
       "</table>\n",
       "</div>"
      ],
      "text/plain": [
       "Empty DataFrame\n",
       "Columns: [Cluster, strand]\n",
       "Index: []"
      ]
     },
     "execution_count": 104,
     "metadata": {},
     "output_type": "execute_result"
    }
   ],
   "source": [
    "df = pd.DataFrame(columns = [\"Cluster\", \"strand\"])\n",
    "df"
   ]
  },
  {
   "cell_type": "code",
   "execution_count": 105,
   "metadata": {},
   "outputs": [
    {
     "name": "stdout",
     "output_type": "stream",
     "text": [
      "0 Rosalind_6404\n",
      "3 Rosalind_5959\n",
      "6 Rosalind_0808\n"
     ]
    }
   ],
   "source": [
    "for num, i in enumerate(file): \n",
    "    if i[0]=='>':\n",
    "        print(num, i[1::])"
   ]
  },
  {
   "cell_type": "code",
   "execution_count": null,
   "metadata": {},
   "outputs": [],
   "source": []
  },
  {
   "cell_type": "markdown",
   "metadata": {},
   "source": [
    "Here when we use the enumerate command, it outputs two values fo rthe for loop. The number of the loop and the value of the variable for that loop number. That is why we have two variables where the first is the number of the loop and the second is the values of the variables for each loop. \n",
    "\n",
    "Then for the cluster naming, we can use i[1::] which reads the string from the second character (numbering starts from 0). and the second \":\" means till the end. "
   ]
  },
  {
   "cell_type": "code",
   "execution_count": 106,
   "metadata": {},
   "outputs": [],
   "source": [
    "index=0\n",
    "\n",
    "for num, i in enumerate(file): \n",
    "    if i[0]=='>':                                                # Look for the line starting with >\n",
    "        df = df.append({\"Cluster\": i[1::]}, ignore_index=True)   # appends the cluster name \n",
    "        strand=''                                                # resets the strand for each cluster \n",
    "        index += 1                                               # Add 1 to index which is used to append the strand for each cluster\n",
    "    else:                                                        # executes every time it doesnt see >, so for all the other lines. \n",
    "        strand += i                                              # adds up the strand until the next cluster is seen \n",
    "        df['strand'][index-1] = strand                           # everytime overrides the strand, until it sees the next cluster name. \n",
    "        "
   ]
  },
  {
   "cell_type": "code",
   "execution_count": 107,
   "metadata": {},
   "outputs": [
    {
     "data": {
      "text/html": [
       "<div>\n",
       "<style scoped>\n",
       "    .dataframe tbody tr th:only-of-type {\n",
       "        vertical-align: middle;\n",
       "    }\n",
       "\n",
       "    .dataframe tbody tr th {\n",
       "        vertical-align: top;\n",
       "    }\n",
       "\n",
       "    .dataframe thead th {\n",
       "        text-align: right;\n",
       "    }\n",
       "</style>\n",
       "<table border=\"1\" class=\"dataframe\">\n",
       "  <thead>\n",
       "    <tr style=\"text-align: right;\">\n",
       "      <th></th>\n",
       "      <th>Cluster</th>\n",
       "      <th>strand</th>\n",
       "    </tr>\n",
       "  </thead>\n",
       "  <tbody>\n",
       "    <tr>\n",
       "      <th>0</th>\n",
       "      <td>Rosalind_6404</td>\n",
       "      <td>CCTGCGGAAGATCGGCACTAGAATAGCCAGAACCGTTTCTCTGAGG...</td>\n",
       "    </tr>\n",
       "    <tr>\n",
       "      <th>1</th>\n",
       "      <td>Rosalind_5959</td>\n",
       "      <td>CCATCGGTAGCGCATCCTTAGTCCAATTAAGTCCCTATCCAGGCGC...</td>\n",
       "    </tr>\n",
       "    <tr>\n",
       "      <th>2</th>\n",
       "      <td>Rosalind_0808</td>\n",
       "      <td>CCACCCTCGTGGTATGGCTAGGCATTCAGGAACCGGAGAACGCTTC...</td>\n",
       "    </tr>\n",
       "  </tbody>\n",
       "</table>\n",
       "</div>"
      ],
      "text/plain": [
       "         Cluster                                             strand\n",
       "0  Rosalind_6404  CCTGCGGAAGATCGGCACTAGAATAGCCAGAACCGTTTCTCTGAGG...\n",
       "1  Rosalind_5959  CCATCGGTAGCGCATCCTTAGTCCAATTAAGTCCCTATCCAGGCGC...\n",
       "2  Rosalind_0808  CCACCCTCGTGGTATGGCTAGGCATTCAGGAACCGGAGAACGCTTC..."
      ]
     },
     "execution_count": 107,
     "metadata": {},
     "output_type": "execute_result"
    }
   ],
   "source": [
    "df"
   ]
  },
  {
   "cell_type": "markdown",
   "metadata": {},
   "source": [
    "Now lets add other metric of the strand to each row through a for loop: \n",
    "\n",
    "We will the iterrows() function in the for loop that goes row by row and outputs the index of the row and the row value across the columns"
   ]
  },
  {
   "cell_type": "code",
   "execution_count": 108,
   "metadata": {},
   "outputs": [
    {
     "data": {
      "text/html": [
       "<div>\n",
       "<style scoped>\n",
       "    .dataframe tbody tr th:only-of-type {\n",
       "        vertical-align: middle;\n",
       "    }\n",
       "\n",
       "    .dataframe tbody tr th {\n",
       "        vertical-align: top;\n",
       "    }\n",
       "\n",
       "    .dataframe thead th {\n",
       "        text-align: right;\n",
       "    }\n",
       "</style>\n",
       "<table border=\"1\" class=\"dataframe\">\n",
       "  <thead>\n",
       "    <tr style=\"text-align: right;\">\n",
       "      <th></th>\n",
       "      <th>Cluster</th>\n",
       "      <th>strand</th>\n",
       "      <th>length</th>\n",
       "      <th>A_count</th>\n",
       "      <th>T_count</th>\n",
       "      <th>G_count</th>\n",
       "      <th>C_count</th>\n",
       "      <th>GC%</th>\n",
       "    </tr>\n",
       "  </thead>\n",
       "  <tbody>\n",
       "    <tr>\n",
       "      <th>0</th>\n",
       "      <td>Rosalind_6404</td>\n",
       "      <td>CCTGCGGAAGATCGGCACTAGAATAGCCAGAACCGTTTCTCTGAGG...</td>\n",
       "      <td>0</td>\n",
       "      <td>0</td>\n",
       "      <td>0</td>\n",
       "      <td>0</td>\n",
       "      <td>0</td>\n",
       "      <td>0</td>\n",
       "    </tr>\n",
       "    <tr>\n",
       "      <th>1</th>\n",
       "      <td>Rosalind_5959</td>\n",
       "      <td>CCATCGGTAGCGCATCCTTAGTCCAATTAAGTCCCTATCCAGGCGC...</td>\n",
       "      <td>0</td>\n",
       "      <td>0</td>\n",
       "      <td>0</td>\n",
       "      <td>0</td>\n",
       "      <td>0</td>\n",
       "      <td>0</td>\n",
       "    </tr>\n",
       "    <tr>\n",
       "      <th>2</th>\n",
       "      <td>Rosalind_0808</td>\n",
       "      <td>CCACCCTCGTGGTATGGCTAGGCATTCAGGAACCGGAGAACGCTTC...</td>\n",
       "      <td>0</td>\n",
       "      <td>0</td>\n",
       "      <td>0</td>\n",
       "      <td>0</td>\n",
       "      <td>0</td>\n",
       "      <td>0</td>\n",
       "    </tr>\n",
       "  </tbody>\n",
       "</table>\n",
       "</div>"
      ],
      "text/plain": [
       "         Cluster                                             strand  length  \\\n",
       "0  Rosalind_6404  CCTGCGGAAGATCGGCACTAGAATAGCCAGAACCGTTTCTCTGAGG...       0   \n",
       "1  Rosalind_5959  CCATCGGTAGCGCATCCTTAGTCCAATTAAGTCCCTATCCAGGCGC...       0   \n",
       "2  Rosalind_0808  CCACCCTCGTGGTATGGCTAGGCATTCAGGAACCGGAGAACGCTTC...       0   \n",
       "\n",
       "   A_count  T_count  G_count  C_count  GC%  \n",
       "0        0        0        0        0    0  \n",
       "1        0        0        0        0    0  \n",
       "2        0        0        0        0    0  "
      ]
     },
     "execution_count": 108,
     "metadata": {},
     "output_type": "execute_result"
    }
   ],
   "source": [
    "df['length'] = 0 \n",
    "df['A_count'] = 0 \n",
    "df['T_count'] = 0 \n",
    "df['G_count'] = 0 \n",
    "df['C_count'] = 0 \n",
    "df['GC%'] = 0\n",
    "df "
   ]
  },
  {
   "cell_type": "code",
   "execution_count": 109,
   "metadata": {},
   "outputs": [],
   "source": [
    "for index, row in df.iterrows(): \n",
    "    df.loc[index, 'length'] = len(row['strand'])\n",
    "    df.loc[index, 'A_count'] = row['strand'].count('A')\n",
    "    df.loc[index, 'T_count'] = row['strand'].count('T')\n",
    "    df.loc[index, 'G_count'] = row['strand'].count('G')\n",
    "    df.loc[index, 'C_count'] = row['strand'].count('C')\n",
    "    df.loc[index, 'GC%'] = ((row['strand'].count('G') + row['strand'].count('C'))/len(row['strand'])) * 100  #((G+C)/Total)*100"
   ]
  },
  {
   "cell_type": "code",
   "execution_count": 146,
   "metadata": {},
   "outputs": [
    {
     "data": {
      "text/html": [
       "<div>\n",
       "<style scoped>\n",
       "    .dataframe tbody tr th:only-of-type {\n",
       "        vertical-align: middle;\n",
       "    }\n",
       "\n",
       "    .dataframe tbody tr th {\n",
       "        vertical-align: top;\n",
       "    }\n",
       "\n",
       "    .dataframe thead th {\n",
       "        text-align: right;\n",
       "    }\n",
       "</style>\n",
       "<table border=\"1\" class=\"dataframe\">\n",
       "  <thead>\n",
       "    <tr style=\"text-align: right;\">\n",
       "      <th></th>\n",
       "      <th>Cluster</th>\n",
       "      <th>strand</th>\n",
       "      <th>length</th>\n",
       "      <th>A_count</th>\n",
       "      <th>T_count</th>\n",
       "      <th>G_count</th>\n",
       "      <th>C_count</th>\n",
       "      <th>GC%</th>\n",
       "    </tr>\n",
       "  </thead>\n",
       "  <tbody>\n",
       "    <tr>\n",
       "      <th>0</th>\n",
       "      <td>Rosalind_6404</td>\n",
       "      <td>CCTGCGGAAGATCGGCACTAGAATAGCCAGAACCGTTTCTCTGAGG...</td>\n",
       "      <td>80</td>\n",
       "      <td>18</td>\n",
       "      <td>19</td>\n",
       "      <td>18</td>\n",
       "      <td>25</td>\n",
       "      <td>53.750000</td>\n",
       "    </tr>\n",
       "    <tr>\n",
       "      <th>1</th>\n",
       "      <td>Rosalind_5959</td>\n",
       "      <td>CCATCGGTAGCGCATCCTTAGTCCAATTAAGTCCCTATCCAGGCGC...</td>\n",
       "      <td>84</td>\n",
       "      <td>19</td>\n",
       "      <td>20</td>\n",
       "      <td>17</td>\n",
       "      <td>28</td>\n",
       "      <td>53.571429</td>\n",
       "    </tr>\n",
       "    <tr>\n",
       "      <th>2</th>\n",
       "      <td>Rosalind_0808</td>\n",
       "      <td>CCACCCTCGTGGTATGGCTAGGCATTCAGGAACCGGAGAACGCTTC...</td>\n",
       "      <td>87</td>\n",
       "      <td>20</td>\n",
       "      <td>14</td>\n",
       "      <td>29</td>\n",
       "      <td>24</td>\n",
       "      <td>60.919540</td>\n",
       "    </tr>\n",
       "  </tbody>\n",
       "</table>\n",
       "</div>"
      ],
      "text/plain": [
       "         Cluster                                             strand  length  \\\n",
       "0  Rosalind_6404  CCTGCGGAAGATCGGCACTAGAATAGCCAGAACCGTTTCTCTGAGG...      80   \n",
       "1  Rosalind_5959  CCATCGGTAGCGCATCCTTAGTCCAATTAAGTCCCTATCCAGGCGC...      84   \n",
       "2  Rosalind_0808  CCACCCTCGTGGTATGGCTAGGCATTCAGGAACCGGAGAACGCTTC...      87   \n",
       "\n",
       "   A_count  T_count  G_count  C_count        GC%  \n",
       "0       18       19       18       25  53.750000  \n",
       "1       19       20       17       28  53.571429  \n",
       "2       20       14       29       24  60.919540  "
      ]
     },
     "execution_count": 146,
     "metadata": {},
     "output_type": "execute_result"
    }
   ],
   "source": [
    "df"
   ]
  },
  {
   "cell_type": "code",
   "execution_count": 153,
   "metadata": {},
   "outputs": [
    {
     "data": {
      "text/html": [
       "<div>\n",
       "<style scoped>\n",
       "    .dataframe tbody tr th:only-of-type {\n",
       "        vertical-align: middle;\n",
       "    }\n",
       "\n",
       "    .dataframe tbody tr th {\n",
       "        vertical-align: top;\n",
       "    }\n",
       "\n",
       "    .dataframe thead th {\n",
       "        text-align: right;\n",
       "    }\n",
       "</style>\n",
       "<table border=\"1\" class=\"dataframe\">\n",
       "  <thead>\n",
       "    <tr style=\"text-align: right;\">\n",
       "      <th></th>\n",
       "      <th>Cluster</th>\n",
       "      <th>strand</th>\n",
       "      <th>length</th>\n",
       "      <th>A_count</th>\n",
       "      <th>T_count</th>\n",
       "      <th>G_count</th>\n",
       "      <th>C_count</th>\n",
       "      <th>GC%</th>\n",
       "    </tr>\n",
       "  </thead>\n",
       "  <tbody>\n",
       "    <tr>\n",
       "      <th>0</th>\n",
       "      <td>Rosalind_6404</td>\n",
       "      <td>CCTGCGGAAGATCGGCACTAGAATAGCCAGAACCGTTTCTCTGAGG...</td>\n",
       "      <td>80</td>\n",
       "      <td>18</td>\n",
       "      <td>19</td>\n",
       "      <td>18</td>\n",
       "      <td>25</td>\n",
       "      <td>53.750000</td>\n",
       "    </tr>\n",
       "    <tr>\n",
       "      <th>1</th>\n",
       "      <td>Rosalind_5959</td>\n",
       "      <td>CCATCGGTAGCGCATCCTTAGTCCAATTAAGTCCCTATCCAGGCGC...</td>\n",
       "      <td>84</td>\n",
       "      <td>19</td>\n",
       "      <td>20</td>\n",
       "      <td>17</td>\n",
       "      <td>28</td>\n",
       "      <td>53.571429</td>\n",
       "    </tr>\n",
       "    <tr>\n",
       "      <th>2</th>\n",
       "      <td>Rosalind_0808</td>\n",
       "      <td>CCACCCTCGTGGTATGGCTAGGCATTCAGGAACCGGAGAACGCTTC...</td>\n",
       "      <td>87</td>\n",
       "      <td>20</td>\n",
       "      <td>14</td>\n",
       "      <td>29</td>\n",
       "      <td>24</td>\n",
       "      <td>60.919540</td>\n",
       "    </tr>\n",
       "  </tbody>\n",
       "</table>\n",
       "</div>"
      ],
      "text/plain": [
       "         Cluster                                             strand  length  \\\n",
       "0  Rosalind_6404  CCTGCGGAAGATCGGCACTAGAATAGCCAGAACCGTTTCTCTGAGG...      80   \n",
       "1  Rosalind_5959  CCATCGGTAGCGCATCCTTAGTCCAATTAAGTCCCTATCCAGGCGC...      84   \n",
       "2  Rosalind_0808  CCACCCTCGTGGTATGGCTAGGCATTCAGGAACCGGAGAACGCTTC...      87   \n",
       "\n",
       "   A_count  T_count  G_count  C_count        GC%  \n",
       "0       18       19       18       25  53.750000  \n",
       "1       19       20       17       28  53.571429  \n",
       "2       20       14       29       24  60.919540  "
      ]
     },
     "execution_count": 153,
     "metadata": {},
     "output_type": "execute_result"
    }
   ],
   "source": [
    "df.sort_values(by=['length'])"
   ]
  },
  {
   "cell_type": "markdown",
   "metadata": {},
   "source": [
    "Now that we have the entire Dataframe, we can use a simple pandas command to find the highest GC content among all the strands. "
   ]
  },
  {
   "cell_type": "code",
   "execution_count": 149,
   "metadata": {},
   "outputs": [
    {
     "data": {
      "text/html": [
       "<div>\n",
       "<style scoped>\n",
       "    .dataframe tbody tr th:only-of-type {\n",
       "        vertical-align: middle;\n",
       "    }\n",
       "\n",
       "    .dataframe tbody tr th {\n",
       "        vertical-align: top;\n",
       "    }\n",
       "\n",
       "    .dataframe thead th {\n",
       "        text-align: right;\n",
       "    }\n",
       "</style>\n",
       "<table border=\"1\" class=\"dataframe\">\n",
       "  <thead>\n",
       "    <tr style=\"text-align: right;\">\n",
       "      <th></th>\n",
       "      <th>Cluster</th>\n",
       "      <th>strand</th>\n",
       "      <th>length</th>\n",
       "      <th>A_count</th>\n",
       "      <th>T_count</th>\n",
       "      <th>G_count</th>\n",
       "      <th>C_count</th>\n",
       "      <th>GC%</th>\n",
       "    </tr>\n",
       "  </thead>\n",
       "  <tbody>\n",
       "    <tr>\n",
       "      <th>2</th>\n",
       "      <td>Rosalind_0808</td>\n",
       "      <td>CCACCCTCGTGGTATGGCTAGGCATTCAGGAACCGGAGAACGCTTC...</td>\n",
       "      <td>87</td>\n",
       "      <td>20</td>\n",
       "      <td>14</td>\n",
       "      <td>29</td>\n",
       "      <td>24</td>\n",
       "      <td>60.91954</td>\n",
       "    </tr>\n",
       "  </tbody>\n",
       "</table>\n",
       "</div>"
      ],
      "text/plain": [
       "         Cluster                                             strand  length  \\\n",
       "2  Rosalind_0808  CCACCCTCGTGGTATGGCTAGGCATTCAGGAACCGGAGAACGCTTC...      87   \n",
       "\n",
       "   A_count  T_count  G_count  C_count       GC%  \n",
       "2       20       14       29       24  60.91954  "
      ]
     },
     "execution_count": 149,
     "metadata": {},
     "output_type": "execute_result"
    }
   ],
   "source": [
    "df_highest = df.nlargest(1, 'GC%')\n",
    "df_highest"
   ]
  },
  {
   "cell_type": "markdown",
   "metadata": {},
   "source": [
    "## Data Output"
   ]
  },
  {
   "cell_type": "code",
   "execution_count": 150,
   "metadata": {},
   "outputs": [],
   "source": [
    "outF = open(\"Output_Data/SampleOutput.txt\", \"w\")\n",
    "for i, row in df_highest.iterrows():\n",
    "    outF.write(row['Cluster'])\n",
    "    outF.write('\\n')\n",
    "    outF.write(str(row['GC%']))\n",
    "outF.close()"
   ]
  },
  {
   "cell_type": "markdown",
   "metadata": {},
   "source": [
    "## Data Visulization"
   ]
  },
  {
   "cell_type": "code",
   "execution_count": 111,
   "metadata": {},
   "outputs": [],
   "source": [
    "import matplotlib.pyplot as plt"
   ]
  },
  {
   "cell_type": "code",
   "execution_count": 152,
   "metadata": {},
   "outputs": [
    {
     "data": {
      "image/png": "[encoded data removed]",
      "text/plain": [
       "<Figure size 432x288 with 1 Axes>"
      ]
     },
     "metadata": {
      "needs_background": "light"
     },
     "output_type": "display_data"
    }
   ],
   "source": [
    "ax = plt.gca()\n",
    "df.plot(kind='scatter',x='length',y='GC%',color='red', ylim=(0,100), ax=ax)\n",
    "df.plot(kind='line',x='length',y='GC%', ylim=(0,100), ax=ax)\n",
    "\n",
    "for x,y in zip(df['length'], df['GC%']):\n",
    "\n",
    "    label = \"{:.2f}\".format(y)\n",
    "\n",
    "    plt.annotate(label, # this is the text\n",
    "                 (x,y), # this is the point to label\n",
    "                 textcoords=\"offset points\", # how to position the text\n",
    "                 xytext=(0,10), # distance from text to points (x,y)\n",
    "                 ha='center') # horizontal alignment can be left, right or center\n",
    "\n",
    "plt.xlabel('Total No. of Nucleotide')\n",
    "plt.ylabel('GC content %')    \n",
    "\n",
    "plt.savefig(\"Visualization/SampleOutput.png\")"
   ]
  },
  {
   "cell_type": "code",
   "execution_count": null,
   "metadata": {},
   "outputs": [],
   "source": []
  }
 ],
 "metadata": {
  "kernelspec": {
   "display_name": "Python 3",
   "language": "python",
   "name": "python3"
  },
  "language_info": {
   "codemirror_mode": {
    "name": "ipython",
    "version": 3
   },
   "file_extension": ".py",
   "mimetype": "text/x-python",
   "name": "python",
   "nbconvert_exporter": "python",
   "pygments_lexer": "ipython3",
   "version": "3.7.6"
  }
 },
 "nbformat": 4,
 "nbformat_minor": 4
}
